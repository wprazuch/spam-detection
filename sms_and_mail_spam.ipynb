{
 "metadata": {
  "language_info": {
   "codemirror_mode": {
    "name": "ipython",
    "version": 3
   },
   "file_extension": ".py",
   "mimetype": "text/x-python",
   "name": "python",
   "nbconvert_exporter": "python",
   "pygments_lexer": "ipython3",
   "version": "3.6.10-final"
  },
  "orig_nbformat": 2,
  "kernelspec": {
   "name": "Python 3.6.10 64-bit ('deeplearning': conda)",
   "display_name": "Python 3.6.10 64-bit ('deeplearning': conda)",
   "metadata": {
    "interpreter": {
     "hash": "94798a07477d283dccef05b0adbefc0f5fa0f7f1dab85cfae6230d25b548a807"
    }
   }
  }
 },
 "nbformat": 4,
 "nbformat_minor": 2,
 "cells": [
  {
   "cell_type": "code",
   "execution_count": 1,
   "metadata": {},
   "outputs": [],
   "source": [
    "import numpy as np\n",
    "import pandas as pd\n",
    "\n",
    "from sklearn.model_selection import train_test_split\n",
    "from tensorflow.keras.preprocessing.text import Tokenizer\n",
    "from tensorflow.keras.preprocessing.sequence import pad_sequences\n",
    "import matplotlib.pyplot as plt\n",
    "from collections import Counter\n",
    "\n",
    "from spam_detection.models import simple_lstm_model"
   ]
  },
  {
   "source": [
    "Let's add paths to our datasets and load them"
   ],
   "cell_type": "markdown",
   "metadata": {}
  },
  {
   "cell_type": "code",
   "execution_count": 2,
   "metadata": {},
   "outputs": [],
   "source": [
    "sms_data_path = r'datasets/sms-spam-collection/spam.csv'\n",
    "mail_data_path = r'datasets\\mail-spam-collection\\spam_ham_dataset.csv'\n",
    "\n",
    "sms_df = pd.read_csv(sms_data_path, engine='python')\n",
    "mail_spam_df = pd.read_csv(mail_data_path)\n",
    "\n",
    "x_sms, y_sms = sms_df['v2'].values, sms_df['v1'].values\n",
    "x_mail, y_mail = mail_spam_df['text'].values, mail_spam_df['label_num'].values\n",
    "\n",
    "y_sms[y_sms=='ham'] = 0\n",
    "y_sms[y_sms=='spam'] = 1\n",
    "\n",
    "y_sms = y_sms.astype(np.float32)\n",
    "y_mail = y_mail.astype(np.float32)"
   ]
  },
  {
   "source": [
    "We did not use LabelEncoder this time, we just substituted string values with binary coding. But generally, it is advised to use LabelEncoder class"
   ],
   "cell_type": "markdown",
   "metadata": {}
  },
  {
   "source": [
    "In the previous notebook, we trained a perfect sms spam detection model, however, it did poorly on e-mails. We quickly found problems - first, the vocab for e-mails was different, but the model knew only vocab for sms. Secondly, we saw from histogram that e-mails tend to be longer than sms messages"
   ],
   "cell_type": "markdown",
   "metadata": {}
  },
  {
   "source": [
    "We are going to perform an experiment - let's take whole vocab of words from sms as well as e-mail, let's train the model on sms data, and then check how it does on e-mails"
   ],
   "cell_type": "markdown",
   "metadata": {}
  },
  {
   "cell_type": "code",
   "execution_count": 3,
   "metadata": {},
   "outputs": [],
   "source": [
    "X, y = np.hstack([x_sms, x_mail]), np.hstack([y_sms, y_mail])"
   ]
  },
  {
   "cell_type": "code",
   "execution_count": 4,
   "metadata": {},
   "outputs": [],
   "source": [
    "X_train, X_test, y_train, y_test = train_test_split(X, y, stratify=y, test_size=0.2, random_state=1)"
   ]
  },
  {
   "source": [
    "This time, we will use beatufil class of Tokenizer, which does all encoding&decoding for us. We do not need to create all the funcs and logic by ourselves."
   ],
   "cell_type": "markdown",
   "metadata": {}
  },
  {
   "cell_type": "code",
   "execution_count": 5,
   "metadata": {},
   "outputs": [],
   "source": [
    "tokenizer = Tokenizer()\n",
    "tokenizer.fit_on_texts(X_train)\n",
    "\n",
    "num_words = len(tokenizer.word_counts)+1"
   ]
  },
  {
   "source": [
    "Now the tokenizer created encodings for the whole train, namely 80% of sms and mail data. Actually, it's not perfectly 80% of both mail and sms, but something about it. You may check the number of observations of both datasets, they are quite close in number."
   ],
   "cell_type": "markdown",
   "metadata": {}
  },
  {
   "source": [
    "Let's now generate our training data, sms data"
   ],
   "cell_type": "markdown",
   "metadata": {}
  },
  {
   "cell_type": "code",
   "execution_count": 6,
   "metadata": {},
   "outputs": [],
   "source": [
    "x_sms_encoded = tokenizer.texts_to_sequences(x_sms)\n",
    "x_mail_encoded = tokenizer.texts_to_sequences(x_mail)"
   ]
  },
  {
   "source": [
    "And pad it, again to MAX_LEN=100 (we fix one degree of freedom)"
   ],
   "cell_type": "markdown",
   "metadata": {}
  },
  {
   "cell_type": "code",
   "execution_count": 7,
   "metadata": {},
   "outputs": [],
   "source": [
    "MAX_LEN=100"
   ]
  },
  {
   "cell_type": "code",
   "execution_count": 8,
   "metadata": {},
   "outputs": [],
   "source": [
    "x_sms_encoded_padded = np.array(pad_sequences(x_sms_encoded, MAX_LEN))\n",
    "x_mail_encoded_padded = np.array(pad_sequences(x_mail_encoded, MAX_LEN))"
   ]
  },
  {
   "cell_type": "code",
   "execution_count": 9,
   "metadata": {
    "tags": []
   },
   "outputs": [
    {
     "output_type": "stream",
     "name": "stdout",
     "text": "Model: &quot;sequential&quot;\n_________________________________________________________________\nLayer (type)                 Output Shape              Param #   \n=================================================================\nembedding (Embedding)        (None, 100, 16)           865424    \n_________________________________________________________________\nlstm (LSTM)                  (None, 32)                6272      \n_________________________________________________________________\ndense (Dense)                (None, 256)               8448      \n_________________________________________________________________\ndropout (Dropout)            (None, 256)               0         \n_________________________________________________________________\ndense_1 (Dense)              (None, 1)                 257       \n=================================================================\nTotal params: 880,401\nTrainable params: 880,401\nNon-trainable params: 0\n_________________________________________________________________\n"
    }
   ],
   "source": [
    "model = simple_lstm_model(num_words=num_words, max_len=MAX_LEN)\n",
    "model.summary()"
   ]
  },
  {
   "cell_type": "code",
   "execution_count": 10,
   "metadata": {
    "tags": []
   },
   "outputs": [
    {
     "output_type": "stream",
     "name": "stdout",
     "text": "Epoch 1/10\n140/140 [==============================] - 2s 13ms/step - loss: 0.1947 - accuracy: 0.9349 - val_loss: 0.0583 - val_accuracy: 0.9812\nEpoch 2/10\n140/140 [==============================] - 2s 12ms/step - loss: 0.0436 - accuracy: 0.9868 - val_loss: 0.0485 - val_accuracy: 0.9865\nEpoch 3/10\n140/140 [==============================] - 2s 11ms/step - loss: 0.0316 - accuracy: 0.9917 - val_loss: 0.0456 - val_accuracy: 0.9857\nEpoch 4/10\n140/140 [==============================] - 2s 11ms/step - loss: 0.0232 - accuracy: 0.9930 - val_loss: 0.0525 - val_accuracy: 0.9848\nEpoch 5/10\n140/140 [==============================] - 2s 11ms/step - loss: 0.0173 - accuracy: 0.9955 - val_loss: 0.0627 - val_accuracy: 0.9785\nEpoch 6/10\n140/140 [==============================] - 2s 11ms/step - loss: 0.0123 - accuracy: 0.9966 - val_loss: 0.0589 - val_accuracy: 0.9830\nEpoch 7/10\n140/140 [==============================] - 2s 11ms/step - loss: 0.0091 - accuracy: 0.9971 - val_loss: 0.0618 - val_accuracy: 0.9839\nEpoch 8/10\n140/140 [==============================] - 2s 11ms/step - loss: 0.0067 - accuracy: 0.9984 - val_loss: 0.0729 - val_accuracy: 0.9821\nEpoch 9/10\n140/140 [==============================] - 2s 11ms/step - loss: 0.0073 - accuracy: 0.9984 - val_loss: 0.0807 - val_accuracy: 0.9803\nEpoch 10/10\n140/140 [==============================] - 2s 11ms/step - loss: 0.0046 - accuracy: 0.9989 - val_loss: 0.1094 - val_accuracy: 0.9740\n"
    }
   ],
   "source": [
    "history = model.fit(x_sms_encoded_padded, y_sms, epochs=10, batch_size=32, validation_split=0.2)"
   ]
  },
  {
   "cell_type": "code",
   "execution_count": 11,
   "metadata": {
    "tags": []
   },
   "outputs": [
    {
     "output_type": "stream",
     "name": "stdout",
     "text": "162/162 [==============================] - 1s 3ms/step - loss: 5.1251 - accuracy: 0.4960\n"
    },
    {
     "output_type": "execute_result",
     "data": {
      "text/plain": "[5.1251325607299805, 0.4960355758666992]"
     },
     "metadata": {},
     "execution_count": 11
    }
   ],
   "source": [
    "model.evaluate(x_mail_encoded_padded, y_mail)"
   ]
  },
  {
   "source": [
    "It still does not have a clue! Even worse, the evaluation deteriorated due to increases size of the embedding. The reason for that is that even if we include the words from e-mails, these words will never be used in training data, as the training data consists entirely from sms messages"
   ],
   "cell_type": "markdown",
   "metadata": {}
  },
  {
   "source": [
    "The only way to train a reasonable model is to include mails in all steps - in training, validation and test sets. The  we will check how MAX_LEN affects the model performance"
   ],
   "cell_type": "markdown",
   "metadata": {}
  },
  {
   "cell_type": "code",
   "execution_count": 12,
   "metadata": {},
   "outputs": [],
   "source": [
    "X_encoded = tokenizer.texts_to_sequences(X_train)\n",
    "X_encoded_test = tokenizer.texts_to_sequences(X_test)"
   ]
  },
  {
   "cell_type": "code",
   "execution_count": 13,
   "metadata": {},
   "outputs": [],
   "source": [
    "X_encoded_padded = np.array(pad_sequences(X_encoded, MAX_LEN))\n",
    "X_test_encoded_padded = np.array(pad_sequences(X_encoded_test, MAX_LEN))"
   ]
  },
  {
   "cell_type": "code",
   "execution_count": 14,
   "metadata": {
    "tags": []
   },
   "outputs": [
    {
     "output_type": "stream",
     "name": "stdout",
     "text": "Model: &quot;sequential_1&quot;\n_________________________________________________________________\nLayer (type)                 Output Shape              Param #   \n=================================================================\nembedding_1 (Embedding)      (None, 100, 16)           865424    \n_________________________________________________________________\nlstm_1 (LSTM)                (None, 32)                6272      \n_________________________________________________________________\ndense_2 (Dense)              (None, 256)               8448      \n_________________________________________________________________\ndropout_1 (Dropout)          (None, 256)               0         \n_________________________________________________________________\ndense_3 (Dense)              (None, 1)                 257       \n=================================================================\nTotal params: 880,401\nTrainable params: 880,401\nNon-trainable params: 0\n_________________________________________________________________\n"
    }
   ],
   "source": [
    "model = simple_lstm_model(num_words=num_words, max_len=MAX_LEN)\n",
    "model.summary()"
   ]
  },
  {
   "cell_type": "code",
   "execution_count": 15,
   "metadata": {
    "tags": []
   },
   "outputs": [
    {
     "output_type": "stream",
     "name": "stdout",
     "text": "Epoch 1/10\n215/215 [==============================] - 3s 13ms/step - loss: 0.2574 - accuracy: 0.8961 - val_loss: 0.1240 - val_accuracy: 0.9535\nEpoch 2/10\n215/215 [==============================] - 2s 11ms/step - loss: 0.0773 - accuracy: 0.9753 - val_loss: 0.0958 - val_accuracy: 0.9645\nEpoch 3/10\n215/215 [==============================] - 2s 11ms/step - loss: 0.0433 - accuracy: 0.9846 - val_loss: 0.1372 - val_accuracy: 0.9593\nEpoch 4/10\n215/215 [==============================] - 2s 11ms/step - loss: 0.0311 - accuracy: 0.9903 - val_loss: 0.0983 - val_accuracy: 0.9674\nEpoch 5/10\n215/215 [==============================] - 2s 11ms/step - loss: 0.0192 - accuracy: 0.9943 - val_loss: 0.0944 - val_accuracy: 0.9796\nEpoch 6/10\n215/215 [==============================] - 2s 11ms/step - loss: 0.0140 - accuracy: 0.9964 - val_loss: 0.1173 - val_accuracy: 0.9761\nEpoch 7/10\n215/215 [==============================] - 2s 11ms/step - loss: 0.0106 - accuracy: 0.9974 - val_loss: 0.1412 - val_accuracy: 0.9779\nEpoch 8/10\n215/215 [==============================] - 2s 12ms/step - loss: 0.0125 - accuracy: 0.9980 - val_loss: 0.1328 - val_accuracy: 0.9773\nEpoch 9/10\n215/215 [==============================] - 2s 11ms/step - loss: 0.0047 - accuracy: 0.9984 - val_loss: 0.1465 - val_accuracy: 0.9709\nEpoch 10/10\n215/215 [==============================] - 2s 11ms/step - loss: 0.0046 - accuracy: 0.9990 - val_loss: 0.1642 - val_accuracy: 0.9744\n"
    }
   ],
   "source": [
    "history = model.fit(X_encoded_padded, y_train, epochs=10, batch_size=32, validation_split=0.2)"
   ]
  },
  {
   "cell_type": "code",
   "execution_count": 16,
   "metadata": {
    "tags": []
   },
   "outputs": [
    {
     "output_type": "stream",
     "name": "stdout",
     "text": "68/68 [==============================] - 0s 3ms/step - loss: 0.2117 - accuracy: 0.9763\n"
    },
    {
     "output_type": "execute_result",
     "data": {
      "text/plain": "[0.21166716516017914, 0.9762680530548096]"
     },
     "metadata": {},
     "execution_count": 16
    }
   ],
   "source": [
    "model.evaluate(X_test_encoded_padded, y_test)"
   ]
  },
  {
   "source": [
    "Hurray! Our model does well on both sms and mail data! And even MAX_LEN of 100 gives great results. Finally, to calm our minds we can quickly just check how it affects the model's performance"
   ],
   "cell_type": "markdown",
   "metadata": {}
  },
  {
   "source": [
    "Let's define a high level function to speed things up!"
   ],
   "cell_type": "markdown",
   "metadata": {}
  },
  {
   "cell_type": "code",
   "execution_count": 17,
   "metadata": {},
   "outputs": [],
   "source": [
    "def preprocess_data(data, max_len):\n",
    "    data_encoded = tokenizer.texts_to_sequences(data)\n",
    "    data_encoded_padded = np.array(pad_sequences(data_encoded, max_len))\n",
    "    return data_encoded_padded"
   ]
  },
  {
   "cell_type": "code",
   "execution_count": 18,
   "metadata": {},
   "outputs": [],
   "source": [
    "max_lens = [1, 3, 5, 10, 20, 50, 100, 150]"
   ]
  },
  {
   "cell_type": "code",
   "execution_count": 19,
   "metadata": {
    "tags": []
   },
   "outputs": [
    {
     "output_type": "stream",
     "name": "stdout",
     "text": "Epoch 1/10\n215/215 [==============================] - 2s 10ms/step - loss: 0.4485 - accuracy: 0.8150 - val_loss: 0.3570 - val_accuracy: 0.8534\nEpoch 2/10\n215/215 [==============================] - 2s 9ms/step - loss: 0.2876 - accuracy: 0.8804 - val_loss: 0.3401 - val_accuracy: 0.8493\nEpoch 3/10\n215/215 [==============================] - 2s 9ms/step - loss: 0.2277 - accuracy: 0.9206 - val_loss: 0.3354 - val_accuracy: 0.8534\nEpoch 4/10\n215/215 [==============================] - 2s 9ms/step - loss: 0.1856 - accuracy: 0.9462 - val_loss: 0.3451 - val_accuracy: 0.8610\nEpoch 5/10\n215/215 [==============================] - 2s 9ms/step - loss: 0.1620 - accuracy: 0.9622 - val_loss: 0.3591 - val_accuracy: 0.8464\nEpoch 6/10\n215/215 [==============================] - 2s 9ms/step - loss: 0.1463 - accuracy: 0.9674 - val_loss: 0.3523 - val_accuracy: 0.8458\nEpoch 7/10\n215/215 [==============================] - 2s 9ms/step - loss: 0.1362 - accuracy: 0.9708 - val_loss: 0.3448 - val_accuracy: 0.8470\nEpoch 8/10\n215/215 [==============================] - 2s 9ms/step - loss: 0.1301 - accuracy: 0.9711 - val_loss: 0.3370 - val_accuracy: 0.8493\nEpoch 9/10\n215/215 [==============================] - 2s 9ms/step - loss: 0.1239 - accuracy: 0.9712 - val_loss: 0.3440 - val_accuracy: 0.8435\nEpoch 10/10\n215/215 [==============================] - 2s 9ms/step - loss: 0.1215 - accuracy: 0.9715 - val_loss: 0.3319 - val_accuracy: 0.8476\n68/68 [==============================] - 0s 2ms/step - loss: 0.3608 - accuracy: 0.8581\nEpoch 1/10\n215/215 [==============================] - 2s 10ms/step - loss: 0.4209 - accuracy: 0.8176 - val_loss: 0.3043 - val_accuracy: 0.8802\nEpoch 2/10\n215/215 [==============================] - 2s 9ms/step - loss: 0.2268 - accuracy: 0.9143 - val_loss: 0.2512 - val_accuracy: 0.8970\nEpoch 3/10\n215/215 [==============================] - 2s 9ms/step - loss: 0.1627 - accuracy: 0.9440 - val_loss: 0.2468 - val_accuracy: 0.9046\nEpoch 4/10\n215/215 [==============================] - 2s 9ms/step - loss: 0.1332 - accuracy: 0.9572 - val_loss: 0.2404 - val_accuracy: 0.9087\nEpoch 5/10\n215/215 [==============================] - 2s 9ms/step - loss: 0.1143 - accuracy: 0.9642 - val_loss: 0.2370 - val_accuracy: 0.9139\nEpoch 6/10\n215/215 [==============================] - 2s 9ms/step - loss: 0.1011 - accuracy: 0.9692 - val_loss: 0.2354 - val_accuracy: 0.9151\nEpoch 7/10\n215/215 [==============================] - 2s 9ms/step - loss: 0.0900 - accuracy: 0.9732 - val_loss: 0.2485 - val_accuracy: 0.9151\nEpoch 8/10\n215/215 [==============================] - 2s 9ms/step - loss: 0.0815 - accuracy: 0.9767 - val_loss: 0.2369 - val_accuracy: 0.9162\nEpoch 9/10\n215/215 [==============================] - 2s 9ms/step - loss: 0.0725 - accuracy: 0.9798 - val_loss: 0.2309 - val_accuracy: 0.9156\nEpoch 10/10\n215/215 [==============================] - 2s 9ms/step - loss: 0.0658 - accuracy: 0.9811 - val_loss: 0.2566 - val_accuracy: 0.9127\n68/68 [==============================] - 0s 2ms/step - loss: 0.2553 - accuracy: 0.9167\nEpoch 1/10\n215/215 [==============================] - 2s 11ms/step - loss: 0.3701 - accuracy: 0.8417 - val_loss: 0.2503 - val_accuracy: 0.9081\nEpoch 2/10\n215/215 [==============================] - 2s 9ms/step - loss: 0.1832 - accuracy: 0.9334 - val_loss: 0.2024 - val_accuracy: 0.9244\nEpoch 3/10\n215/215 [==============================] - 2s 9ms/step - loss: 0.1332 - accuracy: 0.9540 - val_loss: 0.1862 - val_accuracy: 0.9319\nEpoch 4/10\n215/215 [==============================] - 2s 9ms/step - loss: 0.1070 - accuracy: 0.9648 - val_loss: 0.1874 - val_accuracy: 0.9337\nEpoch 5/10\n215/215 [==============================] - 2s 9ms/step - loss: 0.0885 - accuracy: 0.9713 - val_loss: 0.1911 - val_accuracy: 0.9314\nEpoch 6/10\n215/215 [==============================] - 2s 9ms/step - loss: 0.0769 - accuracy: 0.9766 - val_loss: 0.1872 - val_accuracy: 0.9378\nEpoch 7/10\n215/215 [==============================] - 2s 9ms/step - loss: 0.0682 - accuracy: 0.9788 - val_loss: 0.2020 - val_accuracy: 0.9331\nEpoch 8/10\n215/215 [==============================] - 2s 9ms/step - loss: 0.0618 - accuracy: 0.9812 - val_loss: 0.1988 - val_accuracy: 0.9372\nEpoch 9/10\n215/215 [==============================] - 2s 9ms/step - loss: 0.0532 - accuracy: 0.9834 - val_loss: 0.1889 - val_accuracy: 0.9383\nEpoch 10/10\n215/215 [==============================] - 2s 9ms/step - loss: 0.0494 - accuracy: 0.9834 - val_loss: 0.1916 - val_accuracy: 0.9354\n 1/68 [..............................] - ETA: 0s - loss: 0.1799 - accuracy: 0.9375WARNING:tensorflow:Callbacks method `on_test_batch_end` is slow compared to the batch time (batch time: 0.0010s vs `on_test_batch_end` time: 0.0020s). Check your callbacks.\n68/68 [==============================] - 0s 2ms/step - loss: 0.1760 - accuracy: 0.9372\nEpoch 1/10\n215/215 [==============================] - 2s 10ms/step - loss: 0.3135 - accuracy: 0.8708 - val_loss: 0.1745 - val_accuracy: 0.9383\nEpoch 2/10\n215/215 [==============================] - 2s 9ms/step - loss: 0.1268 - accuracy: 0.9542 - val_loss: 0.1504 - val_accuracy: 0.9471\nEpoch 3/10\n215/215 [==============================] - 2s 9ms/step - loss: 0.0884 - accuracy: 0.9693 - val_loss: 0.1436 - val_accuracy: 0.9465\nEpoch 4/10\n215/215 [==============================] - 2s 9ms/step - loss: 0.0659 - accuracy: 0.9763 - val_loss: 0.1573 - val_accuracy: 0.9453\nEpoch 5/10\n215/215 [==============================] - 2s 9ms/step - loss: 0.0507 - accuracy: 0.9821 - val_loss: 0.1605 - val_accuracy: 0.9535\nEpoch 6/10\n215/215 [==============================] - 2s 9ms/step - loss: 0.0401 - accuracy: 0.9868 - val_loss: 0.1680 - val_accuracy: 0.9523\nEpoch 7/10\n215/215 [==============================] - 2s 9ms/step - loss: 0.0288 - accuracy: 0.9903 - val_loss: 0.2416 - val_accuracy: 0.9529\nEpoch 8/10\n215/215 [==============================] - 2s 9ms/step - loss: 0.0234 - accuracy: 0.9911 - val_loss: 0.1812 - val_accuracy: 0.9529\nEpoch 9/10\n215/215 [==============================] - 2s 9ms/step - loss: 0.0161 - accuracy: 0.9946 - val_loss: 0.2508 - val_accuracy: 0.9558\nEpoch 10/10\n215/215 [==============================] - 2s 9ms/step - loss: 0.0108 - accuracy: 0.9953 - val_loss: 0.2502 - val_accuracy: 0.9535\n68/68 [==============================] - 0s 2ms/step - loss: 0.1948 - accuracy: 0.9558\nEpoch 1/10\n215/215 [==============================] - 2s 11ms/step - loss: 0.2734 - accuracy: 0.8865 - val_loss: 0.1428 - val_accuracy: 0.9506\nEpoch 2/10\n215/215 [==============================] - 2s 9ms/step - loss: 0.0972 - accuracy: 0.9633 - val_loss: 0.1084 - val_accuracy: 0.9628\nEpoch 3/10\n215/215 [==============================] - 2s 9ms/step - loss: 0.0564 - accuracy: 0.9807 - val_loss: 0.1016 - val_accuracy: 0.9645\nEpoch 4/10\n215/215 [==============================] - 2s 9ms/step - loss: 0.0375 - accuracy: 0.9868 - val_loss: 0.1228 - val_accuracy: 0.9697\nEpoch 5/10\n215/215 [==============================] - 2s 9ms/step - loss: 0.0267 - accuracy: 0.9919 - val_loss: 0.1179 - val_accuracy: 0.9697\nEpoch 6/10\n215/215 [==============================] - 2s 9ms/step - loss: 0.0184 - accuracy: 0.9933 - val_loss: 0.1374 - val_accuracy: 0.9692\nEpoch 7/10\n215/215 [==============================] - 2s 9ms/step - loss: 0.0133 - accuracy: 0.9951 - val_loss: 0.1599 - val_accuracy: 0.9680\nEpoch 8/10\n215/215 [==============================] - 2s 10ms/step - loss: 0.0080 - accuracy: 0.9971 - val_loss: 0.1613 - val_accuracy: 0.9604\nEpoch 9/10\n215/215 [==============================] - 2s 10ms/step - loss: 0.0060 - accuracy: 0.9984 - val_loss: 0.1774 - val_accuracy: 0.9645\nEpoch 10/10\n215/215 [==============================] - 2s 9ms/step - loss: 0.0049 - accuracy: 0.9991 - val_loss: 0.2325 - val_accuracy: 0.9709\n68/68 [==============================] - 0s 2ms/step - loss: 0.2359 - accuracy: 0.9679\nEpoch 1/10\n215/215 [==============================] - 2s 11ms/step - loss: 0.2818 - accuracy: 0.8807 - val_loss: 0.1190 - val_accuracy: 0.9634\nEpoch 2/10\n215/215 [==============================] - 2s 10ms/step - loss: 0.0820 - accuracy: 0.9721 - val_loss: 0.0900 - val_accuracy: 0.9668\nEpoch 3/10\n215/215 [==============================] - 2s 10ms/step - loss: 0.0458 - accuracy: 0.9846 - val_loss: 0.1047 - val_accuracy: 0.9674\nEpoch 4/10\n215/215 [==============================] - 2s 10ms/step - loss: 0.0340 - accuracy: 0.9888 - val_loss: 0.1074 - val_accuracy: 0.9645\nEpoch 5/10\n215/215 [==============================] - 2s 10ms/step - loss: 0.0274 - accuracy: 0.9924 - val_loss: 0.1247 - val_accuracy: 0.9703\nEpoch 6/10\n215/215 [==============================] - 2s 10ms/step - loss: 0.0184 - accuracy: 0.9940 - val_loss: 0.1362 - val_accuracy: 0.9668\nEpoch 7/10\n215/215 [==============================] - 2s 10ms/step - loss: 0.0153 - accuracy: 0.9967 - val_loss: 0.1396 - val_accuracy: 0.9657\nEpoch 8/10\n215/215 [==============================] - 2s 10ms/step - loss: 0.0135 - accuracy: 0.9968 - val_loss: 0.1630 - val_accuracy: 0.9709\nEpoch 9/10\n215/215 [==============================] - 2s 10ms/step - loss: 0.0073 - accuracy: 0.9985 - val_loss: 0.2407 - val_accuracy: 0.9610\nEpoch 10/10\n215/215 [==============================] - 2s 10ms/step - loss: 0.0080 - accuracy: 0.9985 - val_loss: 0.2316 - val_accuracy: 0.9674\n68/68 [==============================] - 0s 3ms/step - loss: 0.2143 - accuracy: 0.9698\nEpoch 1/10\n215/215 [==============================] - 3s 13ms/step - loss: 0.2744 - accuracy: 0.8860 - val_loss: 0.1328 - val_accuracy: 0.9511\nEpoch 2/10\n215/215 [==============================] - 3s 12ms/step - loss: 0.0809 - accuracy: 0.9728 - val_loss: 0.0906 - val_accuracy: 0.9686\nEpoch 3/10\n215/215 [==============================] - 2s 11ms/step - loss: 0.0470 - accuracy: 0.9856 - val_loss: 0.0856 - val_accuracy: 0.9686\nEpoch 4/10\n215/215 [==============================] - 3s 12ms/step - loss: 0.0291 - accuracy: 0.9911 - val_loss: 0.1046 - val_accuracy: 0.9761\nEpoch 5/10\n215/215 [==============================] - 3s 12ms/step - loss: 0.0199 - accuracy: 0.9940 - val_loss: 0.1013 - val_accuracy: 0.9727\nEpoch 6/10\n215/215 [==============================] - 3s 12ms/step - loss: 0.0134 - accuracy: 0.9955 - val_loss: 0.1040 - val_accuracy: 0.9785\nEpoch 7/10\n215/215 [==============================] - 2s 11ms/step - loss: 0.0093 - accuracy: 0.9972 - val_loss: 0.1192 - val_accuracy: 0.9779\nEpoch 8/10\n215/215 [==============================] - 3s 13ms/step - loss: 0.0083 - accuracy: 0.9977 - val_loss: 0.1507 - val_accuracy: 0.9692\nEpoch 9/10\n215/215 [==============================] - 3s 12ms/step - loss: 0.0061 - accuracy: 0.9984 - val_loss: 0.1556 - val_accuracy: 0.9767\nEpoch 10/10\n215/215 [==============================] - 3s 12ms/step - loss: 0.0034 - accuracy: 0.9991 - val_loss: 0.2112 - val_accuracy: 0.9645\n68/68 [==============================] - 0s 3ms/step - loss: 0.2003 - accuracy: 0.9656\nEpoch 1/10\n215/215 [==============================] - 3s 16ms/step - loss: 0.2687 - accuracy: 0.8857 - val_loss: 0.1049 - val_accuracy: 0.9634\nEpoch 2/10\n215/215 [==============================] - 3s 13ms/step - loss: 0.0746 - accuracy: 0.9740 - val_loss: 0.0818 - val_accuracy: 0.9732\nEpoch 3/10\n215/215 [==============================] - 3s 13ms/step - loss: 0.0418 - accuracy: 0.9872 - val_loss: 0.0756 - val_accuracy: 0.9721\nEpoch 4/10\n215/215 [==============================] - 3s 14ms/step - loss: 0.0300 - accuracy: 0.9908 - val_loss: 0.0797 - val_accuracy: 0.9791\nEpoch 5/10\n215/215 [==============================] - 3s 13ms/step - loss: 0.0163 - accuracy: 0.9953 - val_loss: 0.1244 - val_accuracy: 0.9639\nEpoch 6/10\n215/215 [==============================] - 3s 14ms/step - loss: 0.0143 - accuracy: 0.9952 - val_loss: 0.1357 - val_accuracy: 0.9779\nEpoch 7/10\n215/215 [==============================] - 3s 13ms/step - loss: 0.0110 - accuracy: 0.9974 - val_loss: 0.1177 - val_accuracy: 0.9802\nEpoch 8/10\n215/215 [==============================] - 3s 14ms/step - loss: 0.0067 - accuracy: 0.9981 - val_loss: 0.1471 - val_accuracy: 0.9657\nEpoch 9/10\n215/215 [==============================] - 3s 13ms/step - loss: 0.0050 - accuracy: 0.9981 - val_loss: 0.1862 - val_accuracy: 0.9773\nEpoch 10/10\n215/215 [==============================] - 3s 13ms/step - loss: 0.0077 - accuracy: 0.9984 - val_loss: 0.1800 - val_accuracy: 0.9610\n68/68 [==============================] - 0s 4ms/step - loss: 0.1773 - accuracy: 0.9674\n"
    }
   ],
   "source": [
    "test_accuracy = []\n",
    "\n",
    "for max_len in max_lens:\n",
    "    X_tr = preprocess_data(X_train, max_len)\n",
    "    X_te = preprocess_data(X_test, max_len)\n",
    "\n",
    "    model = simple_lstm_model(num_words=num_words, max_len=max_len)\n",
    "\n",
    "    history = model.fit(X_tr, y_train, epochs=10, batch_size=32, validation_split=0.2)\n",
    "    test_results = model.evaluate(X_te, y_test)\n",
    "    test_accuracy.append(test_results[1])"
   ]
  },
  {
   "cell_type": "code",
   "execution_count": 20,
   "metadata": {},
   "outputs": [
    {
     "output_type": "execute_result",
     "data": {
      "text/plain": "[&lt;matplotlib.lines.Line2D at 0x1f7c25d7ac8&gt;]"
     },
     "metadata": {},
     "execution_count": 20
    },
    {
     "output_type": "display_data",
     "data": {
      "text/plain": "&lt;Figure size 432x288 with 1 Axes&gt;",
      "image/svg+xml": "<?xml version=\"1.0\" encoding=\"utf-8\" standalone=\"no\"?>\r\n<!DOCTYPE svg PUBLIC \"-//W3C//DTD SVG 1.1//EN\"\r\n  \"http://www.w3.org/Graphics/SVG/1.1/DTD/svg11.dtd\">\r\n<!-- Created with matplotlib (https://matplotlib.org/) -->\r\n<svg height=\"248.518125pt\" version=\"1.1\" viewBox=\"0 0 378.465625 248.518125\" width=\"378.465625pt\" xmlns=\"http://www.w3.org/2000/svg\" xmlns:xlink=\"http://www.w3.org/1999/xlink\">\r\n <defs>\r\n  <style type=\"text/css\">\r\n*{stroke-linecap:butt;stroke-linejoin:round;}\r\n  </style>\r\n </defs>\r\n <g id=\"figure_1\">\r\n  <g id=\"patch_1\">\r\n   <path d=\"M 0 248.518125 \r\nL 378.465625 248.518125 \r\nL 378.465625 0 \r\nL 0 0 \r\nz\r\n\" style=\"fill:none;\"/>\r\n  </g>\r\n  <g id=\"axes_1\">\r\n   <g id=\"patch_2\">\r\n    <path d=\"M 36.465625 224.64 \r\nL 371.265625 224.64 \r\nL 371.265625 7.2 \r\nL 36.465625 7.2 \r\nz\r\n\" style=\"fill:#ffffff;\"/>\r\n   </g>\r\n   <g id=\"matplotlib.axis_1\">\r\n    <g id=\"xtick_1\">\r\n     <g id=\"line2d_1\">\r\n      <defs>\r\n       <path d=\"M 0 0 \r\nL 0 3.5 \r\n\" id=\"m12dc46d8b0\" style=\"stroke:#000000;stroke-width:0.8;\"/>\r\n      </defs>\r\n      <g>\r\n       <use style=\"stroke:#000000;stroke-width:0.8;\" x=\"49.641098\" xlink:href=\"#m12dc46d8b0\" y=\"224.64\"/>\r\n      </g>\r\n     </g>\r\n     <g id=\"text_1\">\r\n      <!-- 0 -->\r\n      <defs>\r\n       <path d=\"M 31.78125 66.40625 \r\nQ 24.171875 66.40625 20.328125 58.90625 \r\nQ 16.5 51.421875 16.5 36.375 \r\nQ 16.5 21.390625 20.328125 13.890625 \r\nQ 24.171875 6.390625 31.78125 6.390625 \r\nQ 39.453125 6.390625 43.28125 13.890625 \r\nQ 47.125 21.390625 47.125 36.375 \r\nQ 47.125 51.421875 43.28125 58.90625 \r\nQ 39.453125 66.40625 31.78125 66.40625 \r\nz\r\nM 31.78125 74.21875 \r\nQ 44.046875 74.21875 50.515625 64.515625 \r\nQ 56.984375 54.828125 56.984375 36.375 \r\nQ 56.984375 17.96875 50.515625 8.265625 \r\nQ 44.046875 -1.421875 31.78125 -1.421875 \r\nQ 19.53125 -1.421875 13.0625 8.265625 \r\nQ 6.59375 17.96875 6.59375 36.375 \r\nQ 6.59375 54.828125 13.0625 64.515625 \r\nQ 19.53125 74.21875 31.78125 74.21875 \r\nz\r\n\" id=\"DejaVuSans-48\"/>\r\n      </defs>\r\n      <g transform=\"translate(46.459848 239.238437)scale(0.1 -0.1)\">\r\n       <use xlink:href=\"#DejaVuSans-48\"/>\r\n      </g>\r\n     </g>\r\n    </g>\r\n    <g id=\"xtick_2\">\r\n     <g id=\"line2d_2\">\r\n      <g>\r\n       <use style=\"stroke:#000000;stroke-width:0.8;\" x=\"90.495277\" xlink:href=\"#m12dc46d8b0\" y=\"224.64\"/>\r\n      </g>\r\n     </g>\r\n     <g id=\"text_2\">\r\n      <!-- 20 -->\r\n      <defs>\r\n       <path d=\"M 19.1875 8.296875 \r\nL 53.609375 8.296875 \r\nL 53.609375 0 \r\nL 7.328125 0 \r\nL 7.328125 8.296875 \r\nQ 12.9375 14.109375 22.625 23.890625 \r\nQ 32.328125 33.6875 34.8125 36.53125 \r\nQ 39.546875 41.84375 41.421875 45.53125 \r\nQ 43.3125 49.21875 43.3125 52.78125 \r\nQ 43.3125 58.59375 39.234375 62.25 \r\nQ 35.15625 65.921875 28.609375 65.921875 \r\nQ 23.96875 65.921875 18.8125 64.3125 \r\nQ 13.671875 62.703125 7.8125 59.421875 \r\nL 7.8125 69.390625 \r\nQ 13.765625 71.78125 18.9375 73 \r\nQ 24.125 74.21875 28.421875 74.21875 \r\nQ 39.75 74.21875 46.484375 68.546875 \r\nQ 53.21875 62.890625 53.21875 53.421875 \r\nQ 53.21875 48.921875 51.53125 44.890625 \r\nQ 49.859375 40.875 45.40625 35.40625 \r\nQ 44.1875 33.984375 37.640625 27.21875 \r\nQ 31.109375 20.453125 19.1875 8.296875 \r\nz\r\n\" id=\"DejaVuSans-50\"/>\r\n      </defs>\r\n      <g transform=\"translate(84.132777 239.238437)scale(0.1 -0.1)\">\r\n       <use xlink:href=\"#DejaVuSans-50\"/>\r\n       <use x=\"63.623047\" xlink:href=\"#DejaVuSans-48\"/>\r\n      </g>\r\n     </g>\r\n    </g>\r\n    <g id=\"xtick_3\">\r\n     <g id=\"line2d_3\">\r\n      <g>\r\n       <use style=\"stroke:#000000;stroke-width:0.8;\" x=\"131.349457\" xlink:href=\"#m12dc46d8b0\" y=\"224.64\"/>\r\n      </g>\r\n     </g>\r\n     <g id=\"text_3\">\r\n      <!-- 40 -->\r\n      <defs>\r\n       <path d=\"M 37.796875 64.3125 \r\nL 12.890625 25.390625 \r\nL 37.796875 25.390625 \r\nz\r\nM 35.203125 72.90625 \r\nL 47.609375 72.90625 \r\nL 47.609375 25.390625 \r\nL 58.015625 25.390625 \r\nL 58.015625 17.1875 \r\nL 47.609375 17.1875 \r\nL 47.609375 0 \r\nL 37.796875 0 \r\nL 37.796875 17.1875 \r\nL 4.890625 17.1875 \r\nL 4.890625 26.703125 \r\nz\r\n\" id=\"DejaVuSans-52\"/>\r\n      </defs>\r\n      <g transform=\"translate(124.986957 239.238437)scale(0.1 -0.1)\">\r\n       <use xlink:href=\"#DejaVuSans-52\"/>\r\n       <use x=\"63.623047\" xlink:href=\"#DejaVuSans-48\"/>\r\n      </g>\r\n     </g>\r\n    </g>\r\n    <g id=\"xtick_4\">\r\n     <g id=\"line2d_4\">\r\n      <g>\r\n       <use style=\"stroke:#000000;stroke-width:0.8;\" x=\"172.203636\" xlink:href=\"#m12dc46d8b0\" y=\"224.64\"/>\r\n      </g>\r\n     </g>\r\n     <g id=\"text_4\">\r\n      <!-- 60 -->\r\n      <defs>\r\n       <path d=\"M 33.015625 40.375 \r\nQ 26.375 40.375 22.484375 35.828125 \r\nQ 18.609375 31.296875 18.609375 23.390625 \r\nQ 18.609375 15.53125 22.484375 10.953125 \r\nQ 26.375 6.390625 33.015625 6.390625 \r\nQ 39.65625 6.390625 43.53125 10.953125 \r\nQ 47.40625 15.53125 47.40625 23.390625 \r\nQ 47.40625 31.296875 43.53125 35.828125 \r\nQ 39.65625 40.375 33.015625 40.375 \r\nz\r\nM 52.59375 71.296875 \r\nL 52.59375 62.3125 \r\nQ 48.875 64.0625 45.09375 64.984375 \r\nQ 41.3125 65.921875 37.59375 65.921875 \r\nQ 27.828125 65.921875 22.671875 59.328125 \r\nQ 17.53125 52.734375 16.796875 39.40625 \r\nQ 19.671875 43.65625 24.015625 45.921875 \r\nQ 28.375 48.1875 33.59375 48.1875 \r\nQ 44.578125 48.1875 50.953125 41.515625 \r\nQ 57.328125 34.859375 57.328125 23.390625 \r\nQ 57.328125 12.15625 50.6875 5.359375 \r\nQ 44.046875 -1.421875 33.015625 -1.421875 \r\nQ 20.359375 -1.421875 13.671875 8.265625 \r\nQ 6.984375 17.96875 6.984375 36.375 \r\nQ 6.984375 53.65625 15.1875 63.9375 \r\nQ 23.390625 74.21875 37.203125 74.21875 \r\nQ 40.921875 74.21875 44.703125 73.484375 \r\nQ 48.484375 72.75 52.59375 71.296875 \r\nz\r\n\" id=\"DejaVuSans-54\"/>\r\n      </defs>\r\n      <g transform=\"translate(165.841136 239.238437)scale(0.1 -0.1)\">\r\n       <use xlink:href=\"#DejaVuSans-54\"/>\r\n       <use x=\"63.623047\" xlink:href=\"#DejaVuSans-48\"/>\r\n      </g>\r\n     </g>\r\n    </g>\r\n    <g id=\"xtick_5\">\r\n     <g id=\"line2d_5\">\r\n      <g>\r\n       <use style=\"stroke:#000000;stroke-width:0.8;\" x=\"213.057815\" xlink:href=\"#m12dc46d8b0\" y=\"224.64\"/>\r\n      </g>\r\n     </g>\r\n     <g id=\"text_5\">\r\n      <!-- 80 -->\r\n      <defs>\r\n       <path d=\"M 31.78125 34.625 \r\nQ 24.75 34.625 20.71875 30.859375 \r\nQ 16.703125 27.09375 16.703125 20.515625 \r\nQ 16.703125 13.921875 20.71875 10.15625 \r\nQ 24.75 6.390625 31.78125 6.390625 \r\nQ 38.8125 6.390625 42.859375 10.171875 \r\nQ 46.921875 13.96875 46.921875 20.515625 \r\nQ 46.921875 27.09375 42.890625 30.859375 \r\nQ 38.875 34.625 31.78125 34.625 \r\nz\r\nM 21.921875 38.8125 \r\nQ 15.578125 40.375 12.03125 44.71875 \r\nQ 8.5 49.078125 8.5 55.328125 \r\nQ 8.5 64.0625 14.71875 69.140625 \r\nQ 20.953125 74.21875 31.78125 74.21875 \r\nQ 42.671875 74.21875 48.875 69.140625 \r\nQ 55.078125 64.0625 55.078125 55.328125 \r\nQ 55.078125 49.078125 51.53125 44.71875 \r\nQ 48 40.375 41.703125 38.8125 \r\nQ 48.828125 37.15625 52.796875 32.3125 \r\nQ 56.78125 27.484375 56.78125 20.515625 \r\nQ 56.78125 9.90625 50.3125 4.234375 \r\nQ 43.84375 -1.421875 31.78125 -1.421875 \r\nQ 19.734375 -1.421875 13.25 4.234375 \r\nQ 6.78125 9.90625 6.78125 20.515625 \r\nQ 6.78125 27.484375 10.78125 32.3125 \r\nQ 14.796875 37.15625 21.921875 38.8125 \r\nz\r\nM 18.3125 54.390625 \r\nQ 18.3125 48.734375 21.84375 45.5625 \r\nQ 25.390625 42.390625 31.78125 42.390625 \r\nQ 38.140625 42.390625 41.71875 45.5625 \r\nQ 45.3125 48.734375 45.3125 54.390625 \r\nQ 45.3125 60.0625 41.71875 63.234375 \r\nQ 38.140625 66.40625 31.78125 66.40625 \r\nQ 25.390625 66.40625 21.84375 63.234375 \r\nQ 18.3125 60.0625 18.3125 54.390625 \r\nz\r\n\" id=\"DejaVuSans-56\"/>\r\n      </defs>\r\n      <g transform=\"translate(206.695315 239.238437)scale(0.1 -0.1)\">\r\n       <use xlink:href=\"#DejaVuSans-56\"/>\r\n       <use x=\"63.623047\" xlink:href=\"#DejaVuSans-48\"/>\r\n      </g>\r\n     </g>\r\n    </g>\r\n    <g id=\"xtick_6\">\r\n     <g id=\"line2d_6\">\r\n      <g>\r\n       <use style=\"stroke:#000000;stroke-width:0.8;\" x=\"253.911995\" xlink:href=\"#m12dc46d8b0\" y=\"224.64\"/>\r\n      </g>\r\n     </g>\r\n     <g id=\"text_6\">\r\n      <!-- 100 -->\r\n      <defs>\r\n       <path d=\"M 12.40625 8.296875 \r\nL 28.515625 8.296875 \r\nL 28.515625 63.921875 \r\nL 10.984375 60.40625 \r\nL 10.984375 69.390625 \r\nL 28.421875 72.90625 \r\nL 38.28125 72.90625 \r\nL 38.28125 8.296875 \r\nL 54.390625 8.296875 \r\nL 54.390625 0 \r\nL 12.40625 0 \r\nz\r\n\" id=\"DejaVuSans-49\"/>\r\n      </defs>\r\n      <g transform=\"translate(244.368245 239.238437)scale(0.1 -0.1)\">\r\n       <use xlink:href=\"#DejaVuSans-49\"/>\r\n       <use x=\"63.623047\" xlink:href=\"#DejaVuSans-48\"/>\r\n       <use x=\"127.246094\" xlink:href=\"#DejaVuSans-48\"/>\r\n      </g>\r\n     </g>\r\n    </g>\r\n    <g id=\"xtick_7\">\r\n     <g id=\"line2d_7\">\r\n      <g>\r\n       <use style=\"stroke:#000000;stroke-width:0.8;\" x=\"294.766174\" xlink:href=\"#m12dc46d8b0\" y=\"224.64\"/>\r\n      </g>\r\n     </g>\r\n     <g id=\"text_7\">\r\n      <!-- 120 -->\r\n      <g transform=\"translate(285.222424 239.238437)scale(0.1 -0.1)\">\r\n       <use xlink:href=\"#DejaVuSans-49\"/>\r\n       <use x=\"63.623047\" xlink:href=\"#DejaVuSans-50\"/>\r\n       <use x=\"127.246094\" xlink:href=\"#DejaVuSans-48\"/>\r\n      </g>\r\n     </g>\r\n    </g>\r\n    <g id=\"xtick_8\">\r\n     <g id=\"line2d_8\">\r\n      <g>\r\n       <use style=\"stroke:#000000;stroke-width:0.8;\" x=\"335.620353\" xlink:href=\"#m12dc46d8b0\" y=\"224.64\"/>\r\n      </g>\r\n     </g>\r\n     <g id=\"text_8\">\r\n      <!-- 140 -->\r\n      <g transform=\"translate(326.076603 239.238437)scale(0.1 -0.1)\">\r\n       <use xlink:href=\"#DejaVuSans-49\"/>\r\n       <use x=\"63.623047\" xlink:href=\"#DejaVuSans-52\"/>\r\n       <use x=\"127.246094\" xlink:href=\"#DejaVuSans-48\"/>\r\n      </g>\r\n     </g>\r\n    </g>\r\n   </g>\r\n   <g id=\"matplotlib.axis_2\">\r\n    <g id=\"ytick_1\">\r\n     <g id=\"line2d_9\">\r\n      <defs>\r\n       <path d=\"M 0 0 \r\nL -3.5 0 \r\n\" id=\"m373565c86d\" style=\"stroke:#000000;stroke-width:0.8;\"/>\r\n      </defs>\r\n      <g>\r\n       <use style=\"stroke:#000000;stroke-width:0.8;\" x=\"36.465625\" xlink:href=\"#m373565c86d\" y=\"211.346527\"/>\r\n      </g>\r\n     </g>\r\n     <g id=\"text_9\">\r\n      <!-- 0.86 -->\r\n      <defs>\r\n       <path d=\"M 10.6875 12.40625 \r\nL 21 12.40625 \r\nL 21 0 \r\nL 10.6875 0 \r\nz\r\n\" id=\"DejaVuSans-46\"/>\r\n      </defs>\r\n      <g transform=\"translate(7.2 215.145746)scale(0.1 -0.1)\">\r\n       <use xlink:href=\"#DejaVuSans-48\"/>\r\n       <use x=\"63.623047\" xlink:href=\"#DejaVuSans-46\"/>\r\n       <use x=\"95.410156\" xlink:href=\"#DejaVuSans-56\"/>\r\n       <use x=\"159.033203\" xlink:href=\"#DejaVuSans-54\"/>\r\n      </g>\r\n     </g>\r\n    </g>\r\n    <g id=\"ytick_2\">\r\n     <g id=\"line2d_10\">\r\n      <g>\r\n       <use style=\"stroke:#000000;stroke-width:0.8;\" x=\"36.465625\" xlink:href=\"#m373565c86d\" y=\"175.946636\"/>\r\n      </g>\r\n     </g>\r\n     <g id=\"text_10\">\r\n      <!-- 0.88 -->\r\n      <g transform=\"translate(7.2 179.745855)scale(0.1 -0.1)\">\r\n       <use xlink:href=\"#DejaVuSans-48\"/>\r\n       <use x=\"63.623047\" xlink:href=\"#DejaVuSans-46\"/>\r\n       <use x=\"95.410156\" xlink:href=\"#DejaVuSans-56\"/>\r\n       <use x=\"159.033203\" xlink:href=\"#DejaVuSans-56\"/>\r\n      </g>\r\n     </g>\r\n    </g>\r\n    <g id=\"ytick_3\">\r\n     <g id=\"line2d_11\">\r\n      <g>\r\n       <use style=\"stroke:#000000;stroke-width:0.8;\" x=\"36.465625\" xlink:href=\"#m373565c86d\" y=\"140.546746\"/>\r\n      </g>\r\n     </g>\r\n     <g id=\"text_11\">\r\n      <!-- 0.90 -->\r\n      <defs>\r\n       <path d=\"M 10.984375 1.515625 \r\nL 10.984375 10.5 \r\nQ 14.703125 8.734375 18.5 7.8125 \r\nQ 22.3125 6.890625 25.984375 6.890625 \r\nQ 35.75 6.890625 40.890625 13.453125 \r\nQ 46.046875 20.015625 46.78125 33.40625 \r\nQ 43.953125 29.203125 39.59375 26.953125 \r\nQ 35.25 24.703125 29.984375 24.703125 \r\nQ 19.046875 24.703125 12.671875 31.3125 \r\nQ 6.296875 37.9375 6.296875 49.421875 \r\nQ 6.296875 60.640625 12.9375 67.421875 \r\nQ 19.578125 74.21875 30.609375 74.21875 \r\nQ 43.265625 74.21875 49.921875 64.515625 \r\nQ 56.59375 54.828125 56.59375 36.375 \r\nQ 56.59375 19.140625 48.40625 8.859375 \r\nQ 40.234375 -1.421875 26.421875 -1.421875 \r\nQ 22.703125 -1.421875 18.890625 -0.6875 \r\nQ 15.09375 0.046875 10.984375 1.515625 \r\nz\r\nM 30.609375 32.421875 \r\nQ 37.25 32.421875 41.125 36.953125 \r\nQ 45.015625 41.5 45.015625 49.421875 \r\nQ 45.015625 57.28125 41.125 61.84375 \r\nQ 37.25 66.40625 30.609375 66.40625 \r\nQ 23.96875 66.40625 20.09375 61.84375 \r\nQ 16.21875 57.28125 16.21875 49.421875 \r\nQ 16.21875 41.5 20.09375 36.953125 \r\nQ 23.96875 32.421875 30.609375 32.421875 \r\nz\r\n\" id=\"DejaVuSans-57\"/>\r\n      </defs>\r\n      <g transform=\"translate(7.2 144.345964)scale(0.1 -0.1)\">\r\n       <use xlink:href=\"#DejaVuSans-48\"/>\r\n       <use x=\"63.623047\" xlink:href=\"#DejaVuSans-46\"/>\r\n       <use x=\"95.410156\" xlink:href=\"#DejaVuSans-57\"/>\r\n       <use x=\"159.033203\" xlink:href=\"#DejaVuSans-48\"/>\r\n      </g>\r\n     </g>\r\n    </g>\r\n    <g id=\"ytick_4\">\r\n     <g id=\"line2d_12\">\r\n      <g>\r\n       <use style=\"stroke:#000000;stroke-width:0.8;\" x=\"36.465625\" xlink:href=\"#m373565c86d\" y=\"105.146855\"/>\r\n      </g>\r\n     </g>\r\n     <g id=\"text_12\">\r\n      <!-- 0.92 -->\r\n      <g transform=\"translate(7.2 108.946074)scale(0.1 -0.1)\">\r\n       <use xlink:href=\"#DejaVuSans-48\"/>\r\n       <use x=\"63.623047\" xlink:href=\"#DejaVuSans-46\"/>\r\n       <use x=\"95.410156\" xlink:href=\"#DejaVuSans-57\"/>\r\n       <use x=\"159.033203\" xlink:href=\"#DejaVuSans-50\"/>\r\n      </g>\r\n     </g>\r\n    </g>\r\n    <g id=\"ytick_5\">\r\n     <g id=\"line2d_13\">\r\n      <g>\r\n       <use style=\"stroke:#000000;stroke-width:0.8;\" x=\"36.465625\" xlink:href=\"#m373565c86d\" y=\"69.746964\"/>\r\n      </g>\r\n     </g>\r\n     <g id=\"text_13\">\r\n      <!-- 0.94 -->\r\n      <g transform=\"translate(7.2 73.546183)scale(0.1 -0.1)\">\r\n       <use xlink:href=\"#DejaVuSans-48\"/>\r\n       <use x=\"63.623047\" xlink:href=\"#DejaVuSans-46\"/>\r\n       <use x=\"95.410156\" xlink:href=\"#DejaVuSans-57\"/>\r\n       <use x=\"159.033203\" xlink:href=\"#DejaVuSans-52\"/>\r\n      </g>\r\n     </g>\r\n    </g>\r\n    <g id=\"ytick_6\">\r\n     <g id=\"line2d_14\">\r\n      <g>\r\n       <use style=\"stroke:#000000;stroke-width:0.8;\" x=\"36.465625\" xlink:href=\"#m373565c86d\" y=\"34.347074\"/>\r\n      </g>\r\n     </g>\r\n     <g id=\"text_14\">\r\n      <!-- 0.96 -->\r\n      <g transform=\"translate(7.2 38.146292)scale(0.1 -0.1)\">\r\n       <use xlink:href=\"#DejaVuSans-48\"/>\r\n       <use x=\"63.623047\" xlink:href=\"#DejaVuSans-46\"/>\r\n       <use x=\"95.410156\" xlink:href=\"#DejaVuSans-57\"/>\r\n       <use x=\"159.033203\" xlink:href=\"#DejaVuSans-54\"/>\r\n      </g>\r\n     </g>\r\n    </g>\r\n   </g>\r\n   <g id=\"line2d_15\">\r\n    <path clip-path=\"url(#pdf1be0e42c)\" d=\"M 51.683807 214.756364 \r\nL 55.769225 110.978227 \r\nL 59.854643 74.738169 \r\nL 70.068188 41.792767 \r\nL 90.495277 20.378187 \r\nL 151.776546 17.083636 \r\nL 253.911995 24.496376 \r\nL 356.047443 21.201825 \r\n\" style=\"fill:none;stroke:#1f77b4;stroke-linecap:square;stroke-width:1.5;\"/>\r\n   </g>\r\n   <g id=\"patch_3\">\r\n    <path d=\"M 36.465625 224.64 \r\nL 36.465625 7.2 \r\n\" style=\"fill:none;stroke:#000000;stroke-linecap:square;stroke-linejoin:miter;stroke-width:0.8;\"/>\r\n   </g>\r\n   <g id=\"patch_4\">\r\n    <path d=\"M 371.265625 224.64 \r\nL 371.265625 7.2 \r\n\" style=\"fill:none;stroke:#000000;stroke-linecap:square;stroke-linejoin:miter;stroke-width:0.8;\"/>\r\n   </g>\r\n   <g id=\"patch_5\">\r\n    <path d=\"M 36.465625 224.64 \r\nL 371.265625 224.64 \r\n\" style=\"fill:none;stroke:#000000;stroke-linecap:square;stroke-linejoin:miter;stroke-width:0.8;\"/>\r\n   </g>\r\n   <g id=\"patch_6\">\r\n    <path d=\"M 36.465625 7.2 \r\nL 371.265625 7.2 \r\n\" style=\"fill:none;stroke:#000000;stroke-linecap:square;stroke-linejoin:miter;stroke-width:0.8;\"/>\r\n   </g>\r\n  </g>\r\n </g>\r\n <defs>\r\n  <clipPath id=\"pdf1be0e42c\">\r\n   <rect height=\"217.44\" width=\"334.8\" x=\"36.465625\" y=\"7.2\"/>\r\n  </clipPath>\r\n </defs>\r\n</svg>\r\n",
      "image/png": "[encoded data removed]"
     },
     "metadata": {
      "needs_background": "light"
     }
    }
   ],
   "source": [
    "plt.plot(max_lens, test_accuracy)"
   ]
  },
  {
   "source": [
    "You may be suprised, that the model achieves nearly a 86% accuracy from just a single word! However, let's take a look at class distribution in a test data"
   ],
   "cell_type": "markdown",
   "metadata": {}
  },
  {
   "cell_type": "code",
   "execution_count": 21,
   "metadata": {},
   "outputs": [
    {
     "output_type": "execute_result",
     "data": {
      "text/plain": "0.7910656119125175"
     },
     "metadata": {},
     "execution_count": 21
    }
   ],
   "source": [
    "c1 = Counter(y_test)\n",
    "c1[0]/(c1[0]+c1[1])"
   ]
  },
  {
   "source": [
    "If the model guessed always 0, it would achieve a 79% accuracy. Still, it did 6% more, but you see, that you can quickly be trapped into misconception, that 1 word is enough - that is not true. The model favours negative class (ham), even though it did learn some useful words that are good indicators for distinguishing between ham and spam.\n",
    "\n",
    "Overall, we see that something like 30-40 words would be enough for the model"
   ],
   "cell_type": "markdown",
   "metadata": {}
  },
  {
   "cell_type": "code",
   "execution_count": null,
   "metadata": {},
   "outputs": [],
   "source": []
  },
  {
   "cell_type": "code",
   "execution_count": null,
   "metadata": {},
   "outputs": [],
   "source": []
  },
  {
   "cell_type": "code",
   "execution_count": null,
   "metadata": {},
   "outputs": [],
   "source": []
  }
 ]
}