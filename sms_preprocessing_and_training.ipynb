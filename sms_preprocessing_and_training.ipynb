{
 "metadata": {
  "language_info": {
   "codemirror_mode": {
    "name": "ipython",
    "version": 3
   },
   "file_extension": ".py",
   "mimetype": "text/x-python",
   "name": "python",
   "nbconvert_exporter": "python",
   "pygments_lexer": "ipython3",
   "version": "3.6.10-final"
  },
  "orig_nbformat": 2,
  "kernelspec": {
   "name": "Python 3.6.10 64-bit ('deeplearning': conda)",
   "display_name": "Python 3.6.10 64-bit ('deeplearning': conda)",
   "metadata": {
    "interpreter": {
     "hash": "94798a07477d283dccef05b0adbefc0f5fa0f7f1dab85cfae6230d25b548a807"
    }
   }
  }
 },
 "nbformat": 4,
 "nbformat_minor": 2,
 "cells": [
  {
   "cell_type": "code",
   "execution_count": 2,
   "metadata": {},
   "outputs": [],
   "source": [
    "import tensorflow as tf\n",
    "import numpy as np\n",
    "import os\n",
    "import pandas as pd\n",
    "\n",
    "import matplotlib.pyplot as plt\n",
    "import matplotlib\n",
    "from collections import Counter\n",
    "\n",
    "from sklearn import preprocessing as sk_preprocessing\n",
    "import re\n",
    "from tensorflow.keras import preprocessing as t_preprocessing\n",
    "from tensorflow.keras import Model, Sequential\n",
    "from tensorflow.keras import layers\n",
    "from sklearn.model_selection import train_test_split\n",
    "\n",
    "\n",
    "matplotlib.style.use('ggplot')"
   ]
  },
  {
   "source": [
    "This notebook demonstrates a step-by-step approach to train a deep learning model for Natural Language Processing. In this guide, we will use a sms spam dataset, prepare the data using native Python tools and train the model using Keras Sequential API. It is worth noting, that the steps for preprocessing can be achieved more quickly using ready-made tools provided by Keras, however, the intention was to build everytrhing frokm scratch. Ready-made tools will be used in next experiments (data_analysis_and_experimenting.ipynb)."
   ],
   "cell_type": "markdown",
   "metadata": {}
  },
  {
   "source": [
    "Let's first load the sms dataset"
   ],
   "cell_type": "markdown",
   "metadata": {}
  },
  {
   "cell_type": "code",
   "execution_count": 4,
   "metadata": {},
   "outputs": [
    {
     "output_type": "execute_result",
     "data": {
      "text/plain": "     v1                                                 v2 Unnamed: 2  \\\n0   ham  Go until jurong point, crazy.. Available only ...        NaN   \n1   ham                      Ok lar... Joking wif u oni...        NaN   \n2  spam  Free entry in 2 a wkly comp to win FA Cup fina...        NaN   \n3   ham  U dun say so early hor... U c already then say...        NaN   \n4   ham  Nah I don&#39;t think he goes to usf, he lives aro...        NaN   \n\n  Unnamed: 3 Unnamed: 4  \n0        NaN        NaN  \n1        NaN        NaN  \n2        NaN        NaN  \n3        NaN        NaN  \n4        NaN        NaN  ",
      "text/html": "<div>\n<style scoped>\n    .dataframe tbody tr th:only-of-type {\n        vertical-align: middle;\n    }\n\n    .dataframe tbody tr th {\n        vertical-align: top;\n    }\n\n    .dataframe thead th {\n        text-align: right;\n    }\n</style>\n<table border=\"1\" class=\"dataframe\">\n  <thead>\n    <tr style=\"text-align: right;\">\n      <th></th>\n      <th>v1</th>\n      <th>v2</th>\n      <th>Unnamed: 2</th>\n      <th>Unnamed: 3</th>\n      <th>Unnamed: 4</th>\n    </tr>\n  </thead>\n  <tbody>\n    <tr>\n      <th>0</th>\n      <td>ham</td>\n      <td>Go until jurong point, crazy.. Available only ...</td>\n      <td>NaN</td>\n      <td>NaN</td>\n      <td>NaN</td>\n    </tr>\n    <tr>\n      <th>1</th>\n      <td>ham</td>\n      <td>Ok lar... Joking wif u oni...</td>\n      <td>NaN</td>\n      <td>NaN</td>\n      <td>NaN</td>\n    </tr>\n    <tr>\n      <th>2</th>\n      <td>spam</td>\n      <td>Free entry in 2 a wkly comp to win FA Cup fina...</td>\n      <td>NaN</td>\n      <td>NaN</td>\n      <td>NaN</td>\n    </tr>\n    <tr>\n      <th>3</th>\n      <td>ham</td>\n      <td>U dun say so early hor... U c already then say...</td>\n      <td>NaN</td>\n      <td>NaN</td>\n      <td>NaN</td>\n    </tr>\n    <tr>\n      <th>4</th>\n      <td>ham</td>\n      <td>Nah I don't think he goes to usf, he lives aro...</td>\n      <td>NaN</td>\n      <td>NaN</td>\n      <td>NaN</td>\n    </tr>\n  </tbody>\n</table>\n</div>"
     },
     "metadata": {},
     "execution_count": 4
    }
   ],
   "source": [
    "sms_data_path = r'datasets/sms-spam-collection/spam.csv'\n",
    "sms_df = pd.read_csv(sms_data_path, engine='python')\n",
    "sms_df.head()"
   ]
  },
  {
   "source": [
    "We see that the dataset has some redundant columns. Generally, we are interested in columns v1 and v2. V1 will be our target value, and v1 will be our input data. Let's take them out."
   ],
   "cell_type": "markdown",
   "metadata": {}
  },
  {
   "cell_type": "code",
   "execution_count": 5,
   "metadata": {},
   "outputs": [],
   "source": [
    "x, y = sms_df['v2'].values, sms_df['v1'].values"
   ]
  },
  {
   "source": [
    "Let's print out some examplary message"
   ],
   "cell_type": "markdown",
   "metadata": {}
  },
  {
   "cell_type": "code",
   "execution_count": 12,
   "metadata": {
    "tags": []
   },
   "outputs": [
    {
     "output_type": "stream",
     "name": "stdout",
     "text": "I&#39;m gonna be home soon and i don&#39;t want to talk about this stuff anymore tonight, k? I&#39;ve cried enough today.\n"
    }
   ],
   "source": [
    "print(x[10])"
   ]
  },
  {
   "source": [
    "Looks as a legit message to me. Let's check out the label for that message"
   ],
   "cell_type": "markdown",
   "metadata": {}
  },
  {
   "cell_type": "code",
   "execution_count": 13,
   "metadata": {
    "tags": []
   },
   "outputs": [
    {
     "output_type": "stream",
     "name": "stdout",
     "text": "ham\n"
    }
   ],
   "source": [
    "print(y[10])"
   ]
  },
  {
   "source": [
    "Yup, that's not a spam"
   ],
   "cell_type": "markdown",
   "metadata": {}
  },
  {
   "source": [
    "Let's print out the longest message in the dataset"
   ],
   "cell_type": "markdown",
   "metadata": {}
  },
  {
   "cell_type": "code",
   "execution_count": 14,
   "metadata": {
    "tags": []
   },
   "outputs": [
    {
     "output_type": "stream",
     "name": "stdout",
     "text": "For me the love should start with attraction.i should feel that I need her every time around me.she should be the first thing which comes in my thoughts.I would start the day and end it with her.she should be there every time I dream.love will be then when my every breath has her name.my life should happen around her.my life will be named to her.I would cry for her.will give all my happiness and take all her sorrows.I will be ready to fight with anyone for her.I will be in love when I will be doing the craziest things for her.love will be when I don&#39;t have to proove anyone that my girl is the most beautiful lady on the whole planet.I will always be singing praises for her.love will be when I start up making chicken curry and end up makiing sambar.life will be the most beautiful then.will get every morning and thank god for the day because she is with me.I would like to say a lot..will tell later..\n"
    }
   ],
   "source": [
    "sms_lengths = list(map(lambda x: len(x), x))\n",
    "# Longest sms message\n",
    "print(x[np.argmax(sms_lengths)])"
   ]
  },
  {
   "source": [
    "Okay, let's move on. We will start by mapping the text to the encoding. The strategy is to get all the words, that are occuring in the messages, and map them to a unique integer value. This way, the message will be represented as an array of integer numbers. We will use regex expression to split all the message into words."
   ],
   "cell_type": "markdown",
   "metadata": {}
  },
  {
   "cell_type": "code",
   "execution_count": 21,
   "metadata": {},
   "outputs": [],
   "source": [
    "word_regex = r\"[\\w']+\"\n",
    "all_words = [word.lower() for sms in x for word in re.findall(word_regex,sms)]"
   ]
  },
  {
   "source": [
    "We will use Counter from collections library that generates a dictionary from a Collection of items. The key is an item and a value is a number of occurences of the item in a Collection"
   ],
   "cell_type": "markdown",
   "metadata": {}
  },
  {
   "cell_type": "code",
   "execution_count": 25,
   "metadata": {
    "tags": []
   },
   "outputs": [
    {
     "output_type": "stream",
     "name": "stdout",
     "text": "We have 8910 words in our messages\n"
    }
   ],
   "source": [
    "word_count = Counter(all_words)\n",
    "word_count_sorted = word_count.most_common()\n",
    "\n",
    "num_words = len(word_count_sorted)\n",
    "\n",
    "print(f\"We have {num_words} words in our messages\")"
   ]
  },
  {
   "cell_type": "code",
   "execution_count": 29,
   "metadata": {},
   "outputs": [
    {
     "output_type": "execute_result",
     "data": {
      "text/plain": "Text(0, 0.5, &#39;Number of words with such occurence&#39;)"
     },
     "metadata": {},
     "execution_count": 29
    },
    {
     "output_type": "display_data",
     "data": {
      "text/plain": "&lt;Figure size 432x288 with 1 Axes&gt;",
      "image/svg+xml": "<?xml version=\"1.0\" encoding=\"utf-8\" standalone=\"no\"?>\r\n<!DOCTYPE svg PUBLIC \"-//W3C//DTD SVG 1.1//EN\"\r\n  \"http://www.w3.org/Graphics/SVG/1.1/DTD/svg11.dtd\">\r\n<!-- Created with matplotlib (https://matplotlib.org/) -->\r\n<svg height=\"281.073625pt\" version=\"1.1\" viewBox=\"0 0 397.26375 281.073625\" width=\"397.26375pt\" xmlns=\"http://www.w3.org/2000/svg\" xmlns:xlink=\"http://www.w3.org/1999/xlink\">\r\n <defs>\r\n  <style type=\"text/css\">\r\n*{stroke-linecap:butt;stroke-linejoin:round;}\r\n  </style>\r\n </defs>\r\n <g id=\"figure_1\">\r\n  <g id=\"patch_1\">\r\n   <path d=\"M 0 281.073625 \r\nL 397.26375 281.073625 \r\nL 397.26375 0 \r\nL 0 0 \r\nz\r\n\" style=\"fill:#ffffff;\"/>\r\n  </g>\r\n  <g id=\"axes_1\">\r\n   <g id=\"patch_2\">\r\n    <path d=\"M 55.26375 241.58175 \r\nL 390.06375 241.58175 \r\nL 390.06375 24.14175 \r\nL 55.26375 24.14175 \r\nz\r\n\" style=\"fill:#e5e5e5;\"/>\r\n   </g>\r\n   <g id=\"matplotlib.axis_1\">\r\n    <g id=\"xtick_1\">\r\n     <g id=\"line2d_1\">\r\n      <path clip-path=\"url(#pb3f84713f7)\" d=\"M 70.481932 241.58175 \r\nL 70.481932 24.14175 \r\n\" style=\"fill:none;stroke:#ffffff;stroke-linecap:square;stroke-width:0.8;\"/>\r\n     </g>\r\n     <g id=\"line2d_2\">\r\n      <defs>\r\n       <path d=\"M 0 0 \r\nL 0 3.5 \r\n\" id=\"mb2b825195d\" style=\"stroke:#555555;stroke-width:0.8;\"/>\r\n      </defs>\r\n      <g>\r\n       <use style=\"fill:#555555;stroke:#555555;stroke-width:0.8;\" x=\"70.481932\" xlink:href=\"#mb2b825195d\" y=\"241.58175\"/>\r\n      </g>\r\n     </g>\r\n     <g id=\"text_1\">\r\n      <!-- 0 -->\r\n      <defs>\r\n       <path d=\"M 31.78125 66.40625 \r\nQ 24.171875 66.40625 20.328125 58.90625 \r\nQ 16.5 51.421875 16.5 36.375 \r\nQ 16.5 21.390625 20.328125 13.890625 \r\nQ 24.171875 6.390625 31.78125 6.390625 \r\nQ 39.453125 6.390625 43.28125 13.890625 \r\nQ 47.125 21.390625 47.125 36.375 \r\nQ 47.125 51.421875 43.28125 58.90625 \r\nQ 39.453125 66.40625 31.78125 66.40625 \r\nz\r\nM 31.78125 74.21875 \r\nQ 44.046875 74.21875 50.515625 64.515625 \r\nQ 56.984375 54.828125 56.984375 36.375 \r\nQ 56.984375 17.96875 50.515625 8.265625 \r\nQ 44.046875 -1.421875 31.78125 -1.421875 \r\nQ 19.53125 -1.421875 13.0625 8.265625 \r\nQ 6.59375 17.96875 6.59375 36.375 \r\nQ 6.59375 54.828125 13.0625 64.515625 \r\nQ 19.53125 74.21875 31.78125 74.21875 \r\nz\r\n\" id=\"DejaVuSans-48\"/>\r\n      </defs>\r\n      <g style=\"fill:#555555;\" transform=\"translate(67.300682 256.180187)scale(0.1 -0.1)\">\r\n       <use xlink:href=\"#DejaVuSans-48\"/>\r\n      </g>\r\n     </g>\r\n    </g>\r\n    <g id=\"xtick_2\">\r\n     <g id=\"line2d_3\">\r\n      <path clip-path=\"url(#pb3f84713f7)\" d=\"M 108.527386 241.58175 \r\nL 108.527386 24.14175 \r\n\" style=\"fill:none;stroke:#ffffff;stroke-linecap:square;stroke-width:0.8;\"/>\r\n     </g>\r\n     <g id=\"line2d_4\">\r\n      <g>\r\n       <use style=\"fill:#555555;stroke:#555555;stroke-width:0.8;\" x=\"108.527386\" xlink:href=\"#mb2b825195d\" y=\"241.58175\"/>\r\n      </g>\r\n     </g>\r\n     <g id=\"text_2\">\r\n      <!-- 25 -->\r\n      <defs>\r\n       <path d=\"M 19.1875 8.296875 \r\nL 53.609375 8.296875 \r\nL 53.609375 0 \r\nL 7.328125 0 \r\nL 7.328125 8.296875 \r\nQ 12.9375 14.109375 22.625 23.890625 \r\nQ 32.328125 33.6875 34.8125 36.53125 \r\nQ 39.546875 41.84375 41.421875 45.53125 \r\nQ 43.3125 49.21875 43.3125 52.78125 \r\nQ 43.3125 58.59375 39.234375 62.25 \r\nQ 35.15625 65.921875 28.609375 65.921875 \r\nQ 23.96875 65.921875 18.8125 64.3125 \r\nQ 13.671875 62.703125 7.8125 59.421875 \r\nL 7.8125 69.390625 \r\nQ 13.765625 71.78125 18.9375 73 \r\nQ 24.125 74.21875 28.421875 74.21875 \r\nQ 39.75 74.21875 46.484375 68.546875 \r\nQ 53.21875 62.890625 53.21875 53.421875 \r\nQ 53.21875 48.921875 51.53125 44.890625 \r\nQ 49.859375 40.875 45.40625 35.40625 \r\nQ 44.1875 33.984375 37.640625 27.21875 \r\nQ 31.109375 20.453125 19.1875 8.296875 \r\nz\r\n\" id=\"DejaVuSans-50\"/>\r\n       <path d=\"M 10.796875 72.90625 \r\nL 49.515625 72.90625 \r\nL 49.515625 64.59375 \r\nL 19.828125 64.59375 \r\nL 19.828125 46.734375 \r\nQ 21.96875 47.46875 24.109375 47.828125 \r\nQ 26.265625 48.1875 28.421875 48.1875 \r\nQ 40.625 48.1875 47.75 41.5 \r\nQ 54.890625 34.8125 54.890625 23.390625 \r\nQ 54.890625 11.625 47.5625 5.09375 \r\nQ 40.234375 -1.421875 26.90625 -1.421875 \r\nQ 22.3125 -1.421875 17.546875 -0.640625 \r\nQ 12.796875 0.140625 7.71875 1.703125 \r\nL 7.71875 11.625 \r\nQ 12.109375 9.234375 16.796875 8.0625 \r\nQ 21.484375 6.890625 26.703125 6.890625 \r\nQ 35.15625 6.890625 40.078125 11.328125 \r\nQ 45.015625 15.765625 45.015625 23.390625 \r\nQ 45.015625 31 40.078125 35.4375 \r\nQ 35.15625 39.890625 26.703125 39.890625 \r\nQ 22.75 39.890625 18.8125 39.015625 \r\nQ 14.890625 38.140625 10.796875 36.28125 \r\nz\r\n\" id=\"DejaVuSans-53\"/>\r\n      </defs>\r\n      <g style=\"fill:#555555;\" transform=\"translate(102.164886 256.180187)scale(0.1 -0.1)\">\r\n       <use xlink:href=\"#DejaVuSans-50\"/>\r\n       <use x=\"63.623047\" xlink:href=\"#DejaVuSans-53\"/>\r\n      </g>\r\n     </g>\r\n    </g>\r\n    <g id=\"xtick_3\">\r\n     <g id=\"line2d_5\">\r\n      <path clip-path=\"url(#pb3f84713f7)\" d=\"M 146.572841 241.58175 \r\nL 146.572841 24.14175 \r\n\" style=\"fill:none;stroke:#ffffff;stroke-linecap:square;stroke-width:0.8;\"/>\r\n     </g>\r\n     <g id=\"line2d_6\">\r\n      <g>\r\n       <use style=\"fill:#555555;stroke:#555555;stroke-width:0.8;\" x=\"146.572841\" xlink:href=\"#mb2b825195d\" y=\"241.58175\"/>\r\n      </g>\r\n     </g>\r\n     <g id=\"text_3\">\r\n      <!-- 50 -->\r\n      <g style=\"fill:#555555;\" transform=\"translate(140.210341 256.180187)scale(0.1 -0.1)\">\r\n       <use xlink:href=\"#DejaVuSans-53\"/>\r\n       <use x=\"63.623047\" xlink:href=\"#DejaVuSans-48\"/>\r\n      </g>\r\n     </g>\r\n    </g>\r\n    <g id=\"xtick_4\">\r\n     <g id=\"line2d_7\">\r\n      <path clip-path=\"url(#pb3f84713f7)\" d=\"M 184.618295 241.58175 \r\nL 184.618295 24.14175 \r\n\" style=\"fill:none;stroke:#ffffff;stroke-linecap:square;stroke-width:0.8;\"/>\r\n     </g>\r\n     <g id=\"line2d_8\">\r\n      <g>\r\n       <use style=\"fill:#555555;stroke:#555555;stroke-width:0.8;\" x=\"184.618295\" xlink:href=\"#mb2b825195d\" y=\"241.58175\"/>\r\n      </g>\r\n     </g>\r\n     <g id=\"text_4\">\r\n      <!-- 75 -->\r\n      <defs>\r\n       <path d=\"M 8.203125 72.90625 \r\nL 55.078125 72.90625 \r\nL 55.078125 68.703125 \r\nL 28.609375 0 \r\nL 18.3125 0 \r\nL 43.21875 64.59375 \r\nL 8.203125 64.59375 \r\nz\r\n\" id=\"DejaVuSans-55\"/>\r\n      </defs>\r\n      <g style=\"fill:#555555;\" transform=\"translate(178.255795 256.180187)scale(0.1 -0.1)\">\r\n       <use xlink:href=\"#DejaVuSans-55\"/>\r\n       <use x=\"63.623047\" xlink:href=\"#DejaVuSans-53\"/>\r\n      </g>\r\n     </g>\r\n    </g>\r\n    <g id=\"xtick_5\">\r\n     <g id=\"line2d_9\">\r\n      <path clip-path=\"url(#pb3f84713f7)\" d=\"M 222.66375 241.58175 \r\nL 222.66375 24.14175 \r\n\" style=\"fill:none;stroke:#ffffff;stroke-linecap:square;stroke-width:0.8;\"/>\r\n     </g>\r\n     <g id=\"line2d_10\">\r\n      <g>\r\n       <use style=\"fill:#555555;stroke:#555555;stroke-width:0.8;\" x=\"222.66375\" xlink:href=\"#mb2b825195d\" y=\"241.58175\"/>\r\n      </g>\r\n     </g>\r\n     <g id=\"text_5\">\r\n      <!-- 100 -->\r\n      <defs>\r\n       <path d=\"M 12.40625 8.296875 \r\nL 28.515625 8.296875 \r\nL 28.515625 63.921875 \r\nL 10.984375 60.40625 \r\nL 10.984375 69.390625 \r\nL 28.421875 72.90625 \r\nL 38.28125 72.90625 \r\nL 38.28125 8.296875 \r\nL 54.390625 8.296875 \r\nL 54.390625 0 \r\nL 12.40625 0 \r\nz\r\n\" id=\"DejaVuSans-49\"/>\r\n      </defs>\r\n      <g style=\"fill:#555555;\" transform=\"translate(213.12 256.180187)scale(0.1 -0.1)\">\r\n       <use xlink:href=\"#DejaVuSans-49\"/>\r\n       <use x=\"63.623047\" xlink:href=\"#DejaVuSans-48\"/>\r\n       <use x=\"127.246094\" xlink:href=\"#DejaVuSans-48\"/>\r\n      </g>\r\n     </g>\r\n    </g>\r\n    <g id=\"xtick_6\">\r\n     <g id=\"line2d_11\">\r\n      <path clip-path=\"url(#pb3f84713f7)\" d=\"M 260.709205 241.58175 \r\nL 260.709205 24.14175 \r\n\" style=\"fill:none;stroke:#ffffff;stroke-linecap:square;stroke-width:0.8;\"/>\r\n     </g>\r\n     <g id=\"line2d_12\">\r\n      <g>\r\n       <use style=\"fill:#555555;stroke:#555555;stroke-width:0.8;\" x=\"260.709205\" xlink:href=\"#mb2b825195d\" y=\"241.58175\"/>\r\n      </g>\r\n     </g>\r\n     <g id=\"text_6\">\r\n      <!-- 125 -->\r\n      <g style=\"fill:#555555;\" transform=\"translate(251.165455 256.180187)scale(0.1 -0.1)\">\r\n       <use xlink:href=\"#DejaVuSans-49\"/>\r\n       <use x=\"63.623047\" xlink:href=\"#DejaVuSans-50\"/>\r\n       <use x=\"127.246094\" xlink:href=\"#DejaVuSans-53\"/>\r\n      </g>\r\n     </g>\r\n    </g>\r\n    <g id=\"xtick_7\">\r\n     <g id=\"line2d_13\">\r\n      <path clip-path=\"url(#pb3f84713f7)\" d=\"M 298.754659 241.58175 \r\nL 298.754659 24.14175 \r\n\" style=\"fill:none;stroke:#ffffff;stroke-linecap:square;stroke-width:0.8;\"/>\r\n     </g>\r\n     <g id=\"line2d_14\">\r\n      <g>\r\n       <use style=\"fill:#555555;stroke:#555555;stroke-width:0.8;\" x=\"298.754659\" xlink:href=\"#mb2b825195d\" y=\"241.58175\"/>\r\n      </g>\r\n     </g>\r\n     <g id=\"text_7\">\r\n      <!-- 150 -->\r\n      <g style=\"fill:#555555;\" transform=\"translate(289.210909 256.180187)scale(0.1 -0.1)\">\r\n       <use xlink:href=\"#DejaVuSans-49\"/>\r\n       <use x=\"63.623047\" xlink:href=\"#DejaVuSans-53\"/>\r\n       <use x=\"127.246094\" xlink:href=\"#DejaVuSans-48\"/>\r\n      </g>\r\n     </g>\r\n    </g>\r\n    <g id=\"xtick_8\">\r\n     <g id=\"line2d_15\">\r\n      <path clip-path=\"url(#pb3f84713f7)\" d=\"M 336.800114 241.58175 \r\nL 336.800114 24.14175 \r\n\" style=\"fill:none;stroke:#ffffff;stroke-linecap:square;stroke-width:0.8;\"/>\r\n     </g>\r\n     <g id=\"line2d_16\">\r\n      <g>\r\n       <use style=\"fill:#555555;stroke:#555555;stroke-width:0.8;\" x=\"336.800114\" xlink:href=\"#mb2b825195d\" y=\"241.58175\"/>\r\n      </g>\r\n     </g>\r\n     <g id=\"text_8\">\r\n      <!-- 175 -->\r\n      <g style=\"fill:#555555;\" transform=\"translate(327.256364 256.180187)scale(0.1 -0.1)\">\r\n       <use xlink:href=\"#DejaVuSans-49\"/>\r\n       <use x=\"63.623047\" xlink:href=\"#DejaVuSans-55\"/>\r\n       <use x=\"127.246094\" xlink:href=\"#DejaVuSans-53\"/>\r\n      </g>\r\n     </g>\r\n    </g>\r\n    <g id=\"xtick_9\">\r\n     <g id=\"line2d_17\">\r\n      <path clip-path=\"url(#pb3f84713f7)\" d=\"M 374.845568 241.58175 \r\nL 374.845568 24.14175 \r\n\" style=\"fill:none;stroke:#ffffff;stroke-linecap:square;stroke-width:0.8;\"/>\r\n     </g>\r\n     <g id=\"line2d_18\">\r\n      <g>\r\n       <use style=\"fill:#555555;stroke:#555555;stroke-width:0.8;\" x=\"374.845568\" xlink:href=\"#mb2b825195d\" y=\"241.58175\"/>\r\n      </g>\r\n     </g>\r\n     <g id=\"text_9\">\r\n      <!-- 200 -->\r\n      <g style=\"fill:#555555;\" transform=\"translate(365.301818 256.180187)scale(0.1 -0.1)\">\r\n       <use xlink:href=\"#DejaVuSans-50\"/>\r\n       <use x=\"63.623047\" xlink:href=\"#DejaVuSans-48\"/>\r\n       <use x=\"127.246094\" xlink:href=\"#DejaVuSans-48\"/>\r\n      </g>\r\n     </g>\r\n    </g>\r\n    <g id=\"text_10\">\r\n     <!-- Number of occurences -->\r\n     <defs>\r\n      <path d=\"M 9.8125 72.90625 \r\nL 23.09375 72.90625 \r\nL 55.421875 11.921875 \r\nL 55.421875 72.90625 \r\nL 64.984375 72.90625 \r\nL 64.984375 0 \r\nL 51.703125 0 \r\nL 19.390625 60.984375 \r\nL 19.390625 0 \r\nL 9.8125 0 \r\nz\r\n\" id=\"DejaVuSans-78\"/>\r\n      <path d=\"M 8.5 21.578125 \r\nL 8.5 54.6875 \r\nL 17.484375 54.6875 \r\nL 17.484375 21.921875 \r\nQ 17.484375 14.15625 20.5 10.265625 \r\nQ 23.53125 6.390625 29.59375 6.390625 \r\nQ 36.859375 6.390625 41.078125 11.03125 \r\nQ 45.3125 15.671875 45.3125 23.6875 \r\nL 45.3125 54.6875 \r\nL 54.296875 54.6875 \r\nL 54.296875 0 \r\nL 45.3125 0 \r\nL 45.3125 8.40625 \r\nQ 42.046875 3.421875 37.71875 1 \r\nQ 33.40625 -1.421875 27.6875 -1.421875 \r\nQ 18.265625 -1.421875 13.375 4.4375 \r\nQ 8.5 10.296875 8.5 21.578125 \r\nz\r\nM 31.109375 56 \r\nz\r\n\" id=\"DejaVuSans-117\"/>\r\n      <path d=\"M 52 44.1875 \r\nQ 55.375 50.25 60.0625 53.125 \r\nQ 64.75 56 71.09375 56 \r\nQ 79.640625 56 84.28125 50.015625 \r\nQ 88.921875 44.046875 88.921875 33.015625 \r\nL 88.921875 0 \r\nL 79.890625 0 \r\nL 79.890625 32.71875 \r\nQ 79.890625 40.578125 77.09375 44.375 \r\nQ 74.3125 48.1875 68.609375 48.1875 \r\nQ 61.625 48.1875 57.5625 43.546875 \r\nQ 53.515625 38.921875 53.515625 30.90625 \r\nL 53.515625 0 \r\nL 44.484375 0 \r\nL 44.484375 32.71875 \r\nQ 44.484375 40.625 41.703125 44.40625 \r\nQ 38.921875 48.1875 33.109375 48.1875 \r\nQ 26.21875 48.1875 22.15625 43.53125 \r\nQ 18.109375 38.875 18.109375 30.90625 \r\nL 18.109375 0 \r\nL 9.078125 0 \r\nL 9.078125 54.6875 \r\nL 18.109375 54.6875 \r\nL 18.109375 46.1875 \r\nQ 21.1875 51.21875 25.484375 53.609375 \r\nQ 29.78125 56 35.6875 56 \r\nQ 41.65625 56 45.828125 52.96875 \r\nQ 50 49.953125 52 44.1875 \r\nz\r\n\" id=\"DejaVuSans-109\"/>\r\n      <path d=\"M 48.6875 27.296875 \r\nQ 48.6875 37.203125 44.609375 42.84375 \r\nQ 40.53125 48.484375 33.40625 48.484375 \r\nQ 26.265625 48.484375 22.1875 42.84375 \r\nQ 18.109375 37.203125 18.109375 27.296875 \r\nQ 18.109375 17.390625 22.1875 11.75 \r\nQ 26.265625 6.109375 33.40625 6.109375 \r\nQ 40.53125 6.109375 44.609375 11.75 \r\nQ 48.6875 17.390625 48.6875 27.296875 \r\nz\r\nM 18.109375 46.390625 \r\nQ 20.953125 51.265625 25.265625 53.625 \r\nQ 29.59375 56 35.59375 56 \r\nQ 45.5625 56 51.78125 48.09375 \r\nQ 58.015625 40.1875 58.015625 27.296875 \r\nQ 58.015625 14.40625 51.78125 6.484375 \r\nQ 45.5625 -1.421875 35.59375 -1.421875 \r\nQ 29.59375 -1.421875 25.265625 0.953125 \r\nQ 20.953125 3.328125 18.109375 8.203125 \r\nL 18.109375 0 \r\nL 9.078125 0 \r\nL 9.078125 75.984375 \r\nL 18.109375 75.984375 \r\nz\r\n\" id=\"DejaVuSans-98\"/>\r\n      <path d=\"M 56.203125 29.59375 \r\nL 56.203125 25.203125 \r\nL 14.890625 25.203125 \r\nQ 15.484375 15.921875 20.484375 11.0625 \r\nQ 25.484375 6.203125 34.421875 6.203125 \r\nQ 39.59375 6.203125 44.453125 7.46875 \r\nQ 49.3125 8.734375 54.109375 11.28125 \r\nL 54.109375 2.78125 \r\nQ 49.265625 0.734375 44.1875 -0.34375 \r\nQ 39.109375 -1.421875 33.890625 -1.421875 \r\nQ 20.796875 -1.421875 13.15625 6.1875 \r\nQ 5.515625 13.8125 5.515625 26.8125 \r\nQ 5.515625 40.234375 12.765625 48.109375 \r\nQ 20.015625 56 32.328125 56 \r\nQ 43.359375 56 49.78125 48.890625 \r\nQ 56.203125 41.796875 56.203125 29.59375 \r\nz\r\nM 47.21875 32.234375 \r\nQ 47.125 39.59375 43.09375 43.984375 \r\nQ 39.0625 48.390625 32.421875 48.390625 \r\nQ 24.90625 48.390625 20.390625 44.140625 \r\nQ 15.875 39.890625 15.1875 32.171875 \r\nz\r\n\" id=\"DejaVuSans-101\"/>\r\n      <path d=\"M 41.109375 46.296875 \r\nQ 39.59375 47.171875 37.8125 47.578125 \r\nQ 36.03125 48 33.890625 48 \r\nQ 26.265625 48 22.1875 43.046875 \r\nQ 18.109375 38.09375 18.109375 28.8125 \r\nL 18.109375 0 \r\nL 9.078125 0 \r\nL 9.078125 54.6875 \r\nL 18.109375 54.6875 \r\nL 18.109375 46.1875 \r\nQ 20.953125 51.171875 25.484375 53.578125 \r\nQ 30.03125 56 36.53125 56 \r\nQ 37.453125 56 38.578125 55.875 \r\nQ 39.703125 55.765625 41.0625 55.515625 \r\nz\r\n\" id=\"DejaVuSans-114\"/>\r\n      <path id=\"DejaVuSans-32\"/>\r\n      <path d=\"M 30.609375 48.390625 \r\nQ 23.390625 48.390625 19.1875 42.75 \r\nQ 14.984375 37.109375 14.984375 27.296875 \r\nQ 14.984375 17.484375 19.15625 11.84375 \r\nQ 23.34375 6.203125 30.609375 6.203125 \r\nQ 37.796875 6.203125 41.984375 11.859375 \r\nQ 46.1875 17.53125 46.1875 27.296875 \r\nQ 46.1875 37.015625 41.984375 42.703125 \r\nQ 37.796875 48.390625 30.609375 48.390625 \r\nz\r\nM 30.609375 56 \r\nQ 42.328125 56 49.015625 48.375 \r\nQ 55.71875 40.765625 55.71875 27.296875 \r\nQ 55.71875 13.875 49.015625 6.21875 \r\nQ 42.328125 -1.421875 30.609375 -1.421875 \r\nQ 18.84375 -1.421875 12.171875 6.21875 \r\nQ 5.515625 13.875 5.515625 27.296875 \r\nQ 5.515625 40.765625 12.171875 48.375 \r\nQ 18.84375 56 30.609375 56 \r\nz\r\n\" id=\"DejaVuSans-111\"/>\r\n      <path d=\"M 37.109375 75.984375 \r\nL 37.109375 68.5 \r\nL 28.515625 68.5 \r\nQ 23.6875 68.5 21.796875 66.546875 \r\nQ 19.921875 64.59375 19.921875 59.515625 \r\nL 19.921875 54.6875 \r\nL 34.71875 54.6875 \r\nL 34.71875 47.703125 \r\nL 19.921875 47.703125 \r\nL 19.921875 0 \r\nL 10.890625 0 \r\nL 10.890625 47.703125 \r\nL 2.296875 47.703125 \r\nL 2.296875 54.6875 \r\nL 10.890625 54.6875 \r\nL 10.890625 58.5 \r\nQ 10.890625 67.625 15.140625 71.796875 \r\nQ 19.390625 75.984375 28.609375 75.984375 \r\nz\r\n\" id=\"DejaVuSans-102\"/>\r\n      <path d=\"M 48.78125 52.59375 \r\nL 48.78125 44.1875 \r\nQ 44.96875 46.296875 41.140625 47.34375 \r\nQ 37.3125 48.390625 33.40625 48.390625 \r\nQ 24.65625 48.390625 19.8125 42.84375 \r\nQ 14.984375 37.3125 14.984375 27.296875 \r\nQ 14.984375 17.28125 19.8125 11.734375 \r\nQ 24.65625 6.203125 33.40625 6.203125 \r\nQ 37.3125 6.203125 41.140625 7.25 \r\nQ 44.96875 8.296875 48.78125 10.40625 \r\nL 48.78125 2.09375 \r\nQ 45.015625 0.34375 40.984375 -0.53125 \r\nQ 36.96875 -1.421875 32.421875 -1.421875 \r\nQ 20.0625 -1.421875 12.78125 6.34375 \r\nQ 5.515625 14.109375 5.515625 27.296875 \r\nQ 5.515625 40.671875 12.859375 48.328125 \r\nQ 20.21875 56 33.015625 56 \r\nQ 37.15625 56 41.109375 55.140625 \r\nQ 45.0625 54.296875 48.78125 52.59375 \r\nz\r\n\" id=\"DejaVuSans-99\"/>\r\n      <path d=\"M 54.890625 33.015625 \r\nL 54.890625 0 \r\nL 45.90625 0 \r\nL 45.90625 32.71875 \r\nQ 45.90625 40.484375 42.875 44.328125 \r\nQ 39.84375 48.1875 33.796875 48.1875 \r\nQ 26.515625 48.1875 22.3125 43.546875 \r\nQ 18.109375 38.921875 18.109375 30.90625 \r\nL 18.109375 0 \r\nL 9.078125 0 \r\nL 9.078125 54.6875 \r\nL 18.109375 54.6875 \r\nL 18.109375 46.1875 \r\nQ 21.34375 51.125 25.703125 53.5625 \r\nQ 30.078125 56 35.796875 56 \r\nQ 45.21875 56 50.046875 50.171875 \r\nQ 54.890625 44.34375 54.890625 33.015625 \r\nz\r\n\" id=\"DejaVuSans-110\"/>\r\n      <path d=\"M 44.28125 53.078125 \r\nL 44.28125 44.578125 \r\nQ 40.484375 46.53125 36.375 47.5 \r\nQ 32.28125 48.484375 27.875 48.484375 \r\nQ 21.1875 48.484375 17.84375 46.4375 \r\nQ 14.5 44.390625 14.5 40.28125 \r\nQ 14.5 37.15625 16.890625 35.375 \r\nQ 19.28125 33.59375 26.515625 31.984375 \r\nL 29.59375 31.296875 \r\nQ 39.15625 29.25 43.1875 25.515625 \r\nQ 47.21875 21.78125 47.21875 15.09375 \r\nQ 47.21875 7.46875 41.1875 3.015625 \r\nQ 35.15625 -1.421875 24.609375 -1.421875 \r\nQ 20.21875 -1.421875 15.453125 -0.5625 \r\nQ 10.6875 0.296875 5.421875 2 \r\nL 5.421875 11.28125 \r\nQ 10.40625 8.6875 15.234375 7.390625 \r\nQ 20.0625 6.109375 24.8125 6.109375 \r\nQ 31.15625 6.109375 34.5625 8.28125 \r\nQ 37.984375 10.453125 37.984375 14.40625 \r\nQ 37.984375 18.0625 35.515625 20.015625 \r\nQ 33.0625 21.96875 24.703125 23.78125 \r\nL 21.578125 24.515625 \r\nQ 13.234375 26.265625 9.515625 29.90625 \r\nQ 5.8125 33.546875 5.8125 39.890625 \r\nQ 5.8125 47.609375 11.28125 51.796875 \r\nQ 16.75 56 26.8125 56 \r\nQ 31.78125 56 36.171875 55.265625 \r\nQ 40.578125 54.546875 44.28125 53.078125 \r\nz\r\n\" id=\"DejaVuSans-115\"/>\r\n     </defs>\r\n     <g style=\"fill:#555555;\" transform=\"translate(154.949063 271.378)scale(0.12 -0.12)\">\r\n      <use xlink:href=\"#DejaVuSans-78\"/>\r\n      <use x=\"74.804688\" xlink:href=\"#DejaVuSans-117\"/>\r\n      <use x=\"138.183594\" xlink:href=\"#DejaVuSans-109\"/>\r\n      <use x=\"235.595703\" xlink:href=\"#DejaVuSans-98\"/>\r\n      <use x=\"299.072266\" xlink:href=\"#DejaVuSans-101\"/>\r\n      <use x=\"360.595703\" xlink:href=\"#DejaVuSans-114\"/>\r\n      <use x=\"401.708984\" xlink:href=\"#DejaVuSans-32\"/>\r\n      <use x=\"433.496094\" xlink:href=\"#DejaVuSans-111\"/>\r\n      <use x=\"494.677734\" xlink:href=\"#DejaVuSans-102\"/>\r\n      <use x=\"529.882812\" xlink:href=\"#DejaVuSans-32\"/>\r\n      <use x=\"561.669922\" xlink:href=\"#DejaVuSans-111\"/>\r\n      <use x=\"622.851562\" xlink:href=\"#DejaVuSans-99\"/>\r\n      <use x=\"677.832031\" xlink:href=\"#DejaVuSans-99\"/>\r\n      <use x=\"732.8125\" xlink:href=\"#DejaVuSans-117\"/>\r\n      <use x=\"796.191406\" xlink:href=\"#DejaVuSans-114\"/>\r\n      <use x=\"835.054688\" xlink:href=\"#DejaVuSans-101\"/>\r\n      <use x=\"896.578125\" xlink:href=\"#DejaVuSans-110\"/>\r\n      <use x=\"959.957031\" xlink:href=\"#DejaVuSans-99\"/>\r\n      <use x=\"1014.9375\" xlink:href=\"#DejaVuSans-101\"/>\r\n      <use x=\"1076.460938\" xlink:href=\"#DejaVuSans-115\"/>\r\n     </g>\r\n    </g>\r\n   </g>\r\n   <g id=\"matplotlib.axis_2\">\r\n    <g id=\"ytick_1\">\r\n     <g id=\"line2d_19\">\r\n      <path clip-path=\"url(#pb3f84713f7)\" d=\"M 55.26375 241.58175 \r\nL 390.06375 241.58175 \r\n\" style=\"fill:none;stroke:#ffffff;stroke-linecap:square;stroke-width:0.8;\"/>\r\n     </g>\r\n     <g id=\"line2d_20\">\r\n      <defs>\r\n       <path d=\"M 0 0 \r\nL -3.5 0 \r\n\" id=\"m7694f35fb7\" style=\"stroke:#555555;stroke-width:0.8;\"/>\r\n      </defs>\r\n      <g>\r\n       <use style=\"fill:#555555;stroke:#555555;stroke-width:0.8;\" x=\"55.26375\" xlink:href=\"#m7694f35fb7\" y=\"241.58175\"/>\r\n      </g>\r\n     </g>\r\n     <g id=\"text_11\">\r\n      <!-- 0 -->\r\n      <g style=\"fill:#555555;\" transform=\"translate(41.90125 245.380969)scale(0.1 -0.1)\">\r\n       <use xlink:href=\"#DejaVuSans-48\"/>\r\n      </g>\r\n     </g>\r\n    </g>\r\n    <g id=\"ytick_2\">\r\n     <g id=\"line2d_21\">\r\n      <path clip-path=\"url(#pb3f84713f7)\" d=\"M 55.26375 193.360603 \r\nL 390.06375 193.360603 \r\n\" style=\"fill:none;stroke:#ffffff;stroke-linecap:square;stroke-width:0.8;\"/>\r\n     </g>\r\n     <g id=\"line2d_22\">\r\n      <g>\r\n       <use style=\"fill:#555555;stroke:#555555;stroke-width:0.8;\" x=\"55.26375\" xlink:href=\"#m7694f35fb7\" y=\"193.360603\"/>\r\n      </g>\r\n     </g>\r\n     <g id=\"text_12\">\r\n      <!-- 2000 -->\r\n      <g style=\"fill:#555555;\" transform=\"translate(22.81375 197.159822)scale(0.1 -0.1)\">\r\n       <use xlink:href=\"#DejaVuSans-50\"/>\r\n       <use x=\"63.623047\" xlink:href=\"#DejaVuSans-48\"/>\r\n       <use x=\"127.246094\" xlink:href=\"#DejaVuSans-48\"/>\r\n       <use x=\"190.869141\" xlink:href=\"#DejaVuSans-48\"/>\r\n      </g>\r\n     </g>\r\n    </g>\r\n    <g id=\"ytick_3\">\r\n     <g id=\"line2d_23\">\r\n      <path clip-path=\"url(#pb3f84713f7)\" d=\"M 55.26375 145.139457 \r\nL 390.06375 145.139457 \r\n\" style=\"fill:none;stroke:#ffffff;stroke-linecap:square;stroke-width:0.8;\"/>\r\n     </g>\r\n     <g id=\"line2d_24\">\r\n      <g>\r\n       <use style=\"fill:#555555;stroke:#555555;stroke-width:0.8;\" x=\"55.26375\" xlink:href=\"#m7694f35fb7\" y=\"145.139457\"/>\r\n      </g>\r\n     </g>\r\n     <g id=\"text_13\">\r\n      <!-- 4000 -->\r\n      <defs>\r\n       <path d=\"M 37.796875 64.3125 \r\nL 12.890625 25.390625 \r\nL 37.796875 25.390625 \r\nz\r\nM 35.203125 72.90625 \r\nL 47.609375 72.90625 \r\nL 47.609375 25.390625 \r\nL 58.015625 25.390625 \r\nL 58.015625 17.1875 \r\nL 47.609375 17.1875 \r\nL 47.609375 0 \r\nL 37.796875 0 \r\nL 37.796875 17.1875 \r\nL 4.890625 17.1875 \r\nL 4.890625 26.703125 \r\nz\r\n\" id=\"DejaVuSans-52\"/>\r\n      </defs>\r\n      <g style=\"fill:#555555;\" transform=\"translate(22.81375 148.938675)scale(0.1 -0.1)\">\r\n       <use xlink:href=\"#DejaVuSans-52\"/>\r\n       <use x=\"63.623047\" xlink:href=\"#DejaVuSans-48\"/>\r\n       <use x=\"127.246094\" xlink:href=\"#DejaVuSans-48\"/>\r\n       <use x=\"190.869141\" xlink:href=\"#DejaVuSans-48\"/>\r\n      </g>\r\n     </g>\r\n    </g>\r\n    <g id=\"ytick_4\">\r\n     <g id=\"line2d_25\">\r\n      <path clip-path=\"url(#pb3f84713f7)\" d=\"M 55.26375 96.91831 \r\nL 390.06375 96.91831 \r\n\" style=\"fill:none;stroke:#ffffff;stroke-linecap:square;stroke-width:0.8;\"/>\r\n     </g>\r\n     <g id=\"line2d_26\">\r\n      <g>\r\n       <use style=\"fill:#555555;stroke:#555555;stroke-width:0.8;\" x=\"55.26375\" xlink:href=\"#m7694f35fb7\" y=\"96.91831\"/>\r\n      </g>\r\n     </g>\r\n     <g id=\"text_14\">\r\n      <!-- 6000 -->\r\n      <defs>\r\n       <path d=\"M 33.015625 40.375 \r\nQ 26.375 40.375 22.484375 35.828125 \r\nQ 18.609375 31.296875 18.609375 23.390625 \r\nQ 18.609375 15.53125 22.484375 10.953125 \r\nQ 26.375 6.390625 33.015625 6.390625 \r\nQ 39.65625 6.390625 43.53125 10.953125 \r\nQ 47.40625 15.53125 47.40625 23.390625 \r\nQ 47.40625 31.296875 43.53125 35.828125 \r\nQ 39.65625 40.375 33.015625 40.375 \r\nz\r\nM 52.59375 71.296875 \r\nL 52.59375 62.3125 \r\nQ 48.875 64.0625 45.09375 64.984375 \r\nQ 41.3125 65.921875 37.59375 65.921875 \r\nQ 27.828125 65.921875 22.671875 59.328125 \r\nQ 17.53125 52.734375 16.796875 39.40625 \r\nQ 19.671875 43.65625 24.015625 45.921875 \r\nQ 28.375 48.1875 33.59375 48.1875 \r\nQ 44.578125 48.1875 50.953125 41.515625 \r\nQ 57.328125 34.859375 57.328125 23.390625 \r\nQ 57.328125 12.15625 50.6875 5.359375 \r\nQ 44.046875 -1.421875 33.015625 -1.421875 \r\nQ 20.359375 -1.421875 13.671875 8.265625 \r\nQ 6.984375 17.96875 6.984375 36.375 \r\nQ 6.984375 53.65625 15.1875 63.9375 \r\nQ 23.390625 74.21875 37.203125 74.21875 \r\nQ 40.921875 74.21875 44.703125 73.484375 \r\nQ 48.484375 72.75 52.59375 71.296875 \r\nz\r\n\" id=\"DejaVuSans-54\"/>\r\n      </defs>\r\n      <g style=\"fill:#555555;\" transform=\"translate(22.81375 100.717529)scale(0.1 -0.1)\">\r\n       <use xlink:href=\"#DejaVuSans-54\"/>\r\n       <use x=\"63.623047\" xlink:href=\"#DejaVuSans-48\"/>\r\n       <use x=\"127.246094\" xlink:href=\"#DejaVuSans-48\"/>\r\n       <use x=\"190.869141\" xlink:href=\"#DejaVuSans-48\"/>\r\n      </g>\r\n     </g>\r\n    </g>\r\n    <g id=\"ytick_5\">\r\n     <g id=\"line2d_27\">\r\n      <path clip-path=\"url(#pb3f84713f7)\" d=\"M 55.26375 48.697163 \r\nL 390.06375 48.697163 \r\n\" style=\"fill:none;stroke:#ffffff;stroke-linecap:square;stroke-width:0.8;\"/>\r\n     </g>\r\n     <g id=\"line2d_28\">\r\n      <g>\r\n       <use style=\"fill:#555555;stroke:#555555;stroke-width:0.8;\" x=\"55.26375\" xlink:href=\"#m7694f35fb7\" y=\"48.697163\"/>\r\n      </g>\r\n     </g>\r\n     <g id=\"text_15\">\r\n      <!-- 8000 -->\r\n      <defs>\r\n       <path d=\"M 31.78125 34.625 \r\nQ 24.75 34.625 20.71875 30.859375 \r\nQ 16.703125 27.09375 16.703125 20.515625 \r\nQ 16.703125 13.921875 20.71875 10.15625 \r\nQ 24.75 6.390625 31.78125 6.390625 \r\nQ 38.8125 6.390625 42.859375 10.171875 \r\nQ 46.921875 13.96875 46.921875 20.515625 \r\nQ 46.921875 27.09375 42.890625 30.859375 \r\nQ 38.875 34.625 31.78125 34.625 \r\nz\r\nM 21.921875 38.8125 \r\nQ 15.578125 40.375 12.03125 44.71875 \r\nQ 8.5 49.078125 8.5 55.328125 \r\nQ 8.5 64.0625 14.71875 69.140625 \r\nQ 20.953125 74.21875 31.78125 74.21875 \r\nQ 42.671875 74.21875 48.875 69.140625 \r\nQ 55.078125 64.0625 55.078125 55.328125 \r\nQ 55.078125 49.078125 51.53125 44.71875 \r\nQ 48 40.375 41.703125 38.8125 \r\nQ 48.828125 37.15625 52.796875 32.3125 \r\nQ 56.78125 27.484375 56.78125 20.515625 \r\nQ 56.78125 9.90625 50.3125 4.234375 \r\nQ 43.84375 -1.421875 31.78125 -1.421875 \r\nQ 19.734375 -1.421875 13.25 4.234375 \r\nQ 6.78125 9.90625 6.78125 20.515625 \r\nQ 6.78125 27.484375 10.78125 32.3125 \r\nQ 14.796875 37.15625 21.921875 38.8125 \r\nz\r\nM 18.3125 54.390625 \r\nQ 18.3125 48.734375 21.84375 45.5625 \r\nQ 25.390625 42.390625 31.78125 42.390625 \r\nQ 38.140625 42.390625 41.71875 45.5625 \r\nQ 45.3125 48.734375 45.3125 54.390625 \r\nQ 45.3125 60.0625 41.71875 63.234375 \r\nQ 38.140625 66.40625 31.78125 66.40625 \r\nQ 25.390625 66.40625 21.84375 63.234375 \r\nQ 18.3125 60.0625 18.3125 54.390625 \r\nz\r\n\" id=\"DejaVuSans-56\"/>\r\n      </defs>\r\n      <g style=\"fill:#555555;\" transform=\"translate(22.81375 52.496382)scale(0.1 -0.1)\">\r\n       <use xlink:href=\"#DejaVuSans-56\"/>\r\n       <use x=\"63.623047\" xlink:href=\"#DejaVuSans-48\"/>\r\n       <use x=\"127.246094\" xlink:href=\"#DejaVuSans-48\"/>\r\n       <use x=\"190.869141\" xlink:href=\"#DejaVuSans-48\"/>\r\n      </g>\r\n     </g>\r\n    </g>\r\n    <g id=\"text_16\">\r\n     <!-- Number of words with such occurence -->\r\n     <defs>\r\n      <path d=\"M 4.203125 54.6875 \r\nL 13.1875 54.6875 \r\nL 24.421875 12.015625 \r\nL 35.59375 54.6875 \r\nL 46.1875 54.6875 \r\nL 57.421875 12.015625 \r\nL 68.609375 54.6875 \r\nL 77.59375 54.6875 \r\nL 63.28125 0 \r\nL 52.6875 0 \r\nL 40.921875 44.828125 \r\nL 29.109375 0 \r\nL 18.5 0 \r\nz\r\n\" id=\"DejaVuSans-119\"/>\r\n      <path d=\"M 45.40625 46.390625 \r\nL 45.40625 75.984375 \r\nL 54.390625 75.984375 \r\nL 54.390625 0 \r\nL 45.40625 0 \r\nL 45.40625 8.203125 \r\nQ 42.578125 3.328125 38.25 0.953125 \r\nQ 33.9375 -1.421875 27.875 -1.421875 \r\nQ 17.96875 -1.421875 11.734375 6.484375 \r\nQ 5.515625 14.40625 5.515625 27.296875 \r\nQ 5.515625 40.1875 11.734375 48.09375 \r\nQ 17.96875 56 27.875 56 \r\nQ 33.9375 56 38.25 53.625 \r\nQ 42.578125 51.265625 45.40625 46.390625 \r\nz\r\nM 14.796875 27.296875 \r\nQ 14.796875 17.390625 18.875 11.75 \r\nQ 22.953125 6.109375 30.078125 6.109375 \r\nQ 37.203125 6.109375 41.296875 11.75 \r\nQ 45.40625 17.390625 45.40625 27.296875 \r\nQ 45.40625 37.203125 41.296875 42.84375 \r\nQ 37.203125 48.484375 30.078125 48.484375 \r\nQ 22.953125 48.484375 18.875 42.84375 \r\nQ 14.796875 37.203125 14.796875 27.296875 \r\nz\r\n\" id=\"DejaVuSans-100\"/>\r\n      <path d=\"M 9.421875 54.6875 \r\nL 18.40625 54.6875 \r\nL 18.40625 0 \r\nL 9.421875 0 \r\nz\r\nM 9.421875 75.984375 \r\nL 18.40625 75.984375 \r\nL 18.40625 64.59375 \r\nL 9.421875 64.59375 \r\nz\r\n\" id=\"DejaVuSans-105\"/>\r\n      <path d=\"M 18.3125 70.21875 \r\nL 18.3125 54.6875 \r\nL 36.8125 54.6875 \r\nL 36.8125 47.703125 \r\nL 18.3125 47.703125 \r\nL 18.3125 18.015625 \r\nQ 18.3125 11.328125 20.140625 9.421875 \r\nQ 21.96875 7.515625 27.59375 7.515625 \r\nL 36.8125 7.515625 \r\nL 36.8125 0 \r\nL 27.59375 0 \r\nQ 17.1875 0 13.234375 3.875 \r\nQ 9.28125 7.765625 9.28125 18.015625 \r\nL 9.28125 47.703125 \r\nL 2.6875 47.703125 \r\nL 2.6875 54.6875 \r\nL 9.28125 54.6875 \r\nL 9.28125 70.21875 \r\nz\r\n\" id=\"DejaVuSans-116\"/>\r\n      <path d=\"M 54.890625 33.015625 \r\nL 54.890625 0 \r\nL 45.90625 0 \r\nL 45.90625 32.71875 \r\nQ 45.90625 40.484375 42.875 44.328125 \r\nQ 39.84375 48.1875 33.796875 48.1875 \r\nQ 26.515625 48.1875 22.3125 43.546875 \r\nQ 18.109375 38.921875 18.109375 30.90625 \r\nL 18.109375 0 \r\nL 9.078125 0 \r\nL 9.078125 75.984375 \r\nL 18.109375 75.984375 \r\nL 18.109375 46.1875 \r\nQ 21.34375 51.125 25.703125 53.5625 \r\nQ 30.078125 56 35.796875 56 \r\nQ 45.21875 56 50.046875 50.171875 \r\nQ 54.890625 44.34375 54.890625 33.015625 \r\nz\r\n\" id=\"DejaVuSans-104\"/>\r\n     </defs>\r\n     <g style=\"fill:#555555;\" transform=\"translate(16.318125 247.803938)rotate(-90)scale(0.12 -0.12)\">\r\n      <use xlink:href=\"#DejaVuSans-78\"/>\r\n      <use x=\"74.804688\" xlink:href=\"#DejaVuSans-117\"/>\r\n      <use x=\"138.183594\" xlink:href=\"#DejaVuSans-109\"/>\r\n      <use x=\"235.595703\" xlink:href=\"#DejaVuSans-98\"/>\r\n      <use x=\"299.072266\" xlink:href=\"#DejaVuSans-101\"/>\r\n      <use x=\"360.595703\" xlink:href=\"#DejaVuSans-114\"/>\r\n      <use x=\"401.708984\" xlink:href=\"#DejaVuSans-32\"/>\r\n      <use x=\"433.496094\" xlink:href=\"#DejaVuSans-111\"/>\r\n      <use x=\"494.677734\" xlink:href=\"#DejaVuSans-102\"/>\r\n      <use x=\"529.882812\" xlink:href=\"#DejaVuSans-32\"/>\r\n      <use x=\"561.669922\" xlink:href=\"#DejaVuSans-119\"/>\r\n      <use x=\"643.457031\" xlink:href=\"#DejaVuSans-111\"/>\r\n      <use x=\"704.638672\" xlink:href=\"#DejaVuSans-114\"/>\r\n      <use x=\"744.001953\" xlink:href=\"#DejaVuSans-100\"/>\r\n      <use x=\"807.478516\" xlink:href=\"#DejaVuSans-115\"/>\r\n      <use x=\"859.578125\" xlink:href=\"#DejaVuSans-32\"/>\r\n      <use x=\"891.365234\" xlink:href=\"#DejaVuSans-119\"/>\r\n      <use x=\"973.152344\" xlink:href=\"#DejaVuSans-105\"/>\r\n      <use x=\"1000.935547\" xlink:href=\"#DejaVuSans-116\"/>\r\n      <use x=\"1040.144531\" xlink:href=\"#DejaVuSans-104\"/>\r\n      <use x=\"1103.523438\" xlink:href=\"#DejaVuSans-32\"/>\r\n      <use x=\"1135.310547\" xlink:href=\"#DejaVuSans-115\"/>\r\n      <use x=\"1187.410156\" xlink:href=\"#DejaVuSans-117\"/>\r\n      <use x=\"1250.789062\" xlink:href=\"#DejaVuSans-99\"/>\r\n      <use x=\"1305.769531\" xlink:href=\"#DejaVuSans-104\"/>\r\n      <use x=\"1369.148438\" xlink:href=\"#DejaVuSans-32\"/>\r\n      <use x=\"1400.935547\" xlink:href=\"#DejaVuSans-111\"/>\r\n      <use x=\"1462.117188\" xlink:href=\"#DejaVuSans-99\"/>\r\n      <use x=\"1517.097656\" xlink:href=\"#DejaVuSans-99\"/>\r\n      <use x=\"1572.078125\" xlink:href=\"#DejaVuSans-117\"/>\r\n      <use x=\"1635.457031\" xlink:href=\"#DejaVuSans-114\"/>\r\n      <use x=\"1674.320312\" xlink:href=\"#DejaVuSans-101\"/>\r\n      <use x=\"1735.84375\" xlink:href=\"#DejaVuSans-110\"/>\r\n      <use x=\"1799.222656\" xlink:href=\"#DejaVuSans-99\"/>\r\n      <use x=\"1854.203125\" xlink:href=\"#DejaVuSans-101\"/>\r\n     </g>\r\n    </g>\r\n   </g>\r\n   <g id=\"patch_3\">\r\n    <path clip-path=\"url(#pb3f84713f7)\" d=\"M 70.481932 241.58175 \r\nL 131.354659 241.58175 \r\nL 131.354659 34.496036 \r\nL 70.481932 34.496036 \r\nz\r\n\" style=\"fill:#e24a33;\"/>\r\n   </g>\r\n   <g id=\"patch_4\">\r\n    <path clip-path=\"url(#pb3f84713f7)\" d=\"M 131.354659 241.58175 \r\nL 192.227386 241.58175 \r\nL 192.227386 237.965164 \r\nL 131.354659 237.965164 \r\nz\r\n\" style=\"fill:#e24a33;\"/>\r\n   </g>\r\n   <g id=\"patch_5\">\r\n    <path clip-path=\"url(#pb3f84713f7)\" d=\"M 192.227386 241.58175 \r\nL 253.100114 241.58175 \r\nL 253.100114 240.231558 \r\nL 192.227386 240.231558 \r\nz\r\n\" style=\"fill:#e24a33;\"/>\r\n   </g>\r\n   <g id=\"patch_6\">\r\n    <path clip-path=\"url(#pb3f84713f7)\" d=\"M 253.100114 241.58175 \r\nL 313.972841 241.58175 \r\nL 313.972841 240.810212 \r\nL 253.100114 240.810212 \r\nz\r\n\" style=\"fill:#e24a33;\"/>\r\n   </g>\r\n   <g id=\"patch_7\">\r\n    <path clip-path=\"url(#pb3f84713f7)\" d=\"M 313.972841 241.58175 \r\nL 374.845568 241.58175 \r\nL 374.845568 241.195981 \r\nL 313.972841 241.195981 \r\nz\r\n\" style=\"fill:#e24a33;\"/>\r\n   </g>\r\n   <g id=\"patch_8\">\r\n    <path d=\"M 55.26375 241.58175 \r\nL 55.26375 24.14175 \r\n\" style=\"fill:none;stroke:#ffffff;stroke-linecap:square;stroke-linejoin:miter;\"/>\r\n   </g>\r\n   <g id=\"patch_9\">\r\n    <path d=\"M 390.06375 241.58175 \r\nL 390.06375 24.14175 \r\n\" style=\"fill:none;stroke:#ffffff;stroke-linecap:square;stroke-linejoin:miter;\"/>\r\n   </g>\r\n   <g id=\"patch_10\">\r\n    <path d=\"M 55.26375 241.58175 \r\nL 390.06375 241.58175 \r\n\" style=\"fill:none;stroke:#ffffff;stroke-linecap:square;stroke-linejoin:miter;\"/>\r\n   </g>\r\n   <g id=\"patch_11\">\r\n    <path d=\"M 55.26375 24.14175 \r\nL 390.06375 24.14175 \r\n\" style=\"fill:none;stroke:#ffffff;stroke-linecap:square;stroke-linejoin:miter;\"/>\r\n   </g>\r\n   <g id=\"text_17\">\r\n    <!-- Word count distribution -->\r\n    <defs>\r\n     <path d=\"M 3.328125 72.90625 \r\nL 13.28125 72.90625 \r\nL 28.609375 11.28125 \r\nL 43.890625 72.90625 \r\nL 54.984375 72.90625 \r\nL 70.3125 11.28125 \r\nL 85.59375 72.90625 \r\nL 95.609375 72.90625 \r\nL 77.296875 0 \r\nL 64.890625 0 \r\nL 49.515625 63.28125 \r\nL 33.984375 0 \r\nL 21.578125 0 \r\nz\r\n\" id=\"DejaVuSans-87\"/>\r\n    </defs>\r\n    <g transform=\"translate(138.238125 18.14175)scale(0.144 -0.144)\">\r\n     <use xlink:href=\"#DejaVuSans-87\"/>\r\n     <use x=\"93.001953\" xlink:href=\"#DejaVuSans-111\"/>\r\n     <use x=\"154.183594\" xlink:href=\"#DejaVuSans-114\"/>\r\n     <use x=\"193.546875\" xlink:href=\"#DejaVuSans-100\"/>\r\n     <use x=\"257.023438\" xlink:href=\"#DejaVuSans-32\"/>\r\n     <use x=\"288.810547\" xlink:href=\"#DejaVuSans-99\"/>\r\n     <use x=\"343.791016\" xlink:href=\"#DejaVuSans-111\"/>\r\n     <use x=\"404.972656\" xlink:href=\"#DejaVuSans-117\"/>\r\n     <use x=\"468.351562\" xlink:href=\"#DejaVuSans-110\"/>\r\n     <use x=\"531.730469\" xlink:href=\"#DejaVuSans-116\"/>\r\n     <use x=\"570.939453\" xlink:href=\"#DejaVuSans-32\"/>\r\n     <use x=\"602.726562\" xlink:href=\"#DejaVuSans-100\"/>\r\n     <use x=\"666.203125\" xlink:href=\"#DejaVuSans-105\"/>\r\n     <use x=\"693.986328\" xlink:href=\"#DejaVuSans-115\"/>\r\n     <use x=\"746.085938\" xlink:href=\"#DejaVuSans-116\"/>\r\n     <use x=\"785.294922\" xlink:href=\"#DejaVuSans-114\"/>\r\n     <use x=\"826.408203\" xlink:href=\"#DejaVuSans-105\"/>\r\n     <use x=\"854.191406\" xlink:href=\"#DejaVuSans-98\"/>\r\n     <use x=\"917.667969\" xlink:href=\"#DejaVuSans-117\"/>\r\n     <use x=\"981.046875\" xlink:href=\"#DejaVuSans-116\"/>\r\n     <use x=\"1020.255859\" xlink:href=\"#DejaVuSans-105\"/>\r\n     <use x=\"1048.039062\" xlink:href=\"#DejaVuSans-111\"/>\r\n     <use x=\"1109.220703\" xlink:href=\"#DejaVuSans-110\"/>\r\n    </g>\r\n   </g>\r\n  </g>\r\n </g>\r\n <defs>\r\n  <clipPath id=\"pb3f84713f7\">\r\n   <rect height=\"217.44\" width=\"334.8\" x=\"55.26375\" y=\"24.14175\"/>\r\n  </clipPath>\r\n </defs>\r\n</svg>\r\n",
      "image/png": "[encoded data removed]"
     },
     "metadata": {}
    }
   ],
   "source": [
    "plt.hist(word_count.values(), bins=5, range=(0, 200))\n",
    "plt.title('Word count distribution')\n",
    "plt.xlabel('Number of occurences')\n",
    "plt.ylabel('Number of words with such occurence')"
   ]
  },
  {
   "source": [
    "Majority of words occur up to 50 times in the whole dataset."
   ],
   "cell_type": "markdown",
   "metadata": {}
  },
  {
   "source": [
    "Let us take 7999 most common words from the text. We reserve 8000th token for the rest of the words which occurred but do not have an integer mapping"
   ],
   "cell_type": "markdown",
   "metadata": {}
  },
  {
   "cell_type": "code",
   "execution_count": 30,
   "metadata": {},
   "outputs": [],
   "source": [
    "word_count_sorted = word_count_sorted[:7998]"
   ]
  },
  {
   "source": [
    "We will generate two dictionaries: one that will enable us to encode words, and the other one for decoding numbers into words. The values are being assigned from the most common word to least common word. A 'missing_word' key is a special one for words that do not have coding"
   ],
   "cell_type": "markdown",
   "metadata": {}
  },
  {
   "cell_type": "code",
   "execution_count": 31,
   "metadata": {},
   "outputs": [],
   "source": [
    "word_encoding = { word_count_pair[0]: i for i, word_count_pair in enumerate(word_count_sorted, start=1) }\n",
    "word_decoding = dict(zip(word_encoding.values(), word_encoding.keys()))\n",
    "\n",
    "missing_word_code = max(word_encoding.values())+1\n",
    "word_encoding['missing_word'] = missing_word_code\n",
    "word_decoding[missing_word_code] = 'missing_word'"
   ]
  },
  {
   "source": [
    "Below is a function that will encode an entire dataset."
   ],
   "cell_type": "markdown",
   "metadata": {}
  },
  {
   "cell_type": "code",
   "execution_count": 42,
   "metadata": {},
   "outputs": [],
   "source": [
    "# encode dataset\n",
    "\n",
    "def encode_dataset(data, word_encoding):\n",
    "    data_encoded = []\n",
    "\n",
    "    for sms in data:\n",
    "        sms_words = re.findall(r\"[\\w']+\", sms)\n",
    "        sms_encoded = [word_encoding[word] if word in word_encoding.keys() else missing_word_code for word in sms_words]\n",
    "        data_encoded.append(sms_encoded)\n",
    "    \n",
    "    return data_encoded"
   ]
  },
  {
   "source": [
    "Let's do that and check first message"
   ],
   "cell_type": "markdown",
   "metadata": {}
  },
  {
   "cell_type": "code",
   "execution_count": 43,
   "metadata": {},
   "outputs": [
    {
     "output_type": "execute_result",
     "data": {
      "text/plain": "[7999, 336, 7999, 471, 6, 1929]"
     },
     "metadata": {},
     "execution_count": 43
    }
   ],
   "source": [
    "x_encoded = encode_dataset(x, word_encoding)\n",
    "x_encoded[1]"
   ]
  },
  {
   "source": [
    "For convenience, let's create fuinctions for encoding and decoding a single message. We will use assertion to verify, that the operation is reversible"
   ],
   "cell_type": "markdown",
   "metadata": {}
  },
  {
   "cell_type": "code",
   "execution_count": 45,
   "metadata": {},
   "outputs": [],
   "source": [
    "def encode_sms(decoded_sms, word_encoding):\n",
    "    encoded_sms = [word_encoding[word] if word in decoded_sms else word_encoding['missing_word'] for word in decoded_sms]\n",
    "    return encoded_sms\n",
    "\n",
    "def decode_sms(encoded_sms, word_decoding):\n",
    "    decoded_sms = [word_decoding[code] for code in encoded_sms]\n",
    "    return decoded_sms\n",
    "\n",
    "assert x_encoded[0] == encode_sms(decode_sms(x_encoded[0], word_decoding), word_encoding), \"Codes do not match!\""
   ]
  },
  {
   "source": [
    "No errors, no worries!"
   ],
   "cell_type": "markdown",
   "metadata": {}
  },
  {
   "source": [
    "Now, the main part. Our main goal is to train a deep learning model. As we know, deep learning model needs to have a fixed-length input data. Our messages have different lengths - some are short, some are long. We need to define a size for each message, and we will call it MAX_LEN. Basically, the messages containing more than 100 words will be truncated, and shorter messages will be padded with placeholder tokens. Let's define a MAX_LEN size of 100 and use tensorflow's convieniet function pad_sequences"
   ],
   "cell_type": "markdown",
   "metadata": {}
  },
  {
   "cell_type": "code",
   "execution_count": 49,
   "metadata": {
    "tags": []
   },
   "outputs": [
    {
     "output_type": "stream",
     "name": "stdout",
     "text": "(5572, 100)\n"
    }
   ],
   "source": [
    "MAX_LEN = 100\n",
    "\n",
    "x_encoded_padded = t_preprocessing.sequence.pad_sequences(x_encoded, MAX_LEN)\n",
    "\n",
    "x_encoded_padded = np.array(x_encoded_padded)\n",
    "\n",
    "print(x_encoded_padded.shape)"
   ]
  },
  {
   "source": [
    "Now we have 5572 messages, each of size 100"
   ],
   "cell_type": "markdown",
   "metadata": {}
  },
  {
   "source": [
    "There is only ony thing left. Let's recall what are our targets"
   ],
   "cell_type": "markdown",
   "metadata": {}
  },
  {
   "cell_type": "code",
   "execution_count": 53,
   "metadata": {
    "tags": []
   },
   "outputs": [
    {
     "output_type": "stream",
     "name": "stdout",
     "text": "[&#39;ham&#39; &#39;spam&#39;]\n"
    }
   ],
   "source": [
    "print(np.unique(y))"
   ]
  },
  {
   "source": [
    "We can't feed the network with string data. We need to code these classes to numerical values, and we can achieve it with sklearn's LabelEncoder class"
   ],
   "cell_type": "markdown",
   "metadata": {}
  },
  {
   "cell_type": "code",
   "execution_count": 54,
   "metadata": {},
   "outputs": [],
   "source": [
    "label_encoder = sk_preprocessing.LabelEncoder()\n",
    "labels = label_encoder.fit_transform(y)"
   ]
  },
  {
   "cell_type": "code",
   "execution_count": 55,
   "metadata": {},
   "outputs": [
    {
     "output_type": "execute_result",
     "data": {
      "text/plain": "array([&#39;ham&#39;, &#39;spam&#39;], dtype=object)"
     },
     "metadata": {},
     "execution_count": 55
    }
   ],
   "source": [
    "label_encoder.classes_"
   ]
  },
  {
   "cell_type": "code",
   "execution_count": 57,
   "metadata": {},
   "outputs": [
    {
     "output_type": "execute_result",
     "data": {
      "text/plain": "array([0, 1])"
     },
     "metadata": {},
     "execution_count": 57
    }
   ],
   "source": [
    "np.unique(labels)"
   ]
  },
  {
   "source": [
    "Let's split the data into train and test"
   ],
   "cell_type": "markdown",
   "metadata": {}
  },
  {
   "cell_type": "code",
   "execution_count": 58,
   "metadata": {},
   "outputs": [],
   "source": [
    "X_train, X_test, y_train, y_test = train_test_split(x_encoded_padded, labels, stratify=labels, test_size=0.2, random_state=1)"
   ]
  },
  {
   "source": [
    "Let's define a model. The model is quite simple, we start from Embedding layer, which will try to find correlations between different words and create a dimensional representation to make word dependencies easier to spot.\n",
    "Remember, we take only 8000 words, so in Embedding layer will have dimensionality of 8000.\n",
    "\n",
    "Next, we will define an LSTM layer. This layer is more complicated than SimpleRNN, but it does a better job in findning long-term dependencies in sequences. Well, sms are quite short, but we can do with added computational complexity and a bit more params in a network\n",
    "\n",
    "On top of that, we will use a Fully Connected layer, and add a Dropout to reduce overfitting."
   ],
   "cell_type": "markdown",
   "metadata": {}
  },
  {
   "cell_type": "code",
   "execution_count": 62,
   "metadata": {},
   "outputs": [],
   "source": [
    "NUM_WORDS = 8000"
   ]
  },
  {
   "cell_type": "code",
   "execution_count": 65,
   "metadata": {},
   "outputs": [],
   "source": [
    "def simple_lstm_model(num_words=NUM_WORDS, max_len=MAX_LEN):\n",
    "    model = Sequential()\n",
    "    model.add(layers.Embedding(num_words, 16, input_length=max_len))\n",
    "    model.add(layers.LSTM(32))\n",
    "    model.add(layers.Dense(256, activation='relu'))\n",
    "    model.add(layers.Dropout(0.5))\n",
    "    model.add(layers.Dense(1, activation='sigmoid'))\n",
    "    model.compile(optimizer='rmsprop', loss='binary_crossentropy', metrics=['accuracy'])\n",
    "    return model"
   ]
  },
  {
   "cell_type": "code",
   "execution_count": 66,
   "metadata": {
    "tags": []
   },
   "outputs": [
    {
     "output_type": "stream",
     "name": "stdout",
     "text": "Model: &quot;sequential_1&quot;\n_________________________________________________________________\nLayer (type)                 Output Shape              Param #   \n=================================================================\nembedding (Embedding)        (None, 100, 16)           128000    \n_________________________________________________________________\nlstm (LSTM)                  (None, 32)                6272      \n_________________________________________________________________\ndense (Dense)                (None, 256)               8448      \n_________________________________________________________________\ndropout (Dropout)            (None, 256)               0         \n_________________________________________________________________\ndense_1 (Dense)              (None, 1)                 257       \n=================================================================\nTotal params: 142,977\nTrainable params: 142,977\nNon-trainable params: 0\n_________________________________________________________________\n"
    }
   ],
   "source": [
    "model = simple_lstm_model()\n",
    "model.summary()"
   ]
  },
  {
   "source": [
    "Let's train this network!"
   ],
   "cell_type": "markdown",
   "metadata": {}
  },
  {
   "cell_type": "code",
   "execution_count": 67,
   "metadata": {
    "tags": []
   },
   "outputs": [
    {
     "output_type": "stream",
     "name": "stdout",
     "text": "Epoch 1/10\n112/112 [==============================] - 1s 11ms/step - loss: 0.2641 - accuracy: 0.8979 - val_loss: 0.1004 - val_accuracy: 0.9574\nEpoch 2/10\n112/112 [==============================] - 1s 7ms/step - loss: 0.1094 - accuracy: 0.9630 - val_loss: 0.0607 - val_accuracy: 0.9776\nEpoch 3/10\n112/112 [==============================] - 1s 7ms/step - loss: 0.0552 - accuracy: 0.9851 - val_loss: 0.0534 - val_accuracy: 0.9821\nEpoch 4/10\n112/112 [==============================] - 1s 7ms/step - loss: 0.0402 - accuracy: 0.9877 - val_loss: 0.0523 - val_accuracy: 0.9843\nEpoch 5/10\n112/112 [==============================] - 1s 7ms/step - loss: 0.0311 - accuracy: 0.9910 - val_loss: 0.0703 - val_accuracy: 0.9787\nEpoch 6/10\n112/112 [==============================] - 1s 8ms/step - loss: 0.0248 - accuracy: 0.9927 - val_loss: 0.1265 - val_accuracy: 0.9619\nEpoch 7/10\n112/112 [==============================] - 1s 7ms/step - loss: 0.0215 - accuracy: 0.9933 - val_loss: 0.0738 - val_accuracy: 0.9843\nEpoch 8/10\n112/112 [==============================] - 1s 7ms/step - loss: 0.0174 - accuracy: 0.9950 - val_loss: 0.1048 - val_accuracy: 0.9731\nEpoch 9/10\n112/112 [==============================] - 1s 7ms/step - loss: 0.0157 - accuracy: 0.9952 - val_loss: 0.0828 - val_accuracy: 0.9776\nEpoch 10/10\n112/112 [==============================] - 1s 7ms/step - loss: 0.0121 - accuracy: 0.9961 - val_loss: 0.0957 - val_accuracy: 0.9776\n"
    }
   ],
   "source": [
    "history = model.fit(X_train, y_train, epochs=10, batch_size=32, validation_split=0.2)"
   ]
  },
  {
   "source": [
    "The task seemed quite easy for a network. Let's make sure it is indeed easy on a test set, as sometimes the network can overfit to train as well as val set."
   ],
   "cell_type": "markdown",
   "metadata": {}
  },
  {
   "cell_type": "code",
   "execution_count": 68,
   "metadata": {
    "tags": []
   },
   "outputs": [
    {
     "output_type": "stream",
     "name": "stdout",
     "text": "35/35 [==============================] - 0s 4ms/step - loss: 0.0871 - accuracy: 0.9767\n"
    },
    {
     "output_type": "execute_result",
     "data": {
      "text/plain": "[0.08709598332643509, 0.9766815900802612]"
     },
     "metadata": {},
     "execution_count": 68
    }
   ],
   "source": [
    "model.evaluate(X_test, y_test)"
   ]
  },
  {
   "source": [
    "Seems like our network is great! But is it that great when it comes to e-mail spam? Let's check it out!"
   ],
   "cell_type": "markdown",
   "metadata": {}
  },
  {
   "cell_type": "code",
   "execution_count": 70,
   "metadata": {},
   "outputs": [],
   "source": [
    "mail_spam_csv = pd.read_csv(r'datasets\\mail-spam-collection\\spam_ham_dataset.csv')"
   ]
  },
  {
   "cell_type": "code",
   "execution_count": 71,
   "metadata": {},
   "outputs": [
    {
     "output_type": "execute_result",
     "data": {
      "text/plain": "   Unnamed: 0 label                                               text  \\\n0         605   ham  Subject: enron methanol ; meter # : 988291\\r\\n...   \n1        2349   ham  Subject: hpl nom for january 9 , 2001\\r\\n( see...   \n2        3624   ham  Subject: neon retreat\\r\\nho ho ho , we &#39; re ar...   \n3        4685  spam  Subject: photoshop , windows , office . cheap ...   \n4        2030   ham  Subject: re : indian springs\\r\\nthis deal is t...   \n\n   label_num  \n0          0  \n1          0  \n2          0  \n3          1  \n4          0  ",
      "text/html": "<div>\n<style scoped>\n    .dataframe tbody tr th:only-of-type {\n        vertical-align: middle;\n    }\n\n    .dataframe tbody tr th {\n        vertical-align: top;\n    }\n\n    .dataframe thead th {\n        text-align: right;\n    }\n</style>\n<table border=\"1\" class=\"dataframe\">\n  <thead>\n    <tr style=\"text-align: right;\">\n      <th></th>\n      <th>Unnamed: 0</th>\n      <th>label</th>\n      <th>text</th>\n      <th>label_num</th>\n    </tr>\n  </thead>\n  <tbody>\n    <tr>\n      <th>0</th>\n      <td>605</td>\n      <td>ham</td>\n      <td>Subject: enron methanol ; meter # : 988291\\r\\n...</td>\n      <td>0</td>\n    </tr>\n    <tr>\n      <th>1</th>\n      <td>2349</td>\n      <td>ham</td>\n      <td>Subject: hpl nom for january 9 , 2001\\r\\n( see...</td>\n      <td>0</td>\n    </tr>\n    <tr>\n      <th>2</th>\n      <td>3624</td>\n      <td>ham</td>\n      <td>Subject: neon retreat\\r\\nho ho ho , we ' re ar...</td>\n      <td>0</td>\n    </tr>\n    <tr>\n      <th>3</th>\n      <td>4685</td>\n      <td>spam</td>\n      <td>Subject: photoshop , windows , office . cheap ...</td>\n      <td>1</td>\n    </tr>\n    <tr>\n      <th>4</th>\n      <td>2030</td>\n      <td>ham</td>\n      <td>Subject: re : indian springs\\r\\nthis deal is t...</td>\n      <td>0</td>\n    </tr>\n  </tbody>\n</table>\n</div>"
     },
     "metadata": {},
     "execution_count": 71
    }
   ],
   "source": [
    "mail_spam_csv.head(5)"
   ]
  },
  {
   "cell_type": "code",
   "execution_count": 72,
   "metadata": {},
   "outputs": [],
   "source": [
    "x_spam, y_spam = mail_spam_csv['text'].values, mail_spam_csv['label_num'].values"
   ]
  },
  {
   "cell_type": "code",
   "execution_count": 76,
   "metadata": {},
   "outputs": [],
   "source": [
    "x_spam_encoded = encode_dataset(x_spam, word_encoding)"
   ]
  },
  {
   "cell_type": "code",
   "execution_count": 80,
   "metadata": {},
   "outputs": [
    {
     "output_type": "execute_result",
     "data": {
      "text/plain": "485"
     },
     "metadata": {},
     "execution_count": 80
    }
   ],
   "source": [
    "len(x_spam_encoded[2])"
   ]
  },
  {
   "cell_type": "code",
   "execution_count": 83,
   "metadata": {},
   "outputs": [],
   "source": [
    "x_spam_padded = t_preprocessing.sequence.pad_sequences(x_spam_encoded, MAX_LEN)"
   ]
  },
  {
   "cell_type": "code",
   "execution_count": 84,
   "metadata": {
    "tags": []
   },
   "outputs": [
    {
     "output_type": "stream",
     "name": "stdout",
     "text": "162/162 [==============================] - 1s 4ms/step - loss: 3.4962 - accuracy: 0.6030\n"
    },
    {
     "output_type": "execute_result",
     "data": {
      "text/plain": "[3.496150493621826, 0.6029781699180603]"
     },
     "metadata": {},
     "execution_count": 84
    }
   ],
   "source": [
    "model.evaluate(x_spam_padded, y_spam)"
   ]
  },
  {
   "source": [
    "Ouch! The model did terribly! 60 percent is only a bit more than random guess!"
   ],
   "cell_type": "markdown",
   "metadata": {}
  },
  {
   "source": [
    "Just out of curiosity, let's see what are the lengths of the messages"
   ],
   "cell_type": "markdown",
   "metadata": {}
  },
  {
   "cell_type": "code",
   "execution_count": 99,
   "metadata": {},
   "outputs": [],
   "source": [
    "lengths = list(map(lambda x: len(x), x_spam_encoded))"
   ]
  },
  {
   "cell_type": "code",
   "execution_count": 102,
   "metadata": {},
   "outputs": [
    {
     "output_type": "display_data",
     "data": {
      "text/plain": "&lt;Figure size 432x288 with 1 Axes&gt;",
      "image/svg+xml": "<?xml version=\"1.0\" encoding=\"utf-8\" standalone=\"no\"?>\r\n<!DOCTYPE svg PUBLIC \"-//W3C//DTD SVG 1.1//EN\"\r\n  \"http://www.w3.org/Graphics/SVG/1.1/DTD/svg11.dtd\">\r\n<!-- Created with matplotlib (https://matplotlib.org/) -->\r\n<svg height=\"248.518125pt\" version=\"1.1\" viewBox=\"0 0 381.65 248.518125\" width=\"381.65pt\" xmlns=\"http://www.w3.org/2000/svg\" xmlns:xlink=\"http://www.w3.org/1999/xlink\">\r\n <defs>\r\n  <style type=\"text/css\">\r\n*{stroke-linecap:butt;stroke-linejoin:round;}\r\n  </style>\r\n </defs>\r\n <g id=\"figure_1\">\r\n  <g id=\"patch_1\">\r\n   <path d=\"M -0 248.518125 \r\nL 381.65 248.518125 \r\nL 381.65 0 \r\nL -0 0 \r\nz\r\n\" style=\"fill:#ffffff;\"/>\r\n  </g>\r\n  <g id=\"axes_1\">\r\n   <g id=\"patch_2\">\r\n    <path d=\"M 39.65 224.64 \r\nL 374.45 224.64 \r\nL 374.45 7.2 \r\nL 39.65 7.2 \r\nz\r\n\" style=\"fill:#e5e5e5;\"/>\r\n   </g>\r\n   <g id=\"matplotlib.axis_1\">\r\n    <g id=\"xtick_1\">\r\n     <g id=\"line2d_1\">\r\n      <path clip-path=\"url(#pfebac17561)\" d=\"M 54.868182 224.64 \r\nL 54.868182 7.2 \r\n\" style=\"fill:none;stroke:#ffffff;stroke-linecap:square;stroke-width:0.8;\"/>\r\n     </g>\r\n     <g id=\"line2d_2\">\r\n      <defs>\r\n       <path d=\"M 0 0 \r\nL 0 3.5 \r\n\" id=\"m9a7cc797b5\" style=\"stroke:#555555;stroke-width:0.8;\"/>\r\n      </defs>\r\n      <g>\r\n       <use style=\"fill:#555555;stroke:#555555;stroke-width:0.8;\" x=\"54.868182\" xlink:href=\"#m9a7cc797b5\" y=\"224.64\"/>\r\n      </g>\r\n     </g>\r\n     <g id=\"text_1\">\r\n      <!-- 0 -->\r\n      <defs>\r\n       <path d=\"M 31.78125 66.40625 \r\nQ 24.171875 66.40625 20.328125 58.90625 \r\nQ 16.5 51.421875 16.5 36.375 \r\nQ 16.5 21.390625 20.328125 13.890625 \r\nQ 24.171875 6.390625 31.78125 6.390625 \r\nQ 39.453125 6.390625 43.28125 13.890625 \r\nQ 47.125 21.390625 47.125 36.375 \r\nQ 47.125 51.421875 43.28125 58.90625 \r\nQ 39.453125 66.40625 31.78125 66.40625 \r\nz\r\nM 31.78125 74.21875 \r\nQ 44.046875 74.21875 50.515625 64.515625 \r\nQ 56.984375 54.828125 56.984375 36.375 \r\nQ 56.984375 17.96875 50.515625 8.265625 \r\nQ 44.046875 -1.421875 31.78125 -1.421875 \r\nQ 19.53125 -1.421875 13.0625 8.265625 \r\nQ 6.59375 17.96875 6.59375 36.375 \r\nQ 6.59375 54.828125 13.0625 64.515625 \r\nQ 19.53125 74.21875 31.78125 74.21875 \r\nz\r\n\" id=\"DejaVuSans-48\"/>\r\n      </defs>\r\n      <g style=\"fill:#555555;\" transform=\"translate(51.686932 239.238437)scale(0.1 -0.1)\">\r\n       <use xlink:href=\"#DejaVuSans-48\"/>\r\n      </g>\r\n     </g>\r\n    </g>\r\n    <g id=\"xtick_2\">\r\n     <g id=\"line2d_3\">\r\n      <path clip-path=\"url(#pfebac17561)\" d=\"M 115.740909 224.64 \r\nL 115.740909 7.2 \r\n\" style=\"fill:none;stroke:#ffffff;stroke-linecap:square;stroke-width:0.8;\"/>\r\n     </g>\r\n     <g id=\"line2d_4\">\r\n      <g>\r\n       <use style=\"fill:#555555;stroke:#555555;stroke-width:0.8;\" x=\"115.740909\" xlink:href=\"#m9a7cc797b5\" y=\"224.64\"/>\r\n      </g>\r\n     </g>\r\n     <g id=\"text_2\">\r\n      <!-- 100 -->\r\n      <defs>\r\n       <path d=\"M 12.40625 8.296875 \r\nL 28.515625 8.296875 \r\nL 28.515625 63.921875 \r\nL 10.984375 60.40625 \r\nL 10.984375 69.390625 \r\nL 28.421875 72.90625 \r\nL 38.28125 72.90625 \r\nL 38.28125 8.296875 \r\nL 54.390625 8.296875 \r\nL 54.390625 0 \r\nL 12.40625 0 \r\nz\r\n\" id=\"DejaVuSans-49\"/>\r\n      </defs>\r\n      <g style=\"fill:#555555;\" transform=\"translate(106.197159 239.238437)scale(0.1 -0.1)\">\r\n       <use xlink:href=\"#DejaVuSans-49\"/>\r\n       <use x=\"63.623047\" xlink:href=\"#DejaVuSans-48\"/>\r\n       <use x=\"127.246094\" xlink:href=\"#DejaVuSans-48\"/>\r\n      </g>\r\n     </g>\r\n    </g>\r\n    <g id=\"xtick_3\">\r\n     <g id=\"line2d_5\">\r\n      <path clip-path=\"url(#pfebac17561)\" d=\"M 176.613636 224.64 \r\nL 176.613636 7.2 \r\n\" style=\"fill:none;stroke:#ffffff;stroke-linecap:square;stroke-width:0.8;\"/>\r\n     </g>\r\n     <g id=\"line2d_6\">\r\n      <g>\r\n       <use style=\"fill:#555555;stroke:#555555;stroke-width:0.8;\" x=\"176.613636\" xlink:href=\"#m9a7cc797b5\" y=\"224.64\"/>\r\n      </g>\r\n     </g>\r\n     <g id=\"text_3\">\r\n      <!-- 200 -->\r\n      <defs>\r\n       <path d=\"M 19.1875 8.296875 \r\nL 53.609375 8.296875 \r\nL 53.609375 0 \r\nL 7.328125 0 \r\nL 7.328125 8.296875 \r\nQ 12.9375 14.109375 22.625 23.890625 \r\nQ 32.328125 33.6875 34.8125 36.53125 \r\nQ 39.546875 41.84375 41.421875 45.53125 \r\nQ 43.3125 49.21875 43.3125 52.78125 \r\nQ 43.3125 58.59375 39.234375 62.25 \r\nQ 35.15625 65.921875 28.609375 65.921875 \r\nQ 23.96875 65.921875 18.8125 64.3125 \r\nQ 13.671875 62.703125 7.8125 59.421875 \r\nL 7.8125 69.390625 \r\nQ 13.765625 71.78125 18.9375 73 \r\nQ 24.125 74.21875 28.421875 74.21875 \r\nQ 39.75 74.21875 46.484375 68.546875 \r\nQ 53.21875 62.890625 53.21875 53.421875 \r\nQ 53.21875 48.921875 51.53125 44.890625 \r\nQ 49.859375 40.875 45.40625 35.40625 \r\nQ 44.1875 33.984375 37.640625 27.21875 \r\nQ 31.109375 20.453125 19.1875 8.296875 \r\nz\r\n\" id=\"DejaVuSans-50\"/>\r\n      </defs>\r\n      <g style=\"fill:#555555;\" transform=\"translate(167.069886 239.238437)scale(0.1 -0.1)\">\r\n       <use xlink:href=\"#DejaVuSans-50\"/>\r\n       <use x=\"63.623047\" xlink:href=\"#DejaVuSans-48\"/>\r\n       <use x=\"127.246094\" xlink:href=\"#DejaVuSans-48\"/>\r\n      </g>\r\n     </g>\r\n    </g>\r\n    <g id=\"xtick_4\">\r\n     <g id=\"line2d_7\">\r\n      <path clip-path=\"url(#pfebac17561)\" d=\"M 237.486364 224.64 \r\nL 237.486364 7.2 \r\n\" style=\"fill:none;stroke:#ffffff;stroke-linecap:square;stroke-width:0.8;\"/>\r\n     </g>\r\n     <g id=\"line2d_8\">\r\n      <g>\r\n       <use style=\"fill:#555555;stroke:#555555;stroke-width:0.8;\" x=\"237.486364\" xlink:href=\"#m9a7cc797b5\" y=\"224.64\"/>\r\n      </g>\r\n     </g>\r\n     <g id=\"text_4\">\r\n      <!-- 300 -->\r\n      <defs>\r\n       <path d=\"M 40.578125 39.3125 \r\nQ 47.65625 37.796875 51.625 33 \r\nQ 55.609375 28.21875 55.609375 21.1875 \r\nQ 55.609375 10.40625 48.1875 4.484375 \r\nQ 40.765625 -1.421875 27.09375 -1.421875 \r\nQ 22.515625 -1.421875 17.65625 -0.515625 \r\nQ 12.796875 0.390625 7.625 2.203125 \r\nL 7.625 11.71875 \r\nQ 11.71875 9.328125 16.59375 8.109375 \r\nQ 21.484375 6.890625 26.8125 6.890625 \r\nQ 36.078125 6.890625 40.9375 10.546875 \r\nQ 45.796875 14.203125 45.796875 21.1875 \r\nQ 45.796875 27.640625 41.28125 31.265625 \r\nQ 36.765625 34.90625 28.71875 34.90625 \r\nL 20.21875 34.90625 \r\nL 20.21875 43.015625 \r\nL 29.109375 43.015625 \r\nQ 36.375 43.015625 40.234375 45.921875 \r\nQ 44.09375 48.828125 44.09375 54.296875 \r\nQ 44.09375 59.90625 40.109375 62.90625 \r\nQ 36.140625 65.921875 28.71875 65.921875 \r\nQ 24.65625 65.921875 20.015625 65.03125 \r\nQ 15.375 64.15625 9.8125 62.3125 \r\nL 9.8125 71.09375 \r\nQ 15.4375 72.65625 20.34375 73.4375 \r\nQ 25.25 74.21875 29.59375 74.21875 \r\nQ 40.828125 74.21875 47.359375 69.109375 \r\nQ 53.90625 64.015625 53.90625 55.328125 \r\nQ 53.90625 49.265625 50.4375 45.09375 \r\nQ 46.96875 40.921875 40.578125 39.3125 \r\nz\r\n\" id=\"DejaVuSans-51\"/>\r\n      </defs>\r\n      <g style=\"fill:#555555;\" transform=\"translate(227.942614 239.238437)scale(0.1 -0.1)\">\r\n       <use xlink:href=\"#DejaVuSans-51\"/>\r\n       <use x=\"63.623047\" xlink:href=\"#DejaVuSans-48\"/>\r\n       <use x=\"127.246094\" xlink:href=\"#DejaVuSans-48\"/>\r\n      </g>\r\n     </g>\r\n    </g>\r\n    <g id=\"xtick_5\">\r\n     <g id=\"line2d_9\">\r\n      <path clip-path=\"url(#pfebac17561)\" d=\"M 298.359091 224.64 \r\nL 298.359091 7.2 \r\n\" style=\"fill:none;stroke:#ffffff;stroke-linecap:square;stroke-width:0.8;\"/>\r\n     </g>\r\n     <g id=\"line2d_10\">\r\n      <g>\r\n       <use style=\"fill:#555555;stroke:#555555;stroke-width:0.8;\" x=\"298.359091\" xlink:href=\"#m9a7cc797b5\" y=\"224.64\"/>\r\n      </g>\r\n     </g>\r\n     <g id=\"text_5\">\r\n      <!-- 400 -->\r\n      <defs>\r\n       <path d=\"M 37.796875 64.3125 \r\nL 12.890625 25.390625 \r\nL 37.796875 25.390625 \r\nz\r\nM 35.203125 72.90625 \r\nL 47.609375 72.90625 \r\nL 47.609375 25.390625 \r\nL 58.015625 25.390625 \r\nL 58.015625 17.1875 \r\nL 47.609375 17.1875 \r\nL 47.609375 0 \r\nL 37.796875 0 \r\nL 37.796875 17.1875 \r\nL 4.890625 17.1875 \r\nL 4.890625 26.703125 \r\nz\r\n\" id=\"DejaVuSans-52\"/>\r\n      </defs>\r\n      <g style=\"fill:#555555;\" transform=\"translate(288.815341 239.238437)scale(0.1 -0.1)\">\r\n       <use xlink:href=\"#DejaVuSans-52\"/>\r\n       <use x=\"63.623047\" xlink:href=\"#DejaVuSans-48\"/>\r\n       <use x=\"127.246094\" xlink:href=\"#DejaVuSans-48\"/>\r\n      </g>\r\n     </g>\r\n    </g>\r\n    <g id=\"xtick_6\">\r\n     <g id=\"line2d_11\">\r\n      <path clip-path=\"url(#pfebac17561)\" d=\"M 359.231818 224.64 \r\nL 359.231818 7.2 \r\n\" style=\"fill:none;stroke:#ffffff;stroke-linecap:square;stroke-width:0.8;\"/>\r\n     </g>\r\n     <g id=\"line2d_12\">\r\n      <g>\r\n       <use style=\"fill:#555555;stroke:#555555;stroke-width:0.8;\" x=\"359.231818\" xlink:href=\"#m9a7cc797b5\" y=\"224.64\"/>\r\n      </g>\r\n     </g>\r\n     <g id=\"text_6\">\r\n      <!-- 500 -->\r\n      <defs>\r\n       <path d=\"M 10.796875 72.90625 \r\nL 49.515625 72.90625 \r\nL 49.515625 64.59375 \r\nL 19.828125 64.59375 \r\nL 19.828125 46.734375 \r\nQ 21.96875 47.46875 24.109375 47.828125 \r\nQ 26.265625 48.1875 28.421875 48.1875 \r\nQ 40.625 48.1875 47.75 41.5 \r\nQ 54.890625 34.8125 54.890625 23.390625 \r\nQ 54.890625 11.625 47.5625 5.09375 \r\nQ 40.234375 -1.421875 26.90625 -1.421875 \r\nQ 22.3125 -1.421875 17.546875 -0.640625 \r\nQ 12.796875 0.140625 7.71875 1.703125 \r\nL 7.71875 11.625 \r\nQ 12.109375 9.234375 16.796875 8.0625 \r\nQ 21.484375 6.890625 26.703125 6.890625 \r\nQ 35.15625 6.890625 40.078125 11.328125 \r\nQ 45.015625 15.765625 45.015625 23.390625 \r\nQ 45.015625 31 40.078125 35.4375 \r\nQ 35.15625 39.890625 26.703125 39.890625 \r\nQ 22.75 39.890625 18.8125 39.015625 \r\nQ 14.890625 38.140625 10.796875 36.28125 \r\nz\r\n\" id=\"DejaVuSans-53\"/>\r\n      </defs>\r\n      <g style=\"fill:#555555;\" transform=\"translate(349.688068 239.238437)scale(0.1 -0.1)\">\r\n       <use xlink:href=\"#DejaVuSans-53\"/>\r\n       <use x=\"63.623047\" xlink:href=\"#DejaVuSans-48\"/>\r\n       <use x=\"127.246094\" xlink:href=\"#DejaVuSans-48\"/>\r\n      </g>\r\n     </g>\r\n    </g>\r\n   </g>\r\n   <g id=\"matplotlib.axis_2\">\r\n    <g id=\"ytick_1\">\r\n     <g id=\"line2d_13\">\r\n      <path clip-path=\"url(#pfebac17561)\" d=\"M 39.65 224.64 \r\nL 374.45 224.64 \r\n\" style=\"fill:none;stroke:#ffffff;stroke-linecap:square;stroke-width:0.8;\"/>\r\n     </g>\r\n     <g id=\"line2d_14\">\r\n      <defs>\r\n       <path d=\"M 0 0 \r\nL -3.5 0 \r\n\" id=\"mf4f799fa8f\" style=\"stroke:#555555;stroke-width:0.8;\"/>\r\n      </defs>\r\n      <g>\r\n       <use style=\"fill:#555555;stroke:#555555;stroke-width:0.8;\" x=\"39.65\" xlink:href=\"#mf4f799fa8f\" y=\"224.64\"/>\r\n      </g>\r\n     </g>\r\n     <g id=\"text_7\">\r\n      <!-- 0 -->\r\n      <g style=\"fill:#555555;\" transform=\"translate(26.2875 228.439219)scale(0.1 -0.1)\">\r\n       <use xlink:href=\"#DejaVuSans-48\"/>\r\n      </g>\r\n     </g>\r\n    </g>\r\n    <g id=\"ytick_2\">\r\n     <g id=\"line2d_15\">\r\n      <path clip-path=\"url(#pfebac17561)\" d=\"M 39.65 198.141508 \r\nL 374.45 198.141508 \r\n\" style=\"fill:none;stroke:#ffffff;stroke-linecap:square;stroke-width:0.8;\"/>\r\n     </g>\r\n     <g id=\"line2d_16\">\r\n      <g>\r\n       <use style=\"fill:#555555;stroke:#555555;stroke-width:0.8;\" x=\"39.65\" xlink:href=\"#mf4f799fa8f\" y=\"198.141508\"/>\r\n      </g>\r\n     </g>\r\n     <g id=\"text_8\">\r\n      <!-- 200 -->\r\n      <g style=\"fill:#555555;\" transform=\"translate(13.5625 201.940727)scale(0.1 -0.1)\">\r\n       <use xlink:href=\"#DejaVuSans-50\"/>\r\n       <use x=\"63.623047\" xlink:href=\"#DejaVuSans-48\"/>\r\n       <use x=\"127.246094\" xlink:href=\"#DejaVuSans-48\"/>\r\n      </g>\r\n     </g>\r\n    </g>\r\n    <g id=\"ytick_3\">\r\n     <g id=\"line2d_17\">\r\n      <path clip-path=\"url(#pfebac17561)\" d=\"M 39.65 171.643016 \r\nL 374.45 171.643016 \r\n\" style=\"fill:none;stroke:#ffffff;stroke-linecap:square;stroke-width:0.8;\"/>\r\n     </g>\r\n     <g id=\"line2d_18\">\r\n      <g>\r\n       <use style=\"fill:#555555;stroke:#555555;stroke-width:0.8;\" x=\"39.65\" xlink:href=\"#mf4f799fa8f\" y=\"171.643016\"/>\r\n      </g>\r\n     </g>\r\n     <g id=\"text_9\">\r\n      <!-- 400 -->\r\n      <g style=\"fill:#555555;\" transform=\"translate(13.5625 175.442235)scale(0.1 -0.1)\">\r\n       <use xlink:href=\"#DejaVuSans-52\"/>\r\n       <use x=\"63.623047\" xlink:href=\"#DejaVuSans-48\"/>\r\n       <use x=\"127.246094\" xlink:href=\"#DejaVuSans-48\"/>\r\n      </g>\r\n     </g>\r\n    </g>\r\n    <g id=\"ytick_4\">\r\n     <g id=\"line2d_19\">\r\n      <path clip-path=\"url(#pfebac17561)\" d=\"M 39.65 145.144524 \r\nL 374.45 145.144524 \r\n\" style=\"fill:none;stroke:#ffffff;stroke-linecap:square;stroke-width:0.8;\"/>\r\n     </g>\r\n     <g id=\"line2d_20\">\r\n      <g>\r\n       <use style=\"fill:#555555;stroke:#555555;stroke-width:0.8;\" x=\"39.65\" xlink:href=\"#mf4f799fa8f\" y=\"145.144524\"/>\r\n      </g>\r\n     </g>\r\n     <g id=\"text_10\">\r\n      <!-- 600 -->\r\n      <defs>\r\n       <path d=\"M 33.015625 40.375 \r\nQ 26.375 40.375 22.484375 35.828125 \r\nQ 18.609375 31.296875 18.609375 23.390625 \r\nQ 18.609375 15.53125 22.484375 10.953125 \r\nQ 26.375 6.390625 33.015625 6.390625 \r\nQ 39.65625 6.390625 43.53125 10.953125 \r\nQ 47.40625 15.53125 47.40625 23.390625 \r\nQ 47.40625 31.296875 43.53125 35.828125 \r\nQ 39.65625 40.375 33.015625 40.375 \r\nz\r\nM 52.59375 71.296875 \r\nL 52.59375 62.3125 \r\nQ 48.875 64.0625 45.09375 64.984375 \r\nQ 41.3125 65.921875 37.59375 65.921875 \r\nQ 27.828125 65.921875 22.671875 59.328125 \r\nQ 17.53125 52.734375 16.796875 39.40625 \r\nQ 19.671875 43.65625 24.015625 45.921875 \r\nQ 28.375 48.1875 33.59375 48.1875 \r\nQ 44.578125 48.1875 50.953125 41.515625 \r\nQ 57.328125 34.859375 57.328125 23.390625 \r\nQ 57.328125 12.15625 50.6875 5.359375 \r\nQ 44.046875 -1.421875 33.015625 -1.421875 \r\nQ 20.359375 -1.421875 13.671875 8.265625 \r\nQ 6.984375 17.96875 6.984375 36.375 \r\nQ 6.984375 53.65625 15.1875 63.9375 \r\nQ 23.390625 74.21875 37.203125 74.21875 \r\nQ 40.921875 74.21875 44.703125 73.484375 \r\nQ 48.484375 72.75 52.59375 71.296875 \r\nz\r\n\" id=\"DejaVuSans-54\"/>\r\n      </defs>\r\n      <g style=\"fill:#555555;\" transform=\"translate(13.5625 148.943743)scale(0.1 -0.1)\">\r\n       <use xlink:href=\"#DejaVuSans-54\"/>\r\n       <use x=\"63.623047\" xlink:href=\"#DejaVuSans-48\"/>\r\n       <use x=\"127.246094\" xlink:href=\"#DejaVuSans-48\"/>\r\n      </g>\r\n     </g>\r\n    </g>\r\n    <g id=\"ytick_5\">\r\n     <g id=\"line2d_21\">\r\n      <path clip-path=\"url(#pfebac17561)\" d=\"M 39.65 118.646032 \r\nL 374.45 118.646032 \r\n\" style=\"fill:none;stroke:#ffffff;stroke-linecap:square;stroke-width:0.8;\"/>\r\n     </g>\r\n     <g id=\"line2d_22\">\r\n      <g>\r\n       <use style=\"fill:#555555;stroke:#555555;stroke-width:0.8;\" x=\"39.65\" xlink:href=\"#mf4f799fa8f\" y=\"118.646032\"/>\r\n      </g>\r\n     </g>\r\n     <g id=\"text_11\">\r\n      <!-- 800 -->\r\n      <defs>\r\n       <path d=\"M 31.78125 34.625 \r\nQ 24.75 34.625 20.71875 30.859375 \r\nQ 16.703125 27.09375 16.703125 20.515625 \r\nQ 16.703125 13.921875 20.71875 10.15625 \r\nQ 24.75 6.390625 31.78125 6.390625 \r\nQ 38.8125 6.390625 42.859375 10.171875 \r\nQ 46.921875 13.96875 46.921875 20.515625 \r\nQ 46.921875 27.09375 42.890625 30.859375 \r\nQ 38.875 34.625 31.78125 34.625 \r\nz\r\nM 21.921875 38.8125 \r\nQ 15.578125 40.375 12.03125 44.71875 \r\nQ 8.5 49.078125 8.5 55.328125 \r\nQ 8.5 64.0625 14.71875 69.140625 \r\nQ 20.953125 74.21875 31.78125 74.21875 \r\nQ 42.671875 74.21875 48.875 69.140625 \r\nQ 55.078125 64.0625 55.078125 55.328125 \r\nQ 55.078125 49.078125 51.53125 44.71875 \r\nQ 48 40.375 41.703125 38.8125 \r\nQ 48.828125 37.15625 52.796875 32.3125 \r\nQ 56.78125 27.484375 56.78125 20.515625 \r\nQ 56.78125 9.90625 50.3125 4.234375 \r\nQ 43.84375 -1.421875 31.78125 -1.421875 \r\nQ 19.734375 -1.421875 13.25 4.234375 \r\nQ 6.78125 9.90625 6.78125 20.515625 \r\nQ 6.78125 27.484375 10.78125 32.3125 \r\nQ 14.796875 37.15625 21.921875 38.8125 \r\nz\r\nM 18.3125 54.390625 \r\nQ 18.3125 48.734375 21.84375 45.5625 \r\nQ 25.390625 42.390625 31.78125 42.390625 \r\nQ 38.140625 42.390625 41.71875 45.5625 \r\nQ 45.3125 48.734375 45.3125 54.390625 \r\nQ 45.3125 60.0625 41.71875 63.234375 \r\nQ 38.140625 66.40625 31.78125 66.40625 \r\nQ 25.390625 66.40625 21.84375 63.234375 \r\nQ 18.3125 60.0625 18.3125 54.390625 \r\nz\r\n\" id=\"DejaVuSans-56\"/>\r\n      </defs>\r\n      <g style=\"fill:#555555;\" transform=\"translate(13.5625 122.445251)scale(0.1 -0.1)\">\r\n       <use xlink:href=\"#DejaVuSans-56\"/>\r\n       <use x=\"63.623047\" xlink:href=\"#DejaVuSans-48\"/>\r\n       <use x=\"127.246094\" xlink:href=\"#DejaVuSans-48\"/>\r\n      </g>\r\n     </g>\r\n    </g>\r\n    <g id=\"ytick_6\">\r\n     <g id=\"line2d_23\">\r\n      <path clip-path=\"url(#pfebac17561)\" d=\"M 39.65 92.14754 \r\nL 374.45 92.14754 \r\n\" style=\"fill:none;stroke:#ffffff;stroke-linecap:square;stroke-width:0.8;\"/>\r\n     </g>\r\n     <g id=\"line2d_24\">\r\n      <g>\r\n       <use style=\"fill:#555555;stroke:#555555;stroke-width:0.8;\" x=\"39.65\" xlink:href=\"#mf4f799fa8f\" y=\"92.14754\"/>\r\n      </g>\r\n     </g>\r\n     <g id=\"text_12\">\r\n      <!-- 1000 -->\r\n      <g style=\"fill:#555555;\" transform=\"translate(7.2 95.946759)scale(0.1 -0.1)\">\r\n       <use xlink:href=\"#DejaVuSans-49\"/>\r\n       <use x=\"63.623047\" xlink:href=\"#DejaVuSans-48\"/>\r\n       <use x=\"127.246094\" xlink:href=\"#DejaVuSans-48\"/>\r\n       <use x=\"190.869141\" xlink:href=\"#DejaVuSans-48\"/>\r\n      </g>\r\n     </g>\r\n    </g>\r\n    <g id=\"ytick_7\">\r\n     <g id=\"line2d_25\">\r\n      <path clip-path=\"url(#pfebac17561)\" d=\"M 39.65 65.649049 \r\nL 374.45 65.649049 \r\n\" style=\"fill:none;stroke:#ffffff;stroke-linecap:square;stroke-width:0.8;\"/>\r\n     </g>\r\n     <g id=\"line2d_26\">\r\n      <g>\r\n       <use style=\"fill:#555555;stroke:#555555;stroke-width:0.8;\" x=\"39.65\" xlink:href=\"#mf4f799fa8f\" y=\"65.649049\"/>\r\n      </g>\r\n     </g>\r\n     <g id=\"text_13\">\r\n      <!-- 1200 -->\r\n      <g style=\"fill:#555555;\" transform=\"translate(7.2 69.448267)scale(0.1 -0.1)\">\r\n       <use xlink:href=\"#DejaVuSans-49\"/>\r\n       <use x=\"63.623047\" xlink:href=\"#DejaVuSans-50\"/>\r\n       <use x=\"127.246094\" xlink:href=\"#DejaVuSans-48\"/>\r\n       <use x=\"190.869141\" xlink:href=\"#DejaVuSans-48\"/>\r\n      </g>\r\n     </g>\r\n    </g>\r\n    <g id=\"ytick_8\">\r\n     <g id=\"line2d_27\">\r\n      <path clip-path=\"url(#pfebac17561)\" d=\"M 39.65 39.150557 \r\nL 374.45 39.150557 \r\n\" style=\"fill:none;stroke:#ffffff;stroke-linecap:square;stroke-width:0.8;\"/>\r\n     </g>\r\n     <g id=\"line2d_28\">\r\n      <g>\r\n       <use style=\"fill:#555555;stroke:#555555;stroke-width:0.8;\" x=\"39.65\" xlink:href=\"#mf4f799fa8f\" y=\"39.150557\"/>\r\n      </g>\r\n     </g>\r\n     <g id=\"text_14\">\r\n      <!-- 1400 -->\r\n      <g style=\"fill:#555555;\" transform=\"translate(7.2 42.949775)scale(0.1 -0.1)\">\r\n       <use xlink:href=\"#DejaVuSans-49\"/>\r\n       <use x=\"63.623047\" xlink:href=\"#DejaVuSans-52\"/>\r\n       <use x=\"127.246094\" xlink:href=\"#DejaVuSans-48\"/>\r\n       <use x=\"190.869141\" xlink:href=\"#DejaVuSans-48\"/>\r\n      </g>\r\n     </g>\r\n    </g>\r\n    <g id=\"ytick_9\">\r\n     <g id=\"line2d_29\">\r\n      <path clip-path=\"url(#pfebac17561)\" d=\"M 39.65 12.652065 \r\nL 374.45 12.652065 \r\n\" style=\"fill:none;stroke:#ffffff;stroke-linecap:square;stroke-width:0.8;\"/>\r\n     </g>\r\n     <g id=\"line2d_30\">\r\n      <g>\r\n       <use style=\"fill:#555555;stroke:#555555;stroke-width:0.8;\" x=\"39.65\" xlink:href=\"#mf4f799fa8f\" y=\"12.652065\"/>\r\n      </g>\r\n     </g>\r\n     <g id=\"text_15\">\r\n      <!-- 1600 -->\r\n      <g style=\"fill:#555555;\" transform=\"translate(7.2 16.451283)scale(0.1 -0.1)\">\r\n       <use xlink:href=\"#DejaVuSans-49\"/>\r\n       <use x=\"63.623047\" xlink:href=\"#DejaVuSans-54\"/>\r\n       <use x=\"127.246094\" xlink:href=\"#DejaVuSans-48\"/>\r\n       <use x=\"190.869141\" xlink:href=\"#DejaVuSans-48\"/>\r\n      </g>\r\n     </g>\r\n    </g>\r\n   </g>\r\n   <g id=\"patch_3\">\r\n    <path clip-path=\"url(#pfebac17561)\" d=\"M 54.868182 224.64 \r\nL 85.304545 224.64 \r\nL 85.304545 17.554286 \r\nL 54.868182 17.554286 \r\nz\r\n\" style=\"fill:#e24a33;\"/>\r\n   </g>\r\n   <g id=\"patch_4\">\r\n    <path clip-path=\"url(#pfebac17561)\" d=\"M 85.304545 224.64 \r\nL 115.740909 224.64 \r\nL 115.740909 59.686888 \r\nL 85.304545 59.686888 \r\nz\r\n\" style=\"fill:#e24a33;\"/>\r\n   </g>\r\n   <g id=\"patch_5\">\r\n    <path clip-path=\"url(#pfebac17561)\" d=\"M 115.740909 224.64 \r\nL 146.177273 224.64 \r\nL 146.177273 137.989931 \r\nL 115.740909 137.989931 \r\nz\r\n\" style=\"fill:#e24a33;\"/>\r\n   </g>\r\n   <g id=\"patch_6\">\r\n    <path clip-path=\"url(#pfebac17561)\" d=\"M 146.177273 224.64 \r\nL 176.613636 224.64 \r\nL 176.613636 168.330705 \r\nL 146.177273 168.330705 \r\nz\r\n\" style=\"fill:#e24a33;\"/>\r\n   </g>\r\n   <g id=\"patch_7\">\r\n    <path clip-path=\"url(#pfebac17561)\" d=\"M 176.613636 224.64 \r\nL 207.05 224.64 \r\nL 207.05 184.362292 \r\nL 176.613636 184.362292 \r\nz\r\n\" style=\"fill:#e24a33;\"/>\r\n   </g>\r\n   <g id=\"patch_8\">\r\n    <path clip-path=\"url(#pfebac17561)\" d=\"M 207.05 224.64 \r\nL 237.486364 224.64 \r\nL 237.486364 198.274001 \r\nL 207.05 198.274001 \r\nz\r\n\" style=\"fill:#e24a33;\"/>\r\n   </g>\r\n   <g id=\"patch_9\">\r\n    <path clip-path=\"url(#pfebac17561)\" d=\"M 237.486364 224.64 \r\nL 267.922727 224.64 \r\nL 267.922727 206.88601 \r\nL 237.486364 206.88601 \r\nz\r\n\" style=\"fill:#e24a33;\"/>\r\n   </g>\r\n   <g id=\"patch_10\">\r\n    <path clip-path=\"url(#pfebac17561)\" d=\"M 267.922727 224.64 \r\nL 298.359091 224.64 \r\nL 298.359091 206.753518 \r\nL 267.922727 206.753518 \r\nz\r\n\" style=\"fill:#e24a33;\"/>\r\n   </g>\r\n   <g id=\"patch_11\">\r\n    <path clip-path=\"url(#pfebac17561)\" d=\"M 298.359091 224.64 \r\nL 328.795455 224.64 \r\nL 328.795455 210.728292 \r\nL 298.359091 210.728292 \r\nz\r\n\" style=\"fill:#e24a33;\"/>\r\n   </g>\r\n   <g id=\"patch_12\">\r\n    <path clip-path=\"url(#pfebac17561)\" d=\"M 328.795455 224.64 \r\nL 359.231818 224.64 \r\nL 359.231818 215.233035 \r\nL 328.795455 215.233035 \r\nz\r\n\" style=\"fill:#e24a33;\"/>\r\n   </g>\r\n   <g id=\"patch_13\">\r\n    <path d=\"M 39.65 224.64 \r\nL 39.65 7.2 \r\n\" style=\"fill:none;stroke:#ffffff;stroke-linecap:square;stroke-linejoin:miter;\"/>\r\n   </g>\r\n   <g id=\"patch_14\">\r\n    <path d=\"M 374.45 224.64 \r\nL 374.45 7.2 \r\n\" style=\"fill:none;stroke:#ffffff;stroke-linecap:square;stroke-linejoin:miter;\"/>\r\n   </g>\r\n   <g id=\"patch_15\">\r\n    <path d=\"M 39.65 224.64 \r\nL 374.45 224.64 \r\n\" style=\"fill:none;stroke:#ffffff;stroke-linecap:square;stroke-linejoin:miter;\"/>\r\n   </g>\r\n   <g id=\"patch_16\">\r\n    <path d=\"M 39.65 7.2 \r\nL 374.45 7.2 \r\n\" style=\"fill:none;stroke:#ffffff;stroke-linecap:square;stroke-linejoin:miter;\"/>\r\n   </g>\r\n  </g>\r\n </g>\r\n <defs>\r\n  <clipPath id=\"pfebac17561\">\r\n   <rect height=\"217.44\" width=\"334.8\" x=\"39.65\" y=\"7.2\"/>\r\n  </clipPath>\r\n </defs>\r\n</svg>\r\n",
      "image/png": "[encoded data removed]"
     },
     "metadata": {}
    }
   ],
   "source": [
    "plt.hist(lengths, range=(0,500))\n",
    "plt.show()"
   ]
  },
  {
   "source": [
    "We clearly see, that the messages are much longer than sms messages. Well, it was quite obvious, but it's always nice to confirm. Let's check the encodings."
   ],
   "cell_type": "markdown",
   "metadata": {}
  },
  {
   "source": [
    " Just for kicks let's check the encoding of e-mails. We will count the occurences of the codes in encoding"
   ],
   "cell_type": "markdown",
   "metadata": {}
  },
  {
   "cell_type": "code",
   "execution_count": 97,
   "metadata": {},
   "outputs": [],
   "source": [
    "import itertools\n",
    "c = Counter(itertools.chain(*x_spam_encoded))"
   ]
  },
  {
   "cell_type": "code",
   "execution_count": 98,
   "metadata": {},
   "outputs": [
    {
     "output_type": "execute_result",
     "data": {
      "text/plain": "Counter({7999: 285102,\n         40: 7161,\n         9: 7162,\n         4: 9813,\n         2776: 167,\n         44: 1357,\n         2: 20332,\n         5: 25613,\n         2295: 265,\n         1: 6379,\n         1034: 53,\n         3: 8159,\n         18: 7313,\n         1001: 285,\n         42: 1577,\n         161: 2922,\n         1070: 2404,\n         6497: 697,\n         5246: 257,\n         2813: 164,\n         76: 2997,\n         106: 3198,\n         2545: 38,\n         799: 7542,\n         187: 3435,\n         1579: 578,\n         27: 2021,\n         48: 4191,\n         898: 3034,\n         3555: 217,\n         576: 735,\n         1966: 231,\n         1010: 71,\n         12: 10505,\n         1442: 419,\n         414: 949,\n         86: 1200,\n         3328: 1097,\n         2208: 684,\n         2519: 860,\n         1170: 5,\n         39: 4340,\n         474: 1984,\n         218: 150,\n         19: 4767,\n         456: 299,\n         753: 16,\n         63: 994,\n         15: 10167,\n         271: 371,\n         54: 1588,\n         7391: 5,\n         7: 12815,\n         14: 3334,\n         1394: 9,\n         107: 367,\n         80: 848,\n         185: 193,\n         1364: 163,\n         24: 1082,\n         169: 139,\n         395: 325,\n         50: 476,\n         112: 403,\n         1738: 292,\n         1369: 652,\n         940: 517,\n         116: 2743,\n         53: 1010,\n         132: 2134,\n         55: 661,\n         646: 50,\n         2416: 2,\n         52: 1156,\n         29: 3734,\n         1611: 23,\n         922: 9,\n         59: 1680,\n         420: 140,\n         210: 1565,\n         283: 1043,\n         331: 299,\n         5646: 38,\n         22: 3387,\n         6470: 28,\n         36: 3986,\n         75: 291,\n         584: 359,\n         1341: 651,\n         959: 1345,\n         4381: 437,\n         21: 783,\n         588: 56,\n         421: 229,\n         79: 1480,\n         51: 1927,\n         3156: 160,\n         496: 123,\n         201: 1016,\n         31: 1275,\n         606: 116,\n         17: 4096,\n         115: 720,\n         3766: 8,\n         91: 2090,\n         207: 374,\n         745: 54,\n         362: 981,\n         3324: 69,\n         32: 5060,\n         347: 61,\n         1217: 25,\n         953: 22,\n         514: 97,\n         458: 286,\n         1076: 37,\n         846: 106,\n         23: 1049,\n         477: 64,\n         2628: 116,\n         5135: 44,\n         49: 498,\n         57: 354,\n         184: 1159,\n         10: 2570,\n         221: 839,\n         2843: 24,\n         209: 522,\n         2716: 105,\n         177: 1078,\n         1870: 258,\n         270: 231,\n         3414: 128,\n         510: 142,\n         224: 575,\n         1350: 109,\n         141: 756,\n         189: 3709,\n         783: 50,\n         215: 32,\n         225: 264,\n         131: 300,\n         1287: 5,\n         309: 63,\n         863: 115,\n         8: 7699,\n         327: 153,\n         5198: 3,\n         181: 762,\n         666: 122,\n         64: 949,\n         74: 935,\n         439: 71,\n         2626: 782,\n         407: 54,\n         111: 944,\n         548: 56,\n         3418: 28,\n         341: 28,\n         355: 20,\n         1040: 32,\n         696: 403,\n         250: 672,\n         167: 132,\n         726: 94,\n         1384: 112,\n         800: 83,\n         172: 159,\n         37: 757,\n         665: 130,\n         551: 82,\n         3627: 6,\n         6390: 2,\n         4948: 13,\n         461: 48,\n         369: 165,\n         2175: 27,\n         3219: 221,\n         228: 368,\n         157: 1403,\n         72: 3155,\n         120: 237,\n         344: 338,\n         1105: 21,\n         657: 832,\n         88: 599,\n         13: 4036,\n         817: 65,\n         34: 3135,\n         660: 392,\n         1626: 314,\n         33: 4132,\n         1864: 10,\n         2819: 30,\n         397: 83,\n         219: 201,\n         1174: 217,\n         2215: 4,\n         320: 277,\n         2733: 75,\n         139: 254,\n         38: 1380,\n         5807: 2,\n         4135: 26,\n         28: 1338,\n         121: 242,\n         425: 52,\n         26: 3079,\n         713: 40,\n         554: 44,\n         135: 86,\n         3070: 225,\n         429: 399,\n         1075: 81,\n         3591: 40,\n         7564: 24,\n         1576: 12,\n         7588: 17,\n         1126: 2827,\n         549: 158,\n         11: 985,\n         2171: 88,\n         3476: 14,\n         326: 299,\n         4806: 43,\n         2228: 264,\n         125: 1510,\n         568: 91,\n         1908: 70,\n         67: 1236,\n         508: 1206,\n         675: 23,\n         1262: 44,\n         3864: 230,\n         4038: 25,\n         243: 311,\n         3242: 219,\n         567: 329,\n         148: 966,\n         1614: 367,\n         2350: 81,\n         1948: 31,\n         3810: 6,\n         739: 366,\n         1345: 160,\n         915: 114,\n         1944: 137,\n         585: 1235,\n         1254: 92,\n         149: 1308,\n         453: 358,\n         450: 303,\n         129: 523,\n         1670: 125,\n         4401: 20,\n         5448: 35,\n         97: 464,\n         796: 935,\n         1030: 265,\n         45: 712,\n         277: 484,\n         235: 236,\n         4109: 39,\n         1570: 18,\n         553: 352,\n         830: 61,\n         262: 263,\n         337: 298,\n         7534: 105,\n         578: 191,\n         1409: 23,\n         65: 1007,\n         1297: 516,\n         4540: 23,\n         1790: 238,\n         862: 546,\n         3272: 480,\n         927: 15,\n         1467: 82,\n         89: 515,\n         147: 1976,\n         483: 890,\n         380: 255,\n         246: 79,\n         233: 311,\n         3565: 115,\n         154: 166,\n         996: 66,\n         2086: 89,\n         1329: 433,\n         4354: 87,\n         480: 243,\n         1414: 59,\n         105: 1996,\n         1006: 58,\n         6: 343,\n         3578: 156,\n         25: 2953,\n         3637: 173,\n         315: 105,\n         611: 456,\n         5528: 64,\n         4717: 37,\n         735: 179,\n         1732: 610,\n         7410: 40,\n         415: 105,\n         370: 127,\n         1304: 219,\n         394: 121,\n         1776: 21,\n         47: 514,\n         1506: 80,\n         501: 94,\n         7650: 10,\n         540: 526,\n         417: 137,\n         2389: 60,\n         1335: 74,\n         101: 1435,\n         5380: 342,\n         7455: 120,\n         1067: 129,\n         1769: 61,\n         392: 63,\n         1311: 149,\n         487: 195,\n         2094: 448,\n         1716: 120,\n         756: 215,\n         7436: 23,\n         5722: 3,\n         158: 143,\n         5291: 35,\n         1418: 197,\n         6458: 229,\n         515: 65,\n         706: 83,\n         517: 151,\n         6875: 45,\n         256: 129,\n         1281: 334,\n         674: 143,\n         447: 366,\n         288: 370,\n         2483: 99,\n         138: 562,\n         3624: 17,\n         308: 173,\n         1588: 40,\n         423: 131,\n         442: 84,\n         3998: 3,\n         411: 67,\n         1478: 5,\n         701: 124,\n         1825: 248,\n         536: 659,\n         562: 350,\n         643: 113,\n         3466: 1,\n         1278: 5,\n         333: 397,\n         7887: 241,\n         58: 172,\n         371: 126,\n         70: 596,\n         2675: 38,\n         1225: 88,\n         2317: 140,\n         133: 942,\n         1246: 213,\n         1379: 361,\n         1375: 163,\n         290: 42,\n         2562: 199,\n         1036: 202,\n         721: 522,\n         335: 86,\n         1646: 10,\n         3480: 6,\n         2503: 10,\n         95: 433,\n         4286: 296,\n         20: 2379,\n         2312: 437,\n         1167: 1297,\n         6246: 190,\n         1268: 1040,\n         3848: 451,\n         434: 2113,\n         62: 2532,\n         5205: 136,\n         7874: 134,\n         1545: 2371,\n         7799: 2889,\n         2236: 1586,\n         2535: 4386,\n         3123: 4,\n         338: 63,\n         1619: 85,\n         1688: 375,\n         1227: 517,\n         2956: 45,\n         569: 177,\n         191: 65,\n         356: 878,\n         1624: 528,\n         6284: 118,\n         7205: 101,\n         757: 39,\n         61: 527,\n         212: 424,\n         298: 542,\n         389: 115,\n         752: 12,\n         5352: 29,\n         636: 265,\n         2361: 35,\n         440: 99,\n         668: 381,\n         1749: 246,\n         2007: 111,\n         2408: 32,\n         2554: 51,\n         704: 1195,\n         110: 339,\n         5623: 118,\n         2691: 240,\n         5382: 279,\n         424: 67,\n         2052: 70,\n         1063: 101,\n         197: 620,\n         4483: 13,\n         3430: 119,\n         1481: 181,\n         449: 39,\n         2753: 27,\n         1285: 93,\n         5738: 227,\n         16: 694,\n         227: 426,\n         119: 1653,\n         1655: 231,\n         1356: 310,\n         949: 1154,\n         2572: 35,\n         351: 232,\n         4048: 70,\n         313: 226,\n         2849: 16,\n         1767: 40,\n         3244: 32,\n         541: 117,\n         1082: 190,\n         5631: 22,\n         986: 199,\n         4352: 225,\n         811: 796,\n         542: 86,\n         6522: 2,\n         3152: 117,\n         931: 236,\n         6297: 4,\n         2935: 412,\n         87: 341,\n         292: 162,\n         929: 219,\n         2830: 18,\n         7659: 28,\n         6924: 52,\n         972: 233,\n         3876: 478,\n         6880: 75,\n         6084: 35,\n         600: 59,\n         1146: 239,\n         2528: 69,\n         855: 234,\n         494: 246,\n         2604: 267,\n         3742: 58,\n         4526: 14,\n         252: 486,\n         2467: 544,\n         1125: 209,\n         805: 91,\n         2468: 28,\n         475: 96,\n         1765: 25,\n         3245: 93,\n         2758: 117,\n         1766: 23,\n         391: 297,\n         990: 102,\n         3712: 98,\n         3797: 50,\n         6731: 285,\n         465: 894,\n         479: 95,\n         6106: 29,\n         1960: 119,\n         537: 80,\n         883: 431,\n         1389: 506,\n         6436: 498,\n         1465: 82,\n         7504: 234,\n         5966: 184,\n         183: 664,\n         2688: 76,\n         4502: 76,\n         1696: 71,\n         3003: 48,\n         4679: 227,\n         1097: 152,\n         267: 1381,\n         5620: 387,\n         146: 534,\n         6449: 97,\n         667: 122,\n         1787: 178,\n         3212: 86,\n         2226: 116,\n         6362: 72,\n         4839: 75,\n         2930: 48,\n         1917: 186,\n         2238: 51,\n         3577: 66,\n         1301: 116,\n         6809: 202,\n         1033: 74,\n         3477: 38,\n         1153: 73,\n         1541: 604,\n         405: 82,\n         747: 102,\n         319: 73,\n         4928: 147,\n         1665: 30,\n         690: 86,\n         821: 30,\n         152: 104,\n         419: 340,\n         563: 94,\n         3613: 21,\n         1475: 52,\n         3581: 181,\n         2123: 52,\n         579: 1186,\n         7509: 99,\n         211: 221,\n         155: 420,\n         108: 1114,\n         2778: 214,\n         6526: 347,\n         476: 288,\n         3922: 28,\n         2676: 65,\n         7371: 28,\n         345: 101,\n         4783: 48,\n         3206: 178,\n         5841: 103,\n         4032: 23,\n         5961: 58,\n         7820: 64,\n         841: 179,\n         68: 386,\n         1266: 61,\n         4010: 31,\n         4476: 96,\n         2854: 191,\n         595: 216,\n         966: 170,\n         5850: 38,\n         7215: 1,\n         989: 71,\n         6774: 2,\n         788: 599,\n         907: 10,\n         214: 547,\n         7663: 342,\n         1229: 300,\n         2386: 332,\n         1577: 501,\n         4139: 345,\n         903: 918,\n         443: 2127,\n         2805: 127,\n         7668: 9,\n         3665: 10,\n         2313: 11,\n         1841: 3,\n         3622: 2,\n         2253: 17,\n         2494: 529,\n         942: 159,\n         1000: 191,\n         897: 131,\n         3251: 231,\n         1916: 146,\n         230: 431,\n         176: 1898,\n         2867: 283,\n         94: 19,\n         573: 74,\n         1455: 112,\n         1158: 72,\n         2837: 250,\n         2853: 399,\n         1503: 44,\n         6856: 21,\n         93: 378,\n         6445: 15,\n         5331: 233,\n         894: 234,\n         5655: 17,\n         1127: 31,\n         140: 633,\n         375: 1036,\n         625: 48,\n         5451: 18,\n         275: 302,\n         1265: 132,\n         179: 23,\n         226: 355,\n         1610: 123,\n         605: 87,\n         7681: 20,\n         1264: 206,\n         186: 239,\n         6318: 9,\n         1673: 10,\n         388: 155,\n         1530: 139,\n         761: 61,\n         346: 48,\n         295: 53,\n         3728: 3,\n         3871: 6,\n         381: 69,\n         1180: 107,\n         1361: 92,\n         503: 115,\n         1715: 237,\n         1527: 518,\n         1216: 26,\n         4136: 143,\n         566: 58,\n         190: 304,\n         1466: 28,\n         136: 476,\n         5538: 65,\n         4056: 83,\n         160: 294,\n         4036: 7,\n         4037: 24,\n         2621: 516,\n         6000: 9,\n         2544: 329,\n         2077: 568,\n         3546: 60,\n         671: 28,\n         3507: 1068,\n         2027: 127,\n         3277: 37,\n         2773: 425,\n         3866: 50,\n         299: 1092,\n         7878: 16,\n         5791: 27,\n         7316: 35,\n         1208: 98,\n         1517: 84,\n         317: 126,\n         205: 56,\n         5582: 78,\n         3247: 16,\n         4144: 23,\n         7866: 22,\n         2740: 18,\n         2153: 28,\n         4066: 21,\n         6457: 47,\n         1420: 407,\n         3377: 25,\n         2288: 108,\n         6129: 115,\n         7591: 165,\n         2928: 76,\n         1753: 35,\n         4710: 6,\n         7324: 49,\n         604: 84,\n         1152: 125,\n         6886: 23,\n         7926: 126,\n         7576: 176,\n         1113: 19,\n         2110: 69,\n         1797: 38,\n         6478: 29,\n         3369: 106,\n         1390: 34,\n         240: 153,\n         1504: 234,\n         1768: 60,\n         7446: 79,\n         843: 92,\n         1844: 118,\n         2038: 9,\n         6983: 95,\n         84: 213,\n         213: 185,\n         5950: 61,\n         1939: 47,\n         1258: 153,\n         7978: 710,\n         2475: 1108,\n         3415: 315,\n         939: 939,\n         653: 2343,\n         4028: 396,\n         1014: 848,\n         310: 451,\n         1393: 577,\n         2466: 187,\n         885: 160,\n         1500: 298,\n         6141: 44,\n         6920: 88,\n         166: 164,\n         1620: 919,\n         253: 697,\n         2251: 37,\n         4146: 227,\n         7771: 192,\n         2771: 224,\n         5986: 558,\n         4319: 309,\n         7835: 343,\n         3908: 70,\n         2927: 564,\n         4711: 220,\n         1451: 1336,\n         81: 512,\n         740: 191,\n         2701: 299,\n         895: 255,\n         910: 214,\n         3396: 621,\n         1319: 647,\n         5087: 201,\n         1288: 93,\n         7168: 71,\n         1003: 48,\n         406: 391,\n         168: 579,\n         1760: 66,\n         2033: 260,\n         7242: 38,\n         2331: 133,\n         3405: 836,\n         7033: 218,\n         263: 463,\n         100: 193,\n         360: 88,\n         1372: 95,\n         385: 249,\n         2450: 18,\n         278: 152,\n         877: 79,\n         684: 1440,\n         926: 161,\n         200: 602,\n         2423: 10,\n         1331: 302,\n         2207: 59,\n         307: 61,\n         7454: 16,\n         921: 162,\n         2356: 34,\n         4883: 62,\n         4221: 44,\n         1964: 71,\n         5247: 64,\n         7741: 59,\n         1860: 556,\n         5043: 24,\n         195: 774,\n         1286: 217,\n         126: 151,\n         1886: 884,\n         854: 1222,\n         170: 318,\n         5553: 179,\n         259: 572,\n         596: 292,\n         2850: 2,\n         6530: 37,\n         556: 117,\n         1509: 99,\n         3105: 37,\n         3172: 6,\n         3421: 18,\n         7830: 8,\n         1074: 7,\n         1895: 10,\n         454: 235,\n         2660: 18,\n         153: 251,\n         840: 52,\n         1051: 22,\n         4103: 55,\n         925: 787,\n         1061: 93,\n         1926: 129,\n         1069: 391,\n         516: 103,\n         3054: 20,\n         234: 578,\n         1318: 138,\n         3232: 395,\n         4206: 77,\n         3240: 99,\n         1066: 128,\n         2099: 35,\n         5887: 303,\n         361: 207,\n         56: 290,\n         470: 287,\n         759: 337,\n         2550: 624,\n         1077: 32,\n         466: 202,\n         109: 1018,\n         7531: 277,\n         6488: 338,\n         1648: 43,\n         7433: 15,\n         4339: 59,\n         2657: 20,\n         1055: 96,\n         171: 293,\n         3408: 440,\n         1093: 805,\n         3493: 53,\n         202: 303,\n         826: 177,\n         1308: 7,\n         258: 67,\n         789: 116,\n         621: 54,\n         323: 109,\n         451: 180,\n         2051: 37,\n         3393: 36,\n         5574: 8,\n         906: 150,\n         6617: 312,\n         698: 61,\n         5238: 32,\n         1942: 78,\n         2102: 24,\n         6602: 2,\n         2363: 86,\n         829: 26,\n         6003: 111,\n         1440: 118,\n         7586: 13,\n         1976: 27,\n         300: 406,\n         174: 394,\n         1021: 220,\n         518: 197,\n         1580: 41,\n         1241: 54,\n         6108: 5,\n         2922: 89,\n         1453: 22,\n         3044: 136,\n         707: 434,\n         118: 488,\n         4541: 7,\n         2209: 23,\n         3983: 61,\n         4035: 65,\n         3977: 18,\n         6551: 23,\n         5875: 1,\n         3486: 45,\n         5544: 42,\n         6775: 56,\n         3167: 195,\n         232: 115,\n         3333: 355,\n         2264: 24,\n         2820: 252,\n         2904: 21,\n         2071: 184,\n         5758: 6,\n         2817: 111,\n         4545: 28,\n         1119: 34,\n         650: 43,\n         114: 349,\n         7953: 12,\n         3972: 47,\n         4190: 106,\n         324: 78,\n         382: 89,\n         2083: 35,\n         2556: 31,\n         408: 101,\n         845: 44,\n         282: 135,\n         3812: 69,\n         677: 79,\n         142: 383,\n         2469: 54,\n         4347: 14,\n         3032: 16,\n         6806: 34,\n         7632: 20,\n         2050: 67,\n         5555: 75,\n         2593: 39,\n         1433: 29,\n         4055: 17,\n         3514: 3,\n         7870: 88,\n         1928: 65,\n         330: 317,\n         889: 140,\n         6498: 45,\n         1607: 69,\n         2845: 30,\n         2536: 42,\n         758: 17,\n         2190: 107,\n         909: 60,\n         1878: 111,\n         784: 57,\n         896: 39,\n         6646: 18,\n         507: 261,\n         645: 22,\n         7012: 19,\n         435: 157,\n         7323: 60,\n         7785: 26,\n         60: 215,\n         7739: 33,\n         7270: 72,\n         7639: 21,\n         1761: 172,\n         3621: 119,\n         4621: 53,\n         2206: 344,\n         3080: 110,\n         1605: 86,\n         5265: 403,\n         6446: 58,\n         444: 399,\n         3666: 19,\n         1973: 34,\n         531: 87,\n         490: 148,\n         1164: 37,\n         1907: 13,\n         6888: 4,\n         1867: 20,\n         268: 405,\n         1344: 101,\n         3145: 51,\n         4090: 11,\n         4152: 33,\n         3898: 12,\n         664: 34,\n         1347: 162,\n         849: 123,\n         7288: 17,\n         748: 235,\n         2268: 18,\n         1641: 143,\n         835: 19,\n         2179: 10,\n         1380: 26,\n         452: 113,\n         722: 291,\n         1811: 53,\n         203: 252,\n         1134: 147,\n         912: 19,\n         5554: 72,\n         325: 98,\n         1810: 20,\n         ...})"
     },
     "metadata": {},
     "execution_count": 98
    }
   ],
   "source": [
    "c"
   ]
  },
  {
   "source": [
    "Wow! Looks like majority of encoding are missing words! We lost so much information from the e-mail content. We do not know for sure, if this is the only problem, but it sure is a problem. Basically, what we see here is a data mismatch. This means that the data we tried to predict on was very different from the data that we trained our model on. Well, it's quite easy to imagine, e-mails are quite different form of communication than sms messages - both for vocab and for length."
   ],
   "cell_type": "markdown",
   "metadata": {}
  },
  {
   "source": [
    "If you are interested in experiments and analysis on sms & e-mail detection, try checking out sms_and_mail_spam.ipynb for more!"
   ],
   "cell_type": "markdown",
   "metadata": {}
  },
  {
   "cell_type": "code",
   "execution_count": null,
   "metadata": {},
   "outputs": [],
   "source": []
  },
  {
   "cell_type": "code",
   "execution_count": null,
   "metadata": {},
   "outputs": [],
   "source": []
  },
  {
   "cell_type": "code",
   "execution_count": null,
   "metadata": {},
   "outputs": [],
   "source": []
  }
 ]
}