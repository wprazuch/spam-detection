{
 "metadata": {
  "language_info": {
   "codemirror_mode": {
    "name": "ipython",
    "version": 3
   },
   "file_extension": ".py",
   "mimetype": "text/x-python",
   "name": "python",
   "nbconvert_exporter": "python",
   "pygments_lexer": "ipython3",
   "version": "3.6.10-final"
  },
  "orig_nbformat": 2,
  "kernelspec": {
   "name": "Python 3.6.10 64-bit ('deeplearning': conda)",
   "display_name": "Python 3.6.10 64-bit ('deeplearning': conda)",
   "metadata": {
    "interpreter": {
     "hash": "94798a07477d283dccef05b0adbefc0f5fa0f7f1dab85cfae6230d25b548a807"
    }
   }
  }
 },
 "nbformat": 4,
 "nbformat_minor": 2,
 "cells": [
  {
   "source": [
    "We will use request package to send a message on the server to determine whether it's spam or ham"
   ],
   "cell_type": "markdown",
   "metadata": {}
  },
  {
   "cell_type": "code",
   "execution_count": 37,
   "metadata": {},
   "outputs": [],
   "source": [
    "import requests\n",
    "import json\n",
    "import cv2\n",
    "\n",
    "addr = 'http://127.0.0.1:5000/'\n",
    "test_url = addr + '/detect_spam'\n",
    "\n",
    "content_type = 'charset'\n",
    "headers = {'content-type': content_type}\n",
    "\n",
    "from spam_detection.model_tools import load_data\n",
    "\n",
    "\n",
    "_, X, _, y = load_data()\n",
    "\n",
    "example = X[2]\n",
    "label = y[2]\n"
   ]
  },
  {
   "source": [
    "We loaded examplary message from our test dataset"
   ],
   "cell_type": "markdown",
   "metadata": {}
  },
  {
   "cell_type": "code",
   "execution_count": 38,
   "metadata": {},
   "outputs": [
    {
     "output_type": "execute_result",
     "data": {
      "text/plain": "&#39;Its ok my arm is feeling weak cuz i got a shot so we can go another time&#39;"
     },
     "metadata": {},
     "execution_count": 38
    }
   ],
   "source": [
    "example"
   ]
  },
  {
   "cell_type": "code",
   "execution_count": 39,
   "metadata": {
    "tags": []
   },
   "outputs": [
    {
     "output_type": "stream",
     "name": "stdout",
     "text": "DEBUG:urllib3.connectionpool:Starting new HTTP connection (1): 127.0.0.1:5000\nDEBUG:urllib3.connectionpool:http://127.0.0.1:5000 &quot;POST //detect_spam HTTP/1.1&quot; 200 5\n"
    }
   ],
   "source": [
    "response = requests.post(test_url, data=example, headers=headers)"
   ]
  },
  {
   "cell_type": "code",
   "execution_count": 40,
   "metadata": {},
   "outputs": [
    {
     "output_type": "execute_result",
     "data": {
      "text/plain": "&#39;&quot;ham&quot;&#39;"
     },
     "metadata": {},
     "execution_count": 40
    }
   ],
   "source": [
    "response.text"
   ]
  },
  {
   "cell_type": "code",
   "execution_count": 41,
   "metadata": {},
   "outputs": [
    {
     "output_type": "execute_result",
     "data": {
      "text/plain": "0.0"
     },
     "metadata": {},
     "execution_count": 41
    }
   ],
   "source": [
    "label"
   ]
  },
  {
   "source": [
    "The server returned ham, which is exactly class 0, as expected"
   ],
   "cell_type": "markdown",
   "metadata": {}
  },
  {
   "cell_type": "code",
   "execution_count": null,
   "metadata": {},
   "outputs": [],
   "source": []
  }
 ]
}